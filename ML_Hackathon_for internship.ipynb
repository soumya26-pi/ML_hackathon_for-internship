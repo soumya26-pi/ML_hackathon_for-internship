{
 "cells": [
  {
   "cell_type": "code",
   "execution_count": 1,
   "metadata": {},
   "outputs": [],
   "source": [
    "# Import all the required Libraries\n",
    "\n",
    "import pandas as pd\n",
    "import numpy as np\n",
    "\n",
    "import seaborn as sns\n",
    "import matplotlib.pyplot as plt\n",
    "import pandas as pd\n",
    "import matplotlib.pyplot as plt\n",
    "import seaborn as sns\n",
    "import numpy as np\n",
    "import datetime\n",
    "\n",
    "\n",
    "from sklearn.model_selection import train_test_split\n",
    "from sklearn.preprocessing import LabelEncoder\n",
    "from sklearn.model_selection import GridSearchCV\n",
    "from sklearn.model_selection import cross_val_score\n",
    "from sklearn.metrics import roc_curve, auc, confusion_matrix, classification_report, accuracy_score\n",
    "from sklearn.metrics import roc_auc_score\n",
    "from sklearn import metrics\n",
    "import warnings\n",
    "warnings.filterwarnings('ignore')\n",
    "\n",
    "\n",
    "from sklearn.linear_model import LogisticRegression\n",
    "from sklearn.naive_bayes import GaussianNB\n",
    "from sklearn.ensemble import RandomForestClassifier\n",
    "from sklearn.ensemble import AdaBoostClassifier\n",
    "from sklearn.tree import DecisionTreeClassifier\n",
    "from sklearn.neighbors import KNeighborsClassifier\n",
    "import xgboost as xgb # pip install xgboost\n",
    "from xgboost import XGBClassifier\n",
    "\n",
    "from sklearn.svm import SVC\n",
    "%matplotlib inline\n",
    "\n",
    "plt.style.use('fast')\n",
    "sns.set_style('whitegrid')"
   ]
  },
  {
   "cell_type": "markdown",
   "metadata": {},
   "source": [
    "# What is the type of machine learning problem at hand? (Supervised or Unsupervised)\n",
    "\n",
    "It is a supervised learning problem and supervised learning uses labeled input and output data, while an unsupervised learning algorithm does not. ... Unsupervised learning models, in contrast, work on their own to discover the inherent structure of unlabeled data and this is a labeled data so we have labeled data so we are using supervised learnig.\n",
    "What is the category of the machine learning problem at hand? (Classification or Regression?) Why?\n",
    "This ml problem is regression problem\n",
    "\n",
    "The main difference between Regression and Classification algorithms that Regression algorithms are used to predict the continuous values such as price, salary, age, etc. and Classification algorithms are used to predict/Classify the discrete values such as Male or Female, True or False, Spam or Not Spam.\n",
    "\n"
   ]
  },
  {
   "cell_type": "code",
   "execution_count": 2,
   "metadata": {},
   "outputs": [],
   "source": [
    "data=pd.read_csv('data (1).csv')#Read the csv file\n",
    "#This dataset represents the characteristics of x1, x2, y"
   ]
  },
  {
   "cell_type": "code",
   "execution_count": 3,
   "metadata": {},
   "outputs": [
    {
     "data": {
      "text/html": [
       "<div>\n",
       "<style scoped>\n",
       "    .dataframe tbody tr th:only-of-type {\n",
       "        vertical-align: middle;\n",
       "    }\n",
       "\n",
       "    .dataframe tbody tr th {\n",
       "        vertical-align: top;\n",
       "    }\n",
       "\n",
       "    .dataframe thead th {\n",
       "        text-align: right;\n",
       "    }\n",
       "</style>\n",
       "<table border=\"1\" class=\"dataframe\">\n",
       "  <thead>\n",
       "    <tr style=\"text-align: right;\">\n",
       "      <th></th>\n",
       "      <th>x1</th>\n",
       "      <th>x2</th>\n",
       "      <th>y</th>\n",
       "    </tr>\n",
       "  </thead>\n",
       "  <tbody>\n",
       "    <tr>\n",
       "      <th>0</th>\n",
       "      <td>-119.366669</td>\n",
       "      <td>115.000000</td>\n",
       "      <td>1</td>\n",
       "    </tr>\n",
       "    <tr>\n",
       "      <th>1</th>\n",
       "      <td>-101.108044</td>\n",
       "      <td>97.777159</td>\n",
       "      <td>1</td>\n",
       "    </tr>\n",
       "    <tr>\n",
       "      <th>2</th>\n",
       "      <td>-130.278658</td>\n",
       "      <td>106.767654</td>\n",
       "      <td>1</td>\n",
       "    </tr>\n",
       "    <tr>\n",
       "      <th>3</th>\n",
       "      <td>-114.703415</td>\n",
       "      <td>101.195477</td>\n",
       "      <td>1</td>\n",
       "    </tr>\n",
       "    <tr>\n",
       "      <th>4</th>\n",
       "      <td>-119.366669</td>\n",
       "      <td>115.000000</td>\n",
       "      <td>1</td>\n",
       "    </tr>\n",
       "  </tbody>\n",
       "</table>\n",
       "</div>"
      ],
      "text/plain": [
       "           x1          x2  y\n",
       "0 -119.366669  115.000000  1\n",
       "1 -101.108044   97.777159  1\n",
       "2 -130.278658  106.767654  1\n",
       "3 -114.703415  101.195477  1\n",
       "4 -119.366669  115.000000  1"
      ]
     },
     "execution_count": 3,
     "metadata": {},
     "output_type": "execute_result"
    }
   ],
   "source": [
    "data.head()"
   ]
  },
  {
   "cell_type": "code",
   "execution_count": 4,
   "metadata": {},
   "outputs": [
    {
     "data": {
      "text/plain": [
       "(2227, 3)"
      ]
     },
     "execution_count": 4,
     "metadata": {},
     "output_type": "execute_result"
    }
   ],
   "source": [
    "data.shape"
   ]
  },
  {
   "cell_type": "code",
   "execution_count": 5,
   "metadata": {},
   "outputs": [
    {
     "data": {
      "text/html": [
       "<div>\n",
       "<style scoped>\n",
       "    .dataframe tbody tr th:only-of-type {\n",
       "        vertical-align: middle;\n",
       "    }\n",
       "\n",
       "    .dataframe tbody tr th {\n",
       "        vertical-align: top;\n",
       "    }\n",
       "\n",
       "    .dataframe thead th {\n",
       "        text-align: right;\n",
       "    }\n",
       "</style>\n",
       "<table border=\"1\" class=\"dataframe\">\n",
       "  <thead>\n",
       "    <tr style=\"text-align: right;\">\n",
       "      <th></th>\n",
       "      <th>x1</th>\n",
       "      <th>x2</th>\n",
       "      <th>y</th>\n",
       "    </tr>\n",
       "  </thead>\n",
       "  <tbody>\n",
       "    <tr>\n",
       "      <th>count</th>\n",
       "      <td>2222.000000</td>\n",
       "      <td>2.224000e+03</td>\n",
       "      <td>2227.000000</td>\n",
       "    </tr>\n",
       "    <tr>\n",
       "      <th>mean</th>\n",
       "      <td>-4.818766</td>\n",
       "      <td>8.947626e+04</td>\n",
       "      <td>0.442299</td>\n",
       "    </tr>\n",
       "    <tr>\n",
       "      <th>std</th>\n",
       "      <td>74.939909</td>\n",
       "      <td>2.983323e+06</td>\n",
       "      <td>0.496771</td>\n",
       "    </tr>\n",
       "    <tr>\n",
       "      <th>min</th>\n",
       "      <td>-134.369160</td>\n",
       "      <td>-1.348761e+02</td>\n",
       "      <td>0.000000</td>\n",
       "    </tr>\n",
       "    <tr>\n",
       "      <th>25%</th>\n",
       "      <td>-71.757030</td>\n",
       "      <td>-8.012983e+01</td>\n",
       "      <td>0.000000</td>\n",
       "    </tr>\n",
       "    <tr>\n",
       "      <th>50%</th>\n",
       "      <td>-9.836555</td>\n",
       "      <td>-1.046151e+00</td>\n",
       "      <td>0.000000</td>\n",
       "    </tr>\n",
       "    <tr>\n",
       "      <th>75%</th>\n",
       "      <td>59.813962</td>\n",
       "      <td>6.389086e+01</td>\n",
       "      <td>1.000000</td>\n",
       "    </tr>\n",
       "    <tr>\n",
       "      <th>max</th>\n",
       "      <td>134.508687</td>\n",
       "      <td>1.000000e+08</td>\n",
       "      <td>1.000000</td>\n",
       "    </tr>\n",
       "  </tbody>\n",
       "</table>\n",
       "</div>"
      ],
      "text/plain": [
       "                x1            x2            y\n",
       "count  2222.000000  2.224000e+03  2227.000000\n",
       "mean     -4.818766  8.947626e+04     0.442299\n",
       "std      74.939909  2.983323e+06     0.496771\n",
       "min    -134.369160 -1.348761e+02     0.000000\n",
       "25%     -71.757030 -8.012983e+01     0.000000\n",
       "50%      -9.836555 -1.046151e+00     0.000000\n",
       "75%      59.813962  6.389086e+01     1.000000\n",
       "max     134.508687  1.000000e+08     1.000000"
      ]
     },
     "execution_count": 5,
     "metadata": {},
     "output_type": "execute_result"
    }
   ],
   "source": [
    "data.describe()"
   ]
  },
  {
   "cell_type": "code",
   "execution_count": 6,
   "metadata": {},
   "outputs": [
    {
     "name": "stdout",
     "output_type": "stream",
     "text": [
      "<class 'pandas.core.frame.DataFrame'>\n",
      "RangeIndex: 2227 entries, 0 to 2226\n",
      "Data columns (total 3 columns):\n",
      " #   Column  Non-Null Count  Dtype  \n",
      "---  ------  --------------  -----  \n",
      " 0   x1      2222 non-null   float64\n",
      " 1   x2      2224 non-null   float64\n",
      " 2   y       2227 non-null   int64  \n",
      "dtypes: float64(2), int64(1)\n",
      "memory usage: 52.3 KB\n"
     ]
    }
   ],
   "source": [
    "data.info()"
   ]
  },
  {
   "cell_type": "code",
   "execution_count": 7,
   "metadata": {},
   "outputs": [],
   "source": [
    "data.dropna(inplace=True)"
   ]
  },
  {
   "cell_type": "code",
   "execution_count": 8,
   "metadata": {},
   "outputs": [
    {
     "data": {
      "text/plain": [
       "x1    0\n",
       "x2    0\n",
       "y     0\n",
       "dtype: int64"
      ]
     },
     "execution_count": 8,
     "metadata": {},
     "output_type": "execute_result"
    }
   ],
   "source": [
    "data.isnull().sum()"
   ]
  },
  {
   "cell_type": "code",
   "execution_count": 9,
   "metadata": {},
   "outputs": [
    {
     "data": {
      "text/plain": [
       "(2219, 3)"
      ]
     },
     "execution_count": 9,
     "metadata": {},
     "output_type": "execute_result"
    }
   ],
   "source": [
    "data.shape"
   ]
  },
  {
   "cell_type": "code",
   "execution_count": 10,
   "metadata": {},
   "outputs": [
    {
     "data": {
      "text/plain": [
       "0    1238\n",
       "1     981\n",
       "Name: y, dtype: int64"
      ]
     },
     "execution_count": 10,
     "metadata": {},
     "output_type": "execute_result"
    }
   ],
   "source": [
    "data[\"y\"].value_counts()"
   ]
  },
  {
   "cell_type": "code",
   "execution_count": 11,
   "metadata": {},
   "outputs": [],
   "source": [
    "x=data.drop(\"y\",axis=1)\n",
    "y=data.y"
   ]
  },
  {
   "cell_type": "code",
   "execution_count": 12,
   "metadata": {},
   "outputs": [
    {
     "data": {
      "text/plain": [
       "<AxesSubplot:>"
      ]
     },
     "execution_count": 12,
     "metadata": {},
     "output_type": "execute_result"
    },
    {
     "data": {
      "image/png": "[encoded data removed]",
      "text/plain": [
       "<Figure size 432x288 with 2 Axes>"
      ]
     },
     "metadata": {},
     "output_type": "display_data"
    }
   ],
   "source": [
    "sns.heatmap(data)"
   ]
  },
  {
   "cell_type": "code",
   "execution_count": 13,
   "metadata": {},
   "outputs": [
    {
     "data": {
      "text/html": [
       "<div>\n",
       "<style scoped>\n",
       "    .dataframe tbody tr th:only-of-type {\n",
       "        vertical-align: middle;\n",
       "    }\n",
       "\n",
       "    .dataframe tbody tr th {\n",
       "        vertical-align: top;\n",
       "    }\n",
       "\n",
       "    .dataframe thead th {\n",
       "        text-align: right;\n",
       "    }\n",
       "</style>\n",
       "<table border=\"1\" class=\"dataframe\">\n",
       "  <thead>\n",
       "    <tr style=\"text-align: right;\">\n",
       "      <th></th>\n",
       "      <th>x1</th>\n",
       "      <th>x2</th>\n",
       "      <th>y</th>\n",
       "    </tr>\n",
       "  </thead>\n",
       "  <tbody>\n",
       "    <tr>\n",
       "      <th>x1</th>\n",
       "      <td>1.000000</td>\n",
       "      <td>0.037288</td>\n",
       "      <td>-0.120871</td>\n",
       "    </tr>\n",
       "    <tr>\n",
       "      <th>x2</th>\n",
       "      <td>0.037288</td>\n",
       "      <td>1.000000</td>\n",
       "      <td>-0.026735</td>\n",
       "    </tr>\n",
       "    <tr>\n",
       "      <th>y</th>\n",
       "      <td>-0.120871</td>\n",
       "      <td>-0.026735</td>\n",
       "      <td>1.000000</td>\n",
       "    </tr>\n",
       "  </tbody>\n",
       "</table>\n",
       "</div>"
      ],
      "text/plain": [
       "          x1        x2         y\n",
       "x1  1.000000  0.037288 -0.120871\n",
       "x2  0.037288  1.000000 -0.026735\n",
       "y  -0.120871 -0.026735  1.000000"
      ]
     },
     "execution_count": 13,
     "metadata": {},
     "output_type": "execute_result"
    }
   ],
   "source": [
    "corrmat=data.corr()\n",
    "corrmat"
   ]
  },
  {
   "cell_type": "code",
   "execution_count": 14,
   "metadata": {},
   "outputs": [
    {
     "data": {
      "image/png": "[encoded data removed]",
      "text/plain": [
       "<Figure size 2000x2000 with 2 Axes>"
      ]
     },
     "metadata": {},
     "output_type": "display_data"
    }
   ],
   "source": [
    "plt.figure(figsize=(20,20), dpi=100)\n",
    "sns.heatmap(corrmat,annot=True)\n",
    "plt.show()"
   ]
  },
  {
   "cell_type": "markdown",
   "metadata": {},
   "source": [
    "A heatmap is a data visualization technique that uses color to show how a value of interest changes depending on the values of two other variables.\n",
    "\n",
    "For example, you could use a heatmap to understand how air pollution varies according to the time of day across a set of cities.\n",
    "\n",
    "Another, perhaps more rare case of using heatmaps is to observe human behavior - you can create visualizations of how people use social media, how their answers on surveys changed through time, etc. These techniques can be very powerful for examining patterns in behavior, especially for psychological institutions who commonly send self-assessment surveys to patients."
   ]
  },
  {
   "cell_type": "code",
   "execution_count": 15,
   "metadata": {},
   "outputs": [
    {
     "data": {
      "text/html": [
       "<div>\n",
       "<style scoped>\n",
       "    .dataframe tbody tr th:only-of-type {\n",
       "        vertical-align: middle;\n",
       "    }\n",
       "\n",
       "    .dataframe tbody tr th {\n",
       "        vertical-align: top;\n",
       "    }\n",
       "\n",
       "    .dataframe thead th {\n",
       "        text-align: right;\n",
       "    }\n",
       "</style>\n",
       "<table border=\"1\" class=\"dataframe\">\n",
       "  <thead>\n",
       "    <tr style=\"text-align: right;\">\n",
       "      <th></th>\n",
       "      <th>x1</th>\n",
       "      <th>x2</th>\n",
       "      <th>y</th>\n",
       "    </tr>\n",
       "  </thead>\n",
       "  <tbody>\n",
       "    <tr>\n",
       "      <th>0</th>\n",
       "      <td>-119.366669</td>\n",
       "      <td>115.000000</td>\n",
       "      <td>1</td>\n",
       "    </tr>\n",
       "    <tr>\n",
       "      <th>1</th>\n",
       "      <td>-101.108044</td>\n",
       "      <td>97.777159</td>\n",
       "      <td>1</td>\n",
       "    </tr>\n",
       "    <tr>\n",
       "      <th>2</th>\n",
       "      <td>-130.278658</td>\n",
       "      <td>106.767654</td>\n",
       "      <td>1</td>\n",
       "    </tr>\n",
       "    <tr>\n",
       "      <th>3</th>\n",
       "      <td>-114.703415</td>\n",
       "      <td>101.195477</td>\n",
       "      <td>1</td>\n",
       "    </tr>\n",
       "    <tr>\n",
       "      <th>4</th>\n",
       "      <td>-119.366669</td>\n",
       "      <td>115.000000</td>\n",
       "      <td>1</td>\n",
       "    </tr>\n",
       "  </tbody>\n",
       "</table>\n",
       "</div>"
      ],
      "text/plain": [
       "           x1          x2  y\n",
       "0 -119.366669  115.000000  1\n",
       "1 -101.108044   97.777159  1\n",
       "2 -130.278658  106.767654  1\n",
       "3 -114.703415  101.195477  1\n",
       "4 -119.366669  115.000000  1"
      ]
     },
     "execution_count": 15,
     "metadata": {},
     "output_type": "execute_result"
    }
   ],
   "source": [
    "data.head()"
   ]
  },
  {
   "cell_type": "code",
   "execution_count": 16,
   "metadata": {},
   "outputs": [
    {
     "data": {
      "image/png": "[encoded data removed]",
      "text/plain": [
       "<Figure size 401.625x360 with 1 Axes>"
      ]
     },
     "metadata": {},
     "output_type": "display_data"
    }
   ],
   "source": [
    "sns.relplot(x='x1',y='x2',hue='y',data=data)\n",
    "plt.xticks(rotation=90)\n",
    "plt.show()"
   ]
  },
  {
   "cell_type": "code",
   "execution_count": 17,
   "metadata": {},
   "outputs": [
    {
     "data": {
      "text/plain": [
       "<AxesSubplot:xlabel='y', ylabel='Density'>"
      ]
     },
     "execution_count": 17,
     "metadata": {},
     "output_type": "execute_result"
    },
    {
     "data": {
      "image/png": "[encoded data removed]",
      "text/plain": [
       "<Figure size 864x864 with 4 Axes>"
      ]
     },
     "metadata": {},
     "output_type": "display_data"
    }
   ],
   "source": [
    "fix, ax=plt.subplots(2,2,figsize=(12,12))\n",
    "sns.distplot(data['x1'],ax=ax[0,0])\n",
    "sns.distplot(data['x2'],ax=ax[0,1])\n",
    "sns.distplot(data['y'],ax=ax[1,0])"
   ]
  },
  {
   "cell_type": "markdown",
   "metadata": {},
   "source": [
    " distplot plots a univariate distribution of observations. The distplot () function combines the matplotlib hist function with the seaborn kdeplot () and rugplot () functions. The plot below shows a simple distribution. It creats random values with random.randn (). This will work if you manually define values too."
   ]
  },
  {
   "cell_type": "code",
   "execution_count": 18,
   "metadata": {},
   "outputs": [
    {
     "data": {
      "text/plain": [
       "[<matplotlib.lines.Line2D at 0x19300edcc40>]"
      ]
     },
     "execution_count": 18,
     "metadata": {},
     "output_type": "execute_result"
    },
    {
     "data": {
      "image/png": "[encoded data removed]",
      "text/plain": [
       "<Figure size 432x288 with 1 Axes>"
      ]
     },
     "metadata": {},
     "output_type": "display_data"
    }
   ],
   "source": [
    "plt.plot(data.x1,data.x2)"
   ]
  },
  {
   "cell_type": "code",
   "execution_count": 19,
   "metadata": {},
   "outputs": [
    {
     "data": {
      "text/plain": [
       "[<matplotlib.lines.Line2D at 0x19300c47c70>]"
      ]
     },
     "execution_count": 19,
     "metadata": {},
     "output_type": "execute_result"
    },
    {
     "data": {
      "image/png": "[encoded data removed]",
      "text/plain": [
       "<Figure size 432x288 with 2 Axes>"
      ]
     },
     "metadata": {},
     "output_type": "display_data"
    }
   ],
   "source": [
    "axes1 = plt.subplot2grid (\n",
    "(7, 1), (0, 0), rowspan = 2, colspan = 1)\n",
    "axes2 = plt.subplot2grid (\n",
    "(7, 1), (2, 0), rowspan = 2, colspan = 1)\n",
    "axes1.plot(data.x1, data.x2)\n",
    "axes2.plot(data.x1, data.x2)"
   ]
  },
  {
   "cell_type": "code",
   "execution_count": 20,
   "metadata": {},
   "outputs": [
    {
     "data": {
      "image/png": "[encoded data removed]",
      "text/plain": [
       "<Figure size 432x288 with 1 Axes>"
      ]
     },
     "metadata": {},
     "output_type": "display_data"
    }
   ],
   "source": [
    "plt.plot(data.x1,data.x2, color='green', linewidth=3, marker='o', \n",
    "         markersize=15, linestyle='--')\n",
    "plt.title(\"Line Chart\")\n",
    "plt.ylabel('Y-Axis')\n",
    "plt.xlabel('X-Axis')\n",
    "plt.show()"
   ]
  },
  {
   "cell_type": "code",
   "execution_count": 21,
   "metadata": {},
   "outputs": [
    {
     "data": {
      "image/png": "[encoded data removed]",
      "text/plain": [
       "<Figure size 432x288 with 1 Axes>"
      ]
     },
     "metadata": {},
     "output_type": "display_data"
    }
   ],
   "source": [
    "plt.bar(data.x1, data.x2, color='green', edgecolor='blue', \n",
    "        linewidth=2) \n",
    "plt.show()"
   ]
  },
  {
   "cell_type": "code",
   "execution_count": 22,
   "metadata": {},
   "outputs": [],
   "source": [
    "def numeric_analysis_hist(feature1):\n",
    "    sns.set_style('whitegrid')    \n",
    "    plt.figure(figsize=(15,5))\n",
    "    plt.title(feature1+' Distribution',fontsize = 20) \n",
    "    plt.xlabel(feature1 , fontsize = 15)  \n",
    "    \n",
    "    dist = sns.distplot(data[feature1],color='g')"
   ]
  },
  {
   "cell_type": "markdown",
   "metadata": {},
   "source": [
    "# After the normalization of data\n",
    "Is the data distribution skewed? If highly skewed, do you still find outliers which you did not treat?¶\n"
   ]
  },
  {
   "cell_type": "code",
   "execution_count": 23,
   "metadata": {},
   "outputs": [
    {
     "data": {
      "image/png": "[encoded data removed]",
      "text/plain": [
       "<Figure size 1080x360 with 1 Axes>"
      ]
     },
     "metadata": {},
     "output_type": "display_data"
    }
   ],
   "source": [
    "numeric_analysis_hist('x1')"
   ]
  },
  {
   "cell_type": "markdown",
   "metadata": {},
   "source": [
    "## This is not normaly distributed."
   ]
  },
  {
   "cell_type": "code",
   "execution_count": null,
   "metadata": {},
   "outputs": [],
   "source": []
  },
  {
   "cell_type": "code",
   "execution_count": 24,
   "metadata": {},
   "outputs": [
    {
     "data": {
      "image/png": "[encoded data removed]",
      "text/plain": [
       "<Figure size 1080x360 with 1 Axes>"
      ]
     },
     "metadata": {},
     "output_type": "display_data"
    }
   ],
   "source": [
    "numeric_analysis_hist('x2')"
   ]
  },
  {
   "cell_type": "markdown",
   "metadata": {},
   "source": [
    "## This is left skewed data"
   ]
  },
  {
   "cell_type": "code",
   "execution_count": 25,
   "metadata": {},
   "outputs": [
    {
     "data": {
      "image/png": "[encoded data removed]",
      "text/plain": [
       "<Figure size 432x288 with 1 Axes>"
      ]
     },
     "metadata": {},
     "output_type": "display_data"
    }
   ],
   "source": [
    "import statsmodels.api as sm\n",
    "import scipy.stats as norm\n",
    "import pylab\n",
    "sm.qqplot(data['x1'],line='45')\n",
    "pylab.show()"
   ]
  },
  {
   "cell_type": "markdown",
   "metadata": {},
   "source": [
    "The QQ Plot allows us to see deviation of a normal distribution much better than in a Histogram or box plot.\n",
    "\n",
    "Now the distribution of data in this column increases a lot than before and the data too picked at the middle"
   ]
  },
  {
   "cell_type": "code",
   "execution_count": 26,
   "metadata": {},
   "outputs": [
    {
     "data": {
      "image/png": "[encoded data removed]",
      "text/plain": [
       "<Figure size 432x288 with 1 Axes>"
      ]
     },
     "metadata": {},
     "output_type": "display_data"
    }
   ],
   "source": [
    "plt.hist(data.x1, bins=25, color='green', edgecolor='blue',\n",
    "         linestyle='--', alpha=0.5)\n",
    "plt.title(\"x1\")\n",
    "plt.ylabel('Frequency')\n",
    "plt.xlabel('Total')\n",
    "  \n",
    "plt.show()"
   ]
  },
  {
   "cell_type": "code",
   "execution_count": 27,
   "metadata": {},
   "outputs": [
    {
     "data": {
      "image/png": "[encoded data removed]",
      "text/plain": [
       "<Figure size 432x288 with 1 Axes>"
      ]
     },
     "metadata": {},
     "output_type": "display_data"
    }
   ],
   "source": [
    "plt.hist(data.x2, bins=25, color='green', edgecolor='blue',\n",
    "         linestyle='--', alpha=0.5)\n",
    "plt.title(\"x2\")\n",
    "plt.ylabel('Frequency')\n",
    "plt.xlabel('Total')\n",
    "  \n",
    "plt.show()"
   ]
  },
  {
   "cell_type": "markdown",
   "metadata": {},
   "source": [
    "# 3D plot"
   ]
  },
  {
   "cell_type": "code",
   "execution_count": 28,
   "metadata": {},
   "outputs": [
    {
     "data": {
      "image/png": "[encoded data removed]",
      "text/plain": [
       "<Figure size 576x360 with 1 Axes>"
      ]
     },
     "metadata": {},
     "output_type": "display_data"
    }
   ],
   "source": [
    "sns.set(rc={'figure.figsize': (8, 5)})\n",
    "fig = plt.figure()\n",
    "ax = fig.add_subplot(111, projection='3d')\n",
    "ax.scatter(data.x1,data.x2, c='r', marker='o')\n",
    "ax.set_xlabel('X Label'), ax.set_ylabel('Y Label')\n",
    "plt.show()"
   ]
  },
  {
   "cell_type": "code",
   "execution_count": null,
   "metadata": {},
   "outputs": [],
   "source": [
    "\n",
    "\n"
   ]
  },
  {
   "cell_type": "code",
   "execution_count": 29,
   "metadata": {},
   "outputs": [
    {
     "data": {
      "image/png": "[encoded data removed]",
      "text/plain": [
       "<Figure size 576x360 with 1 Axes>"
      ]
     },
     "metadata": {},
     "output_type": "display_data"
    }
   ],
   "source": [
    "plt.scatter(data.x1,data.x2)\n",
    "plt.show()"
   ]
  },
  {
   "cell_type": "code",
   "execution_count": 30,
   "metadata": {},
   "outputs": [
    {
     "data": {
      "image/png": "[encoded data removed]",
      "text/plain": [
       "<Figure size 576x360 with 1 Axes>"
      ]
     },
     "metadata": {},
     "output_type": "display_data"
    }
   ],
   "source": [
    "plt.hist(data.x1)\n",
    "plt.show()"
   ]
  },
  {
   "cell_type": "markdown",
   "metadata": {},
   "source": [
    "Note: It is crucial to have balanced class distribution, i.e., there should be no significant difference between x1 and x2 classes (commonly x1 classes are more than x2 in the life  field). The models trained on datasets with balanced class distribution tend to be biased and show good performance toward minor knn."
   ]
  },
  {
   "cell_type": "markdown",
   "metadata": {},
   "source": [
    "The normal distribution is the most important probability distribution in statistics because it fits many natural phenomena. For example, heights, blood pressure, measurement error, and IQ scores follow the normal distribution. It is also known as the Gaussian distribution and the bell curve."
   ]
  },
  {
   "cell_type": "code",
   "execution_count": 31,
   "metadata": {},
   "outputs": [],
   "source": [
    "from sklearn.preprocessing import MinMaxScaler\n",
    "min_max = MinMaxScaler()"
   ]
  },
  {
   "cell_type": "markdown",
   "metadata": {},
   "source": [
    "Feature selection for model training\n",
    "For good predictions of the  outcome, it is essential to include the good independent variables (features) for fitting the regression model (e.g. variables that are not highly correlated). If you include all features, there are chances that you may not get all significant predictors in the model."
   ]
  },
  {
   "cell_type": "code",
   "execution_count": 32,
   "metadata": {},
   "outputs": [
    {
     "name": "stdout",
     "output_type": "stream",
     "text": [
      "x1\n",
      "x2\n"
     ]
    }
   ],
   "source": [
    "for col in data.columns:\n",
    "    if col != 'y':\n",
    "        print(col)\n",
    "        data[col] = min_max.fit_transform(data[[col]])"
   ]
  },
  {
   "cell_type": "code",
   "execution_count": 33,
   "metadata": {},
   "outputs": [],
   "source": [
    "from sklearn.model_selection import train_test_split\n",
    "x_train, x_test, y_train, y_test = train_test_split(x,y, train_size=0.8, test_size=0.2, random_state=100)"
   ]
  },
  {
   "cell_type": "markdown",
   "metadata": {},
   "source": [
    "# Logistic regression is another technique borrowed by machine learning from the field of statistics.\n",
    "The many names and terms used when describing logistic regression (like log odds and logit).\n",
    "The representation used for a logistic regression model.\n",
    "Techniques used to learn the coefficients of a logistic regression model from data.\n",
    "How to actually make predictions using a learned logistic regression model.\n",
    "Where to go for more information if you want to dig a little deeper."
   ]
  },
  {
   "cell_type": "code",
   "execution_count": 34,
   "metadata": {},
   "outputs": [
    {
     "data": {
      "text/plain": [
       "LogisticRegression(random_state=42)"
      ]
     },
     "execution_count": 34,
     "metadata": {},
     "output_type": "execute_result"
    }
   ],
   "source": [
    "log=LogisticRegression(random_state=42)\n",
    "    \n",
    "log.fit(x_train,y_train) #fit the model with x_train, y_train"
   ]
  },
  {
   "cell_type": "code",
   "execution_count": 35,
   "metadata": {},
   "outputs": [],
   "source": [
    "def generate_pred__logistic(modelname,model,x_train,x_test,y_train,y_test):\n",
    "    log=LogisticRegression(random_state=42)\n",
    "    \n",
    "    log.fit(x_train,y_train)\n",
    "    y_train_pred=log.predict(x_train)\n",
    "\n",
    "    \n",
    "    \n",
    "    print(\"------Evaluation metrics for training data set--------\")\n",
    "    Accuracy_train=metrics.accuracy_score(y_train,y_train_pred)\n",
    "    precision_train=metrics.precision_score(y_train,y_train_pred)\n",
    "    recall_train=metrics.recall_score(y_train,y_train_pred)\n",
    "    f1_score_train=metrics.f1_score(y_train,y_train_pred)\n",
    "    roc_auc_train=metrics.roc_auc_score(y_train,y_train_pred)\n",
    "    print(\"modelname-\",modelname)\n",
    "    print(\"Accuracy is \",Accuracy_train)\n",
    "    print(\"Precision score is \",precision_train)\n",
    "    print(\"Recall score\",recall_train)\n",
    "    print(\"f1 SCore score is \",f1_score_train)\n",
    "    print(\"Roc_Auc score is\",roc_auc_train)\n",
    "    \n",
    "    print(\"-------Evaluation metrics for test dataset--------\")\n",
    "    y_test_pred=log.predict(x_test)\n",
    "    Accuracy_test=metrics.accuracy_score(y_test,y_test_pred)\n",
    "    precision_test=metrics.precision_score(y_test,y_test_pred)\n",
    "    recall_test=metrics.recall_score(y_test,y_test_pred)\n",
    "    f1_score_test=metrics.f1_score(y_test,y_test_pred)\n",
    "    roc_auc_test=metrics.roc_auc_score(y_test,y_test_pred)\n",
    "    print(\"modelname-\",modelname)\n",
    "    print(\"Accuracy is \",Accuracy_test)\n",
    "    print(\"Precision score is \",precision_test)\n",
    "    print(\"Recall _score is\",recall_test)\n",
    "    print(\"f1 SCore score is \",f1_score_test)\n",
    "    print(\"Roc_Auc score is\",roc_auc_test)\n",
    "    "
   ]
  },
  {
   "cell_type": "code",
   "execution_count": null,
   "metadata": {},
   "outputs": [],
   "source": []
  },
  {
   "cell_type": "code",
   "execution_count": 36,
   "metadata": {},
   "outputs": [
    {
     "name": "stdout",
     "output_type": "stream",
     "text": [
      "------Evaluation metrics for training data set--------\n",
      "modelname- Logistic\n",
      "Accuracy is  0.5864788732394366\n",
      "Precision score is  0.5578703703703703\n",
      "Recall score 0.30739795918367346\n",
      "f1 SCore score is  0.3963815789473684\n",
      "Roc_Auc score is 0.5573316738400709\n",
      "-------Evaluation metrics for test dataset--------\n",
      "modelname- Logistic\n",
      "Accuracy is  0.5720720720720721\n",
      "Precision score is  0.5402298850574713\n",
      "Recall _score is 0.23857868020304568\n",
      "f1 SCore score is  0.3309859154929577\n",
      "Roc_Auc score is 0.5383176801824945\n"
     ]
    }
   ],
   "source": [
    "generate_pred__logistic(\"Logistic\",log,x_train,x_test,y_train,y_test)"
   ]
  },
  {
   "cell_type": "markdown",
   "metadata": {},
   "source": [
    "In the confusion matrix, diagonal numbers (79 and 50) indicates the correct predictions [true negatives (TN) and true positives (TP)] for the benign (0) and malignant (1) outcomes for test  datasets. The other numbers (7 and 7) indicates incorrect predictions [false positives (FP) and false negatives (FN)]"
   ]
  },
  {
   "cell_type": "code",
   "execution_count": 37,
   "metadata": {},
   "outputs": [
    {
     "data": {
      "text/html": [
       "<div>\n",
       "<style scoped>\n",
       "    .dataframe tbody tr th:only-of-type {\n",
       "        vertical-align: middle;\n",
       "    }\n",
       "\n",
       "    .dataframe tbody tr th {\n",
       "        vertical-align: top;\n",
       "    }\n",
       "\n",
       "    .dataframe thead th {\n",
       "        text-align: right;\n",
       "    }\n",
       "</style>\n",
       "<table border=\"1\" class=\"dataframe\">\n",
       "  <thead>\n",
       "    <tr style=\"text-align: right;\">\n",
       "      <th></th>\n",
       "      <th>Algorithm</th>\n",
       "      <th>Accuracy</th>\n",
       "      <th>Precision_score</th>\n",
       "      <th>Recall_Score</th>\n",
       "      <th>F1_score</th>\n",
       "      <th>roc_auc_score</th>\n",
       "    </tr>\n",
       "  </thead>\n",
       "  <tbody>\n",
       "    <tr>\n",
       "      <th>1</th>\n",
       "      <td>LogisticRegression_train</td>\n",
       "      <td>0.586479</td>\n",
       "      <td>0.55787</td>\n",
       "      <td>0.307398</td>\n",
       "      <td>0.396381</td>\n",
       "      <td>0.557332</td>\n",
       "    </tr>\n",
       "  </tbody>\n",
       "</table>\n",
       "</div>"
      ],
      "text/plain": [
       "                  Algorithm  Accuracy  Precision_score  Recall_Score  \\\n",
       "1  LogisticRegression_train  0.586479          0.55787      0.307398   \n",
       "\n",
       "   F1_score  roc_auc_score  \n",
       "1  0.396381       0.557332  "
      ]
     },
     "execution_count": 37,
     "metadata": {},
     "output_type": "execute_result"
    }
   ],
   "source": [
    "result_01 = pd.DataFrame({'Algorithm':['LogisticRegression_train'],'Accuracy':0.5864788,'Precision_score':0.557870,'Recall_Score':0.3073979,'F1_score':0.396381,'roc_auc_score':0.5573316},index={'1'})\n",
    "results = result_01[['Algorithm','Accuracy','Precision_score','Recall_Score','F1_score','roc_auc_score']]\n",
    "results"
   ]
  },
  {
   "cell_type": "markdown",
   "metadata": {},
   "source": [
    "In pattern recognition, information retrieval and classification (machine learning), precision (also called positive predictive value) is the fraction of relevant instances among the retrieved instances, while recall (also known as sensitivity) is the fraction of relevant instances that were retrieved."
   ]
  },
  {
   "cell_type": "code",
   "execution_count": 38,
   "metadata": {},
   "outputs": [
    {
     "data": {
      "text/html": [
       "<div>\n",
       "<style scoped>\n",
       "    .dataframe tbody tr th:only-of-type {\n",
       "        vertical-align: middle;\n",
       "    }\n",
       "\n",
       "    .dataframe tbody tr th {\n",
       "        vertical-align: top;\n",
       "    }\n",
       "\n",
       "    .dataframe thead th {\n",
       "        text-align: right;\n",
       "    }\n",
       "</style>\n",
       "<table border=\"1\" class=\"dataframe\">\n",
       "  <thead>\n",
       "    <tr style=\"text-align: right;\">\n",
       "      <th></th>\n",
       "      <th>Algorithm</th>\n",
       "      <th>Accuracy</th>\n",
       "      <th>Precision_score</th>\n",
       "      <th>Recall_Score</th>\n",
       "      <th>F1_score</th>\n",
       "      <th>roc_auc_score</th>\n",
       "    </tr>\n",
       "  </thead>\n",
       "  <tbody>\n",
       "    <tr>\n",
       "      <th>2</th>\n",
       "      <td>LogisticRegression_train</td>\n",
       "      <td>0.572072</td>\n",
       "      <td>0.54023</td>\n",
       "      <td>0.238579</td>\n",
       "      <td>0.330986</td>\n",
       "      <td>0.538318</td>\n",
       "    </tr>\n",
       "  </tbody>\n",
       "</table>\n",
       "</div>"
      ],
      "text/plain": [
       "                  Algorithm  Accuracy  Precision_score  Recall_Score  \\\n",
       "2  LogisticRegression_train  0.572072          0.54023      0.238579   \n",
       "\n",
       "   F1_score  roc_auc_score  \n",
       "2  0.330986       0.538318  "
      ]
     },
     "execution_count": 38,
     "metadata": {},
     "output_type": "execute_result"
    }
   ],
   "source": [
    "result_01 = pd.DataFrame({'Algorithm':['LogisticRegression_train'],'Accuracy':0.5720720,'Precision_score':0.5402298,'Recall_Score':0.2385786,'F1_score':0.3309859,'roc_auc_score':0.53831768},index={'2'})\n",
    "results = result_01[['Algorithm','Accuracy','Precision_score','Recall_Score','F1_score','roc_auc_score']]\n",
    "results"
   ]
  },
  {
   "cell_type": "code",
   "execution_count": 39,
   "metadata": {},
   "outputs": [],
   "source": [
    "penalty =['l1', 'l2', 'elasticnet', 'none']\n",
    "\n",
    "C = np.logspace(0, 4, 10)\n",
    "hyperparameters = dict(C=C, penalty=penalty)\n",
    "\n",
    "gridcv_log=GridSearchCV(estimator=log,param_grid=hyperparameters,cv=5,verbose=0)"
   ]
  },
  {
   "cell_type": "code",
   "execution_count": 40,
   "metadata": {},
   "outputs": [
    {
     "data": {
      "text/plain": [
       "GridSearchCV(cv=5, estimator=LogisticRegression(random_state=42),\n",
       "             param_grid={'C': array([1.00000000e+00, 2.78255940e+00, 7.74263683e+00, 2.15443469e+01,\n",
       "       5.99484250e+01, 1.66810054e+02, 4.64158883e+02, 1.29154967e+03,\n",
       "       3.59381366e+03, 1.00000000e+04]),\n",
       "                         'penalty': ['l1', 'l2', 'elasticnet', 'none']})"
      ]
     },
     "execution_count": 40,
     "metadata": {},
     "output_type": "execute_result"
    }
   ],
   "source": [
    "gridcv_log.fit(x_train,y_train)"
   ]
  },
  {
   "cell_type": "code",
   "execution_count": 41,
   "metadata": {},
   "outputs": [
    {
     "data": {
      "text/plain": [
       "{'C': 2.7825594022071245, 'penalty': 'l2'}"
      ]
     },
     "execution_count": 41,
     "metadata": {},
     "output_type": "execute_result"
    }
   ],
   "source": [
    "gridcv_log.best_params_"
   ]
  },
  {
   "cell_type": "code",
   "execution_count": 42,
   "metadata": {},
   "outputs": [
    {
     "data": {
      "text/plain": [
       "0.5864788732394366"
      ]
     },
     "execution_count": 42,
     "metadata": {},
     "output_type": "execute_result"
    }
   ],
   "source": [
    "gridcv_log.best_score_"
   ]
  },
  {
   "cell_type": "code",
   "execution_count": 43,
   "metadata": {},
   "outputs": [
    {
     "data": {
      "text/html": [
       "<div>\n",
       "<style scoped>\n",
       "    .dataframe tbody tr th:only-of-type {\n",
       "        vertical-align: middle;\n",
       "    }\n",
       "\n",
       "    .dataframe tbody tr th {\n",
       "        vertical-align: top;\n",
       "    }\n",
       "\n",
       "    .dataframe thead th {\n",
       "        text-align: right;\n",
       "    }\n",
       "</style>\n",
       "<table border=\"1\" class=\"dataframe\">\n",
       "  <thead>\n",
       "    <tr style=\"text-align: right;\">\n",
       "      <th></th>\n",
       "      <th>Algorithm</th>\n",
       "      <th>Accuracy</th>\n",
       "      <th>Precision_score</th>\n",
       "      <th>Recall_Score</th>\n",
       "      <th>F1_score</th>\n",
       "      <th>roc_auc_score</th>\n",
       "    </tr>\n",
       "  </thead>\n",
       "  <tbody>\n",
       "    <tr>\n",
       "      <th>3</th>\n",
       "      <td>LogisticRegression_gridcv_log.best_score_</td>\n",
       "      <td>0.586479</td>\n",
       "      <td>0.54023</td>\n",
       "      <td>0.238579</td>\n",
       "      <td>0.330986</td>\n",
       "      <td>0.538318</td>\n",
       "    </tr>\n",
       "  </tbody>\n",
       "</table>\n",
       "</div>"
      ],
      "text/plain": [
       "                                   Algorithm  Accuracy  Precision_score  \\\n",
       "3  LogisticRegression_gridcv_log.best_score_  0.586479          0.54023   \n",
       "\n",
       "   Recall_Score  F1_score  roc_auc_score  \n",
       "3      0.238579  0.330986       0.538318  "
      ]
     },
     "execution_count": 43,
     "metadata": {},
     "output_type": "execute_result"
    }
   ],
   "source": [
    "result_01 = pd.DataFrame({'Algorithm':['LogisticRegression_gridcv_log.best_score_'],'Accuracy':0.5864788,'Precision_score':0.5402298,'Recall_Score':0.2385786,'F1_score':0.3309859,'roc_auc_score':0.53831768},index={'3'})\n",
    "results = result_01[['Algorithm','Accuracy','Precision_score','Recall_Score','F1_score','roc_auc_score']]\n",
    "results"
   ]
  },
  {
   "cell_type": "markdown",
   "metadata": {},
   "source": [
    "# DecisionTreeClassifier"
   ]
  },
  {
   "cell_type": "markdown",
   "metadata": {},
   "source": [
    "Decision tree algorithm falls under the category of supervised learning. They can be used to solve both regression and classification problems.\n",
    "Decision tree uses the tree representation to solve the problem in which each leaf node corresponds to a class label and attributes are represented on the internal node of the tree.\n",
    "We can represent any boolean function on discrete attributes using the decision tree."
   ]
  },
  {
   "cell_type": "code",
   "execution_count": 44,
   "metadata": {},
   "outputs": [],
   "source": [
    "from sklearn.tree import export_graphviz\n",
    "from six import StringIO\n",
    "from IPython.display import Image\n",
    "from six import StringIO\n",
    "from sklearn.tree import export_graphviz\n",
    "import pydotplus,graphviz"
   ]
  },
  {
   "cell_type": "code",
   "execution_count": 45,
   "metadata": {},
   "outputs": [
    {
     "data": {
      "text/plain": [
       "DecisionTreeClassifier(random_state=42)"
      ]
     },
     "execution_count": 45,
     "metadata": {},
     "output_type": "execute_result"
    }
   ],
   "source": [
    "\n",
    "DT=DecisionTreeClassifier(random_state=42)\n",
    "    \n",
    "DT.fit(x_train,y_train)"
   ]
  },
  {
   "cell_type": "code",
   "execution_count": null,
   "metadata": {},
   "outputs": [],
   "source": []
  },
  {
   "cell_type": "markdown",
   "metadata": {},
   "source": [
    "Gini index is a measure of impurity or purity used while creating a decision tree in the CART (Classification and Regression Tree) algorithm.\n",
    "ntropy helps us to build an appropriate decision tree for selecting the best splitter. Entropy can be defined as a measure of the purity of the sub split. Entropy always lies between 0 to 1. The entropy of any split can be calculated by this formula."
   ]
  },
  {
   "cell_type": "code",
   "execution_count": 47,
   "metadata": {},
   "outputs": [],
   "source": [
    "def generate_pred__DT(modelname,model,x_train,x_test,y_train,y_test):\n",
    "    DT=DecisionTreeClassifier(random_state=42)\n",
    "    \n",
    "    DT.fit(x_train,y_train)\n",
    "    y_train_pred=DT.predict(x_train)\n",
    "\n",
    "    \n",
    "    \n",
    "    print(\"------Evaluation metrics for training data set--------\")\n",
    "    Accuracy_train=metrics.accuracy_score(y_train,y_train_pred)\n",
    "    precision_train=metrics.precision_score(y_train,y_train_pred)\n",
    "    recall_train=metrics.recall_score(y_train,y_train_pred)\n",
    "    f1_score_train=metrics.f1_score(y_train,y_train_pred)\n",
    "    roc_auc_train=metrics.roc_auc_score(y_train,y_train_pred)\n",
    "    recall=metrics.recall_score(y_train,y_train_pred)\n",
    "    print(\"modelname-\",modelname)\n",
    "    print(\"Accuracy is \",Accuracy_train)\n",
    "    print(\"Precision score is \",precision_train)\n",
    "    print(\"f1 SCore score is \",f1_score_train)\n",
    "    print(\"Roc_Auc score is\",roc_auc_train)\n",
    "    print(\"recall score is\",recall)\n",
    "    \n",
    "    print(\"-------Evaluation metrics for test dataset--------\")\n",
    "    y_test_pred=DT.predict(x_test)\n",
    "    Accuracy_test=metrics.accuracy_score(y_test,y_test_pred)\n",
    "    precision_test=metrics.precision_score(y_test,y_test_pred)\n",
    "    recall_test=metrics.recall_score(y_test,y_test_pred)\n",
    "    f1_score_test=metrics.f1_score(y_test,y_test_pred)\n",
    "    roc_auc_test=metrics.roc_auc_score(y_test,y_test_pred)\n",
    "    recall=metrics.recall_score(y_test,y_test_pred)\n",
    "    print(\"modelname-\",modelname)\n",
    "    print(\"Accuracy is \",Accuracy_test)\n",
    "    print(\"Precision score is \",precision_test)\n",
    "    print(\"f1 SCore score is \",f1_score_test)\n",
    "    print(\"Roc_Auc score is\",roc_auc_test)\n",
    "    print(\"recall score is\",recall)\n",
    "    "
   ]
  },
  {
   "cell_type": "code",
   "execution_count": 48,
   "metadata": {},
   "outputs": [
    {
     "name": "stdout",
     "output_type": "stream",
     "text": [
      "------Evaluation metrics for training data set--------\n",
      "modelname- Decison Tree\n",
      "Accuracy is  1.0\n",
      "Precision score is  1.0\n",
      "f1 SCore score is  1.0\n",
      "Roc_Auc score is 1.0\n",
      "recall score is 1.0\n",
      "-------Evaluation metrics for test dataset--------\n",
      "modelname- Decison Tree\n",
      "Accuracy is  0.9324324324324325\n",
      "Precision score is  0.9154228855721394\n",
      "f1 SCore score is  0.9246231155778896\n",
      "Roc_Auc score is 0.9325921206765451\n",
      "recall score is 0.934010152284264\n"
     ]
    }
   ],
   "source": [
    "generate_pred__DT(\"Decison Tree\",DT,x_train,x_test,y_train,y_test)"
   ]
  },
  {
   "cell_type": "markdown",
   "metadata": {},
   "source": [
    "# observation\n",
    "In ROC, we can summarize the model predictability based on the area under curve (AUC). AUC range from 0.5 to 1 and a model with higher AUC has higher predictability. AUC refers to the probability that randomly chosen benign patients will have high chances of classification as benign than randomly chosen malignant patients.\n",
    "The fitted model has AUC 0.9324324324324325 suggesting better predictability in classification for dataset. The points lying above the chance level and close to grey line (perfect performance) represents a model with higher predictability.\n",
    "The accuracy of the fitted model is 0.9324324324324325. Even though accuracy is a measure of model performance, it is not alone enough. The AUC outperforms accuracy for model predictability. Two models can have the same accuracy but can differ in AUC. The models which are evaluated solely on accuracy may lead to misleading classification."
   ]
  },
  {
   "cell_type": "code",
   "execution_count": 49,
   "metadata": {},
   "outputs": [],
   "source": [
    "from sklearn.metrics import precision_score,recall_score,f1_score,roc_auc_score"
   ]
  },
  {
   "cell_type": "code",
   "execution_count": 50,
   "metadata": {},
   "outputs": [
    {
     "data": {
      "text/html": [
       "<div>\n",
       "<style scoped>\n",
       "    .dataframe tbody tr th:only-of-type {\n",
       "        vertical-align: middle;\n",
       "    }\n",
       "\n",
       "    .dataframe tbody tr th {\n",
       "        vertical-align: top;\n",
       "    }\n",
       "\n",
       "    .dataframe thead th {\n",
       "        text-align: right;\n",
       "    }\n",
       "</style>\n",
       "<table border=\"1\" class=\"dataframe\">\n",
       "  <thead>\n",
       "    <tr style=\"text-align: right;\">\n",
       "      <th></th>\n",
       "      <th>Algorithm</th>\n",
       "      <th>Accuracy</th>\n",
       "      <th>Precision_score</th>\n",
       "      <th>Recall_Score</th>\n",
       "      <th>F1_score</th>\n",
       "      <th>roc_auc_score</th>\n",
       "    </tr>\n",
       "  </thead>\n",
       "  <tbody>\n",
       "    <tr>\n",
       "      <th>4</th>\n",
       "      <td>DecisionTreeClassifier_para_Train</td>\n",
       "      <td>0.922432</td>\n",
       "      <td>0.915411</td>\n",
       "      <td>0.93401</td>\n",
       "      <td>0.92462</td>\n",
       "      <td>0.932592</td>\n",
       "    </tr>\n",
       "  </tbody>\n",
       "</table>\n",
       "</div>"
      ],
      "text/plain": [
       "                           Algorithm  Accuracy  Precision_score  Recall_Score  \\\n",
       "4  DecisionTreeClassifier_para_Train  0.922432         0.915411       0.93401   \n",
       "\n",
       "   F1_score  roc_auc_score  \n",
       "4   0.92462       0.932592  "
      ]
     },
     "execution_count": 50,
     "metadata": {},
     "output_type": "execute_result"
    }
   ],
   "source": [
    "result_01 = pd.DataFrame({'Algorithm':['DecisionTreeClassifier_para_Train'],'Accuracy':  0.9224324,'Precision_score':0.91541128,'Recall_Score':0.93401,'F1_score': 0.92462,'roc_auc_score':0.9325921},index={'4'})\n",
    "DecisionTree_para_Train = result_01[['Algorithm','Accuracy','Precision_score','Recall_Score','F1_score','roc_auc_score']]\n",
    "DecisionTree_para_Train"
   ]
  },
  {
   "cell_type": "code",
   "execution_count": 51,
   "metadata": {},
   "outputs": [
    {
     "data": {
      "text/html": [
       "<div>\n",
       "<style scoped>\n",
       "    .dataframe tbody tr th:only-of-type {\n",
       "        vertical-align: middle;\n",
       "    }\n",
       "\n",
       "    .dataframe tbody tr th {\n",
       "        vertical-align: top;\n",
       "    }\n",
       "\n",
       "    .dataframe thead th {\n",
       "        text-align: right;\n",
       "    }\n",
       "</style>\n",
       "<table border=\"1\" class=\"dataframe\">\n",
       "  <thead>\n",
       "    <tr style=\"text-align: right;\">\n",
       "      <th></th>\n",
       "      <th>Algorithm</th>\n",
       "      <th>Accuracy</th>\n",
       "      <th>Precision_score</th>\n",
       "      <th>Recall_Score</th>\n",
       "      <th>F1_score</th>\n",
       "      <th>roc_auc_score</th>\n",
       "    </tr>\n",
       "  </thead>\n",
       "  <tbody>\n",
       "    <tr>\n",
       "      <th>5</th>\n",
       "      <td>DecisionTreeClassifier_para_Train</td>\n",
       "      <td>0.932432</td>\n",
       "      <td>0.915423</td>\n",
       "      <td>0.93401</td>\n",
       "      <td>0.93401</td>\n",
       "      <td>0.932592</td>\n",
       "    </tr>\n",
       "  </tbody>\n",
       "</table>\n",
       "</div>"
      ],
      "text/plain": [
       "                           Algorithm  Accuracy  Precision_score  Recall_Score  \\\n",
       "5  DecisionTreeClassifier_para_Train  0.932432         0.915423       0.93401   \n",
       "\n",
       "   F1_score  roc_auc_score  \n",
       "5   0.93401       0.932592  "
      ]
     },
     "execution_count": 51,
     "metadata": {},
     "output_type": "execute_result"
    }
   ],
   "source": [
    "result_01 = pd.DataFrame({'Algorithm':['DecisionTreeClassifier_para_Train'],'Accuracy':  0.932432432,'Precision_score':0.91542288,'Recall_Score':0.93401,'F1_score': 0.934010152,'roc_auc_score':0.9325921},index={'5'})\n",
    "DecisionTree_para_Train = result_01[['Algorithm','Accuracy','Precision_score','Recall_Score','F1_score','roc_auc_score']]\n",
    "DecisionTree_para_Train"
   ]
  },
  {
   "cell_type": "code",
   "execution_count": 52,
   "metadata": {},
   "outputs": [],
   "source": [
    "n_estimators = [100,150,200]\n",
    "max_features = ['auto', 'sqrt']\n",
    "criterion = [\"gini\", \"entropy\"]\n",
    "max_depth = [2,5,10,15]\n",
    "min_samples_split = [2, 5, 10, 15]\n",
    "min_samples_leaf = [1, 2, 5, 10]\n",
    "hyper_grid_DT = {'n_estimators': n_estimators,\n",
    "               'criterion':criterion,\n",
    "               'max_features': max_features,\n",
    "               'max_depth': max_depth,\n",
    "               'min_samples_split': min_samples_split,\n",
    "               'min_samples_leaf': min_samples_leaf}\n"
   ]
  },
  {
   "cell_type": "code",
   "execution_count": 53,
   "metadata": {},
   "outputs": [],
   "source": [
    "params = {\n",
    "    'max_depth': [2, 3, 5, 10, 20],\n",
    "    'min_samples_leaf': [5, 10, 20, 50, 100],\n",
    "    'criterion': [\"gini\", \"entropy\"]\n",
    "}"
   ]
  },
  {
   "cell_type": "code",
   "execution_count": 54,
   "metadata": {},
   "outputs": [],
   "source": [
    "from sklearn.model_selection import RandomizedSearchCV\n",
    "DT=DecisionTreeClassifier(random_state=42)\n",
    "DT_random = RandomizedSearchCV(estimator =DT, param_distributions =params, n_iter = 55, cv = 5, verbose=2, random_state=42, n_jobs = -1)\n"
   ]
  },
  {
   "cell_type": "code",
   "execution_count": 55,
   "metadata": {},
   "outputs": [
    {
     "name": "stdout",
     "output_type": "stream",
     "text": [
      "Fitting 5 folds for each of 50 candidates, totalling 250 fits\n"
     ]
    },
    {
     "data": {
      "text/plain": [
       "RandomizedSearchCV(cv=5, estimator=DecisionTreeClassifier(random_state=42),\n",
       "                   n_iter=55, n_jobs=-1,\n",
       "                   param_distributions={'criterion': ['gini', 'entropy'],\n",
       "                                        'max_depth': [2, 3, 5, 10, 20],\n",
       "                                        'min_samples_leaf': [5, 10, 20, 50,\n",
       "                                                             100]},\n",
       "                   random_state=42, verbose=2)"
      ]
     },
     "execution_count": 55,
     "metadata": {},
     "output_type": "execute_result"
    }
   ],
   "source": [
    "DT_random.fit(x_train,y_train)"
   ]
  },
  {
   "cell_type": "code",
   "execution_count": 56,
   "metadata": {},
   "outputs": [
    {
     "data": {
      "text/plain": [
       "0.9419718309859155"
      ]
     },
     "execution_count": 56,
     "metadata": {},
     "output_type": "execute_result"
    }
   ],
   "source": [
    "DT_random.best_score_"
   ]
  },
  {
   "cell_type": "code",
   "execution_count": 57,
   "metadata": {},
   "outputs": [
    {
     "data": {
      "text/html": [
       "<div>\n",
       "<style scoped>\n",
       "    .dataframe tbody tr th:only-of-type {\n",
       "        vertical-align: middle;\n",
       "    }\n",
       "\n",
       "    .dataframe tbody tr th {\n",
       "        vertical-align: top;\n",
       "    }\n",
       "\n",
       "    .dataframe thead th {\n",
       "        text-align: right;\n",
       "    }\n",
       "</style>\n",
       "<table border=\"1\" class=\"dataframe\">\n",
       "  <thead>\n",
       "    <tr style=\"text-align: right;\">\n",
       "      <th></th>\n",
       "      <th>Algorithm</th>\n",
       "      <th>Accuracy</th>\n",
       "      <th>Precision_score</th>\n",
       "      <th>Recall_Score</th>\n",
       "      <th>F1_score</th>\n",
       "      <th>roc_auc_score</th>\n",
       "    </tr>\n",
       "  </thead>\n",
       "  <tbody>\n",
       "    <tr>\n",
       "      <th>6</th>\n",
       "      <td>DecisionTreeClassifier_best_score_</td>\n",
       "      <td>0.941972</td>\n",
       "      <td>0.915423</td>\n",
       "      <td>0.93401</td>\n",
       "      <td>0.93401</td>\n",
       "      <td>0.932592</td>\n",
       "    </tr>\n",
       "  </tbody>\n",
       "</table>\n",
       "</div>"
      ],
      "text/plain": [
       "                            Algorithm  Accuracy  Precision_score  \\\n",
       "6  DecisionTreeClassifier_best_score_  0.941972         0.915423   \n",
       "\n",
       "   Recall_Score  F1_score  roc_auc_score  \n",
       "6       0.93401   0.93401       0.932592  "
      ]
     },
     "execution_count": 57,
     "metadata": {},
     "output_type": "execute_result"
    }
   ],
   "source": [
    "result_01 = pd.DataFrame({'Algorithm':['DecisionTreeClassifier_best_score_'],'Accuracy':  0.941971830,'Precision_score':0.91542288,'Recall_Score':0.93401,'F1_score': 0.934010152,'roc_auc_score':0.9325921},index={'6'})\n",
    "DecisionTree_para_Train = result_01[['Algorithm','Accuracy','Precision_score','Recall_Score','F1_score','roc_auc_score']]\n",
    "DecisionTree_para_Train"
   ]
  },
  {
   "cell_type": "markdown",
   "metadata": {},
   "source": [
    "here Accuracy \tPrecision_score \tRecall_Score \tF1_score \troc_auc_score are performing all good"
   ]
  },
  {
   "cell_type": "markdown",
   "metadata": {},
   "source": [
    "# observation\n",
    "In ROC, we can summarize the model predictability based on the area under curve (AUC). AUC range from 0.5 to 1 and a model with higher AUC has higher predictability. AUC refers to the probability that randomly chosen benign patients will have high chances of classification as benign than randomly chosen malignant patients.\n",
    "The fitted model has AUC 0.941972better predictability in classification for dataset. The points lying above the chance level and close to grey line (perfect performance) represents a model with higher predictability.\n",
    "The accuracy of the fitted model is 0.9419718309859155. Even though accuracy is a measure of model performance. The AUC outperforms accuracy for model predictability. Two models can have the same accuracy but can differ in AUC. The models which are evaluated solely on accuracy may lead to misleading classification."
   ]
  },
  {
   "cell_type": "markdown",
   "metadata": {},
   "source": [
    "# SVC"
   ]
  },
  {
   "cell_type": "code",
   "execution_count": 58,
   "metadata": {},
   "outputs": [
    {
     "name": "stdout",
     "output_type": "stream",
     "text": [
      "[LibSVM]"
     ]
    },
    {
     "data": {
      "text/plain": [
       "SVC(verbose=5)"
      ]
     },
     "execution_count": 58,
     "metadata": {},
     "output_type": "execute_result"
    }
   ],
   "source": [
    "from sklearn.svm import SVC\n",
    "svc=SVC(C=1.0,kernel='rbf',degree=3,gamma='scale',coef0=0.0,shrinking=True,probability=False,tol=0.001,cache_size=200,class_weight=None,verbose=5)\n",
    "svc.fit(x_train,y_train)"
   ]
  },
  {
   "cell_type": "code",
   "execution_count": 59,
   "metadata": {},
   "outputs": [],
   "source": [
    "def generate_pred__SV_rbf(modelname,model,x_train,x_test,y_train,y_test):\n",
    "    svc=SVC(random_state=42)\n",
    "    \n",
    "    svc.fit(x_train,y_train)\n",
    "    y_train_pred=svc.predict(x_train)\n",
    "\n",
    "    \n",
    "    \n",
    "    print(\"------Evaluation metrics for training data set--------\")\n",
    "    Accuracy_train=metrics.accuracy_score(y_train,y_train_pred)\n",
    "    precision_train=metrics.precision_score(y_train,y_train_pred)\n",
    "    recall_train=metrics.recall_score(y_train,y_train_pred)\n",
    "    f1_score_train=metrics.f1_score(y_train,y_train_pred)\n",
    "    roc_auc_train=metrics.roc_auc_score(y_train,y_train_pred)\n",
    "    print(\"modelname-\",modelname)\n",
    "    print(\"Accuracy is \",Accuracy_train)\n",
    "    print(\"Precision score is \",precision_train)\n",
    "    print(\"f1 SCore score is \",f1_score_train)\n",
    "    print(\"Roc_Auc score is\",roc_auc_train)\n",
    "    \n",
    "    print(\"-------Evaluation metrics for test dataset--------\")\n",
    "    y_test_pred=svc.predict(x_test)\n",
    "    Accuracy_test=metrics.accuracy_score(y_test,y_test_pred)\n",
    "    precision_test=metrics.precision_score(y_test,y_test_pred)\n",
    "    recall_test=metrics.recall_score(y_test,y_test_pred)\n",
    "    f1_score_test=metrics.f1_score(y_test,y_test_pred)\n",
    "    roc_auc_test=metrics.roc_auc_score(y_test,y_test_pred)\n",
    "    print(\"modelname-\",modelname)\n",
    "    print(\"Accuracy is \",Accuracy_test)\n",
    "    print(\"Precision score is \",precision_test)\n",
    "    print(\"f1 SCore score is \",f1_score_test)\n",
    "    print(\"Roc_Auc score is\",roc_auc_test)\n",
    "    "
   ]
  },
  {
   "cell_type": "code",
   "execution_count": 60,
   "metadata": {},
   "outputs": [
    {
     "name": "stdout",
     "output_type": "stream",
     "text": [
      "------Evaluation metrics for training data set--------\n",
      "modelname- SVC\n",
      "Accuracy is  0.5583098591549296\n",
      "Precision score is  0.0\n",
      "f1 SCore score is  0.0\n",
      "Roc_Auc score is 0.5\n",
      "-------Evaluation metrics for test dataset--------\n",
      "modelname- SVC\n",
      "Accuracy is  0.5563063063063063\n",
      "Precision score is  0.0\n",
      "f1 SCore score is  0.0\n",
      "Roc_Auc score is 0.5\n"
     ]
    }
   ],
   "source": [
    "generate_pred__SV_rbf(\"SVC\",svc,x_train,x_test,y_train,y_test)"
   ]
  },
  {
   "cell_type": "code",
   "execution_count": 61,
   "metadata": {},
   "outputs": [
    {
     "data": {
      "text/html": [
       "<div>\n",
       "<style scoped>\n",
       "    .dataframe tbody tr th:only-of-type {\n",
       "        vertical-align: middle;\n",
       "    }\n",
       "\n",
       "    .dataframe tbody tr th {\n",
       "        vertical-align: top;\n",
       "    }\n",
       "\n",
       "    .dataframe thead th {\n",
       "        text-align: right;\n",
       "    }\n",
       "</style>\n",
       "<table border=\"1\" class=\"dataframe\">\n",
       "  <thead>\n",
       "    <tr style=\"text-align: right;\">\n",
       "      <th></th>\n",
       "      <th>Algorithm</th>\n",
       "      <th>Accuracy</th>\n",
       "      <th>Precision_score</th>\n",
       "      <th>Recall_Score</th>\n",
       "      <th>F1_score</th>\n",
       "      <th>roc_auc_score</th>\n",
       "    </tr>\n",
       "  </thead>\n",
       "  <tbody>\n",
       "    <tr>\n",
       "      <th>7</th>\n",
       "      <td>SVM_train</td>\n",
       "      <td>0.558309</td>\n",
       "      <td>0</td>\n",
       "      <td>0</td>\n",
       "      <td>0</td>\n",
       "      <td>0.5</td>\n",
       "    </tr>\n",
       "  </tbody>\n",
       "</table>\n",
       "</div>"
      ],
      "text/plain": [
       "   Algorithm  Accuracy  Precision_score  Recall_Score  F1_score  roc_auc_score\n",
       "7  SVM_train  0.558309                0             0         0            0.5"
      ]
     },
     "execution_count": 61,
     "metadata": {},
     "output_type": "execute_result"
    }
   ],
   "source": [
    "result_01 = pd.DataFrame({'Algorithm':['SVM_train'],'Accuracy': 0.558309,'Precision_score':0,'Recall_Score':0,'F1_score': 0,'roc_auc_score':0.5},index={'7'})\n",
    "svm_train = result_01[['Algorithm','Accuracy','Precision_score','Recall_Score','F1_score','roc_auc_score']]\n",
    "svm_train"
   ]
  },
  {
   "cell_type": "code",
   "execution_count": 62,
   "metadata": {},
   "outputs": [
    {
     "data": {
      "text/html": [
       "<div>\n",
       "<style scoped>\n",
       "    .dataframe tbody tr th:only-of-type {\n",
       "        vertical-align: middle;\n",
       "    }\n",
       "\n",
       "    .dataframe tbody tr th {\n",
       "        vertical-align: top;\n",
       "    }\n",
       "\n",
       "    .dataframe thead th {\n",
       "        text-align: right;\n",
       "    }\n",
       "</style>\n",
       "<table border=\"1\" class=\"dataframe\">\n",
       "  <thead>\n",
       "    <tr style=\"text-align: right;\">\n",
       "      <th></th>\n",
       "      <th>Algorithm</th>\n",
       "      <th>Accuracy</th>\n",
       "      <th>Precision_score</th>\n",
       "      <th>Recall_Score</th>\n",
       "      <th>F1_score</th>\n",
       "      <th>roc_auc_score</th>\n",
       "    </tr>\n",
       "  </thead>\n",
       "  <tbody>\n",
       "    <tr>\n",
       "      <th>8</th>\n",
       "      <td>SVM_test</td>\n",
       "      <td>0.556306</td>\n",
       "      <td>0</td>\n",
       "      <td>0</td>\n",
       "      <td>0</td>\n",
       "      <td>0.5</td>\n",
       "    </tr>\n",
       "  </tbody>\n",
       "</table>\n",
       "</div>"
      ],
      "text/plain": [
       "  Algorithm  Accuracy  Precision_score  Recall_Score  F1_score  roc_auc_score\n",
       "8  SVM_test  0.556306                0             0         0            0.5"
      ]
     },
     "execution_count": 62,
     "metadata": {},
     "output_type": "execute_result"
    }
   ],
   "source": [
    "result_01 = pd.DataFrame({'Algorithm':['SVM_test'],'Accuracy': 0.5563063,'Precision_score':0,'Recall_Score':0,'F1_score': 0,'roc_auc_score':0.5},index={'8'})\n",
    "svm_train = result_01[['Algorithm','Accuracy','Precision_score','Recall_Score','F1_score','roc_auc_score']]\n",
    "svm_train"
   ]
  },
  {
   "cell_type": "code",
   "execution_count": 63,
   "metadata": {},
   "outputs": [],
   "source": [
    "params = {\n",
    "    'kernel':['linear', 'poly', 'rbf', 'sigmoid', 'precomputed'],\n",
    "    'gamma':['scale', 'auto'],\n",
    "    'criterion': [\"gini\", \"entropy\"],\n",
    "    \n",
    "}"
   ]
  },
  {
   "cell_type": "code",
   "execution_count": 64,
   "metadata": {},
   "outputs": [
    {
     "data": {
      "text/plain": [
       "SVC(random_state=42)"
      ]
     },
     "execution_count": 64,
     "metadata": {},
     "output_type": "execute_result"
    }
   ],
   "source": [
    "from sklearn.svm import SVC\n",
    "svc=SVC(C=1.0, kernel='rbf',random_state=42,gamma='scale')\n",
    "svc.fit(x_train,y_train)"
   ]
  },
  {
   "cell_type": "code",
   "execution_count": 65,
   "metadata": {},
   "outputs": [],
   "source": [
    "def generate_pred__SV_lin(modelname,model,x_train,x_test,y_train,y_test):\n",
    "    svc=SVC(random_state=42)\n",
    "    \n",
    "    svc.fit(x_train,y_train)\n",
    "    y_train_pred=svc.predict(x_train)\n",
    "\n",
    "    \n",
    "    \n",
    "    print(\"------Evaluation metrics for training data set--------\")\n",
    "    Accuracy_train=metrics.accuracy_score(y_train,y_train_pred)\n",
    "    precision_train=metrics.precision_score(y_train,y_train_pred)\n",
    "    recall_train=metrics.recall_score(y_train,y_train_pred)\n",
    "    f1_score_train=metrics.f1_score(y_train,y_train_pred)\n",
    "    roc_auc_train=metrics.roc_auc_score(y_train,y_train_pred)\n",
    "    print(\"modelname-\",modelname)\n",
    "    print(\"Accuracy is \",Accuracy_train)\n",
    "    print(\"Precision score is \",precision_train)\n",
    "    print(\"f1 SCore score is \",f1_score_train)\n",
    "    print(\"Roc_Auc score is\",roc_auc_train)\n",
    "    \n",
    "    print(\"-------Evaluation metrics for test dataset--------\")\n",
    "    y_test_pred=svc.predict(x_test)\n",
    "    Accuracy_test=metrics.accuracy_score(y_test,y_test_pred)\n",
    "    precision_test=metrics.precision_score(y_test,y_test_pred)\n",
    "    recall_test=metrics.recall_score(y_test,y_test_pred)\n",
    "    f1_score_test=metrics.f1_score(y_test,y_test_pred)\n",
    "    roc_auc_test=metrics.roc_auc_score(y_test,y_test_pred)\n",
    "    print(\"modelname-\",modelname)\n",
    "    print(\"Accuracy is \",Accuracy_test)\n",
    "    print(\"Precision score is \",precision_test)\n",
    "    print(\"f1 SCore score is \",f1_score_test)\n",
    "    print(\"Roc_Auc score is\",roc_auc_test)\n",
    "    "
   ]
  },
  {
   "cell_type": "code",
   "execution_count": 66,
   "metadata": {},
   "outputs": [
    {
     "name": "stdout",
     "output_type": "stream",
     "text": [
      "------Evaluation metrics for training data set--------\n",
      "modelname- SVC\n",
      "Accuracy is  0.5583098591549296\n",
      "Precision score is  0.0\n",
      "f1 SCore score is  0.0\n",
      "Roc_Auc score is 0.5\n",
      "-------Evaluation metrics for test dataset--------\n",
      "modelname- SVC\n",
      "Accuracy is  0.5563063063063063\n",
      "Precision score is  0.0\n",
      "f1 SCore score is  0.0\n",
      "Roc_Auc score is 0.5\n"
     ]
    }
   ],
   "source": [
    "generate_pred__SV_lin(\"SVC\",svc,x_train,x_test,y_train,y_test)"
   ]
  },
  {
   "cell_type": "code",
   "execution_count": 67,
   "metadata": {},
   "outputs": [
    {
     "data": {
      "text/html": [
       "<div>\n",
       "<style scoped>\n",
       "    .dataframe tbody tr th:only-of-type {\n",
       "        vertical-align: middle;\n",
       "    }\n",
       "\n",
       "    .dataframe tbody tr th {\n",
       "        vertical-align: top;\n",
       "    }\n",
       "\n",
       "    .dataframe thead th {\n",
       "        text-align: right;\n",
       "    }\n",
       "</style>\n",
       "<table border=\"1\" class=\"dataframe\">\n",
       "  <thead>\n",
       "    <tr style=\"text-align: right;\">\n",
       "      <th></th>\n",
       "      <th>Algorithm</th>\n",
       "      <th>Accuracy</th>\n",
       "      <th>Precision_score</th>\n",
       "      <th>Recall_Score</th>\n",
       "      <th>F1_score</th>\n",
       "      <th>roc_auc_score</th>\n",
       "    </tr>\n",
       "  </thead>\n",
       "  <tbody>\n",
       "    <tr>\n",
       "      <th>9</th>\n",
       "      <td>SVM_para</td>\n",
       "      <td>0.558306</td>\n",
       "      <td>0</td>\n",
       "      <td>0</td>\n",
       "      <td>0</td>\n",
       "      <td>0.5</td>\n",
       "    </tr>\n",
       "  </tbody>\n",
       "</table>\n",
       "</div>"
      ],
      "text/plain": [
       "  Algorithm  Accuracy  Precision_score  Recall_Score  F1_score  roc_auc_score\n",
       "9  SVM_para  0.558306                0             0         0            0.5"
      ]
     },
     "execution_count": 67,
     "metadata": {},
     "output_type": "execute_result"
    }
   ],
   "source": [
    "result_01 = pd.DataFrame({'Algorithm':['SVM_para'],'Accuracy': 0.5583063,'Precision_score':0,'Recall_Score':0,'F1_score': 0,'roc_auc_score':0.5},index={'9'})\n",
    "svm_train = result_01[['Algorithm','Accuracy','Precision_score','Recall_Score','F1_score','roc_auc_score']]\n",
    "svm_train"
   ]
  },
  {
   "cell_type": "markdown",
   "metadata": {},
   "source": [
    "# here we are getting very less accuracy 0.558306"
   ]
  },
  {
   "cell_type": "markdown",
   "metadata": {},
   "source": [
    "observation\n",
    "\n",
    "In ROC, we can summarize the model predictability based on the area under curve (AUC). AUC range from 0.5 to 1 and a model with higher AUC has higher predictability. AUC refers to the probability that randomly chosen benign patients will have high chances of classification as benign than randomly chosen malignant patients. The fitted model has AUC 0.558306 suggesting better predictability in classification for dataset. The points lying above the chance level and close to grey line (perfect performance) represents a model with higher predictability. The accuracy of the fitted model is 0.558306. Even though accuracy is a measure of model performance. The AUC outperforms accuracy for model predictability. Two models can have the same accuracy but can differ in AUC. The models which are evaluated solely on accuracy may lead to misleading classification.\n"
   ]
  },
  {
   "cell_type": "markdown",
   "metadata": {},
   "source": [
    "# KNeighborsClassifier"
   ]
  },
  {
   "cell_type": "markdown",
   "metadata": {},
   "source": [
    "# K Nearest Neighbor is one of the fundamental algorithms in machine learning. Machine learning models use a set of input values to predict output values. KNN is one of the simplest forms of machine learning algorithms mostly used for classification. It classifies the data point on how its neighbor is classified.\n"
   ]
  },
  {
   "cell_type": "code",
   "execution_count": 68,
   "metadata": {},
   "outputs": [
    {
     "data": {
      "text/plain": [
       "KNeighborsClassifier()"
      ]
     },
     "execution_count": 68,
     "metadata": {},
     "output_type": "execute_result"
    }
   ],
   "source": [
    "knn=KNeighborsClassifier()  \n",
    "knn.fit(x_train,y_train)"
   ]
  },
  {
   "cell_type": "markdown",
   "metadata": {},
   "source": [
    "If K = 5, then in this case query instance xq will be classified as\n",
    "negative since three of its nearest neighbors are classified as\n",
    "negative"
   ]
  },
  {
   "cell_type": "code",
   "execution_count": 69,
   "metadata": {},
   "outputs": [],
   "source": [
    "def generate_pred__KNN(modelname,model,x_train,x_test,y_train,y_test):\n",
    "    knn=KNeighborsClassifier()\n",
    "    \n",
    "    knn.fit(x_train,y_train)\n",
    "    y_train_pred=knn.predict(x_train)\n",
    "\n",
    "    \n",
    "    \n",
    "    print(\"------Evaluation metrics for training data set--------\")\n",
    "    Accuracy_train=metrics.accuracy_score(y_train,y_train_pred)\n",
    "    precision_train=metrics.precision_score(y_train,y_train_pred)\n",
    "    recall_train=metrics.recall_score(y_train,y_train_pred)\n",
    "    f1_score_train=metrics.f1_score(y_train,y_train_pred)\n",
    "    roc_auc_train=metrics.roc_auc_score(y_train,y_train_pred)\n",
    "    recall=metrics.recall_score(y_train,y_train_pred)\n",
    "    print(\"modelname-\",modelname)\n",
    "    print(\"Accuracy is \",Accuracy_train)\n",
    "    print(\"Precision score is \",precision_train)\n",
    "    print(\"f1 SCore score is \",f1_score_train)\n",
    "    print(\"Roc_Auc score is\",roc_auc_train)\n",
    "    print(\"Recall score is\",recall)\n",
    "    \n",
    "    print(\"-------Evaluation metrics for test dataset--------\")\n",
    "    y_test_pred=knn.predict(x_test)\n",
    "    Accuracy_test=metrics.accuracy_score(y_test,y_test_pred)\n",
    "    precision_test=metrics.precision_score(y_test,y_test_pred)\n",
    "    recall_test=metrics.recall_score(y_test,y_test_pred)\n",
    "    f1_score_test=metrics.f1_score(y_test,y_test_pred)\n",
    "    roc_auc_test=metrics.roc_auc_score(y_test,y_test_pred)\n",
    "    recall=metrics.recall_score(y_test,y_test_pred)\n",
    "    print(\"modelname-\",modelname)\n",
    "    print(\"Accuracy is \",Accuracy_test)\n",
    "    print(\"Precision score is \",precision_test)\n",
    "    print(\"f1 SCore score is \",f1_score_test)\n",
    "    print(\"Roc_Auc score is\",roc_auc_test)\n",
    "    print(\"Recall score is\",recall)"
   ]
  },
  {
   "cell_type": "markdown",
   "metadata": {},
   "source": [
    "Standard Euclidean Distance<br>\n",
    "\u0001 d(xi\n",
    ",xJ\n",
    ") = √(For all attributes a ∑ (xi,a – xJ,a)\n",
    "2"
   ]
  },
  {
   "cell_type": "markdown",
   "metadata": {},
   "source": [
    "Accuracy = (# of correctly classified examples / # of training\n",
    "examples) X 100"
   ]
  },
  {
   "cell_type": "code",
   "execution_count": 70,
   "metadata": {},
   "outputs": [
    {
     "name": "stdout",
     "output_type": "stream",
     "text": [
      "------Evaluation metrics for training data set--------\n",
      "modelname- KNN\n",
      "Accuracy is  0.9673239436619718\n",
      "Precision score is  0.9641943734015346\n",
      "f1 SCore score is  0.962962962962963\n",
      "Roc_Auc score is 0.9667402026400873\n",
      "Recall score is 0.9617346938775511\n",
      "-------Evaluation metrics for test dataset--------\n",
      "modelname- KNN\n",
      "Accuracy is  0.9572072072072072\n",
      "Precision score is  0.9540816326530612\n",
      "f1 SCore score is  0.9516539440203563\n",
      "Roc_Auc score is 0.9564006658583202\n",
      "Recall score is 0.949238578680203\n"
     ]
    }
   ],
   "source": [
    "generate_pred__KNN(\"KNN\",knn,x_train,x_test,y_train,y_test)"
   ]
  },
  {
   "cell_type": "code",
   "execution_count": 71,
   "metadata": {},
   "outputs": [
    {
     "data": {
      "text/html": [
       "<div>\n",
       "<style scoped>\n",
       "    .dataframe tbody tr th:only-of-type {\n",
       "        vertical-align: middle;\n",
       "    }\n",
       "\n",
       "    .dataframe tbody tr th {\n",
       "        vertical-align: top;\n",
       "    }\n",
       "\n",
       "    .dataframe thead th {\n",
       "        text-align: right;\n",
       "    }\n",
       "</style>\n",
       "<table border=\"1\" class=\"dataframe\">\n",
       "  <thead>\n",
       "    <tr style=\"text-align: right;\">\n",
       "      <th></th>\n",
       "      <th>Algorithm</th>\n",
       "      <th>Accuracy</th>\n",
       "      <th>Precision_score</th>\n",
       "      <th>Recall_Score</th>\n",
       "      <th>F1_score</th>\n",
       "      <th>roc_auc_score</th>\n",
       "    </tr>\n",
       "  </thead>\n",
       "  <tbody>\n",
       "    <tr>\n",
       "      <th>10</th>\n",
       "      <td>KNeighborsClassifier_Train</td>\n",
       "      <td>0.72</td>\n",
       "      <td>0.964194</td>\n",
       "      <td>0.961735</td>\n",
       "      <td>0.962963</td>\n",
       "      <td>0.96674</td>\n",
       "    </tr>\n",
       "  </tbody>\n",
       "</table>\n",
       "</div>"
      ],
      "text/plain": [
       "                     Algorithm  Accuracy  Precision_score  Recall_Score  \\\n",
       "10  KNeighborsClassifier_Train      0.72         0.964194      0.961735   \n",
       "\n",
       "    F1_score  roc_auc_score  \n",
       "10  0.962963        0.96674  "
      ]
     },
     "execution_count": 71,
     "metadata": {},
     "output_type": "execute_result"
    }
   ],
   "source": [
    "result_01 = pd.DataFrame({'Algorithm':['KNeighborsClassifier_Train'],'Accuracy':0.72,'Precision_score':0.9641943,'Recall_Score':0.96173469,'F1_score':0.96296296,'roc_auc_score':0.9667402},index={'10'})\n",
    "Train_results = result_01[['Algorithm','Accuracy','Precision_score','Recall_Score','F1_score','roc_auc_score']]\n",
    "Train_results"
   ]
  },
  {
   "cell_type": "code",
   "execution_count": 72,
   "metadata": {},
   "outputs": [
    {
     "data": {
      "text/html": [
       "<div>\n",
       "<style scoped>\n",
       "    .dataframe tbody tr th:only-of-type {\n",
       "        vertical-align: middle;\n",
       "    }\n",
       "\n",
       "    .dataframe tbody tr th {\n",
       "        vertical-align: top;\n",
       "    }\n",
       "\n",
       "    .dataframe thead th {\n",
       "        text-align: right;\n",
       "    }\n",
       "</style>\n",
       "<table border=\"1\" class=\"dataframe\">\n",
       "  <thead>\n",
       "    <tr style=\"text-align: right;\">\n",
       "      <th></th>\n",
       "      <th>Algorithm</th>\n",
       "      <th>Accuracy</th>\n",
       "      <th>Precision_score</th>\n",
       "      <th>Recall_Score</th>\n",
       "      <th>F1_score</th>\n",
       "      <th>roc_auc_score</th>\n",
       "    </tr>\n",
       "  </thead>\n",
       "  <tbody>\n",
       "    <tr>\n",
       "      <th>11</th>\n",
       "      <td>KNeighborsClassifier_Test</td>\n",
       "      <td>0.957207</td>\n",
       "      <td>0.954081</td>\n",
       "      <td>0.949238</td>\n",
       "      <td>0.951654</td>\n",
       "      <td>0.956401</td>\n",
       "    </tr>\n",
       "  </tbody>\n",
       "</table>\n",
       "</div>"
      ],
      "text/plain": [
       "                    Algorithm  Accuracy  Precision_score  Recall_Score  \\\n",
       "11  KNeighborsClassifier_Test  0.957207         0.954081      0.949238   \n",
       "\n",
       "    F1_score  roc_auc_score  \n",
       "11  0.951654       0.956401  "
      ]
     },
     "execution_count": 72,
     "metadata": {},
     "output_type": "execute_result"
    }
   ],
   "source": [
    "result_01 = pd.DataFrame({'Algorithm':['KNeighborsClassifier_Test'],'Accuracy':0.95720720,'Precision_score':0.954081,'Recall_Score': 0.949238,'F1_score':0.9516539,'roc_auc_score':0.9564006},index={'11'})\n",
    "Train_results = result_01[['Algorithm','Accuracy','Precision_score','Recall_Score','F1_score','roc_auc_score']]\n",
    "Train_results"
   ]
  },
  {
   "cell_type": "code",
   "execution_count": 73,
   "metadata": {},
   "outputs": [],
   "source": [
    "param_grid = { 'algorithm' : ['ball_tree', 'kd_tree', 'brute'],\n",
    "               'leaf_size' : [18,20,25,27,30,32,34],\n",
    "               'n_neighbors' : [3,5,7,9,10,11,12,13]\n",
    "              }"
   ]
  },
  {
   "cell_type": "code",
   "execution_count": 74,
   "metadata": {},
   "outputs": [],
   "source": [
    "gridsearch = GridSearchCV(knn, param_grid,verbose=3)"
   ]
  },
  {
   "cell_type": "code",
   "execution_count": 75,
   "metadata": {},
   "outputs": [
    {
     "name": "stdout",
     "output_type": "stream",
     "text": [
      "Fitting 5 folds for each of 168 candidates, totalling 840 fits\n",
      "[CV 1/5] END algorithm=ball_tree, leaf_size=18, n_neighbors=3;, score=0.949 total time=   0.0s\n",
      "[CV 2/5] END algorithm=ball_tree, leaf_size=18, n_neighbors=3;, score=0.944 total time=   0.0s\n",
      "[CV 3/5] END algorithm=ball_tree, leaf_size=18, n_neighbors=3;, score=0.935 total time=   0.0s\n",
      "[CV 4/5] END algorithm=ball_tree, leaf_size=18, n_neighbors=3;, score=0.949 total time=   0.0s\n",
      "[CV 5/5] END algorithm=ball_tree, leaf_size=18, n_neighbors=3;, score=0.952 total time=   0.0s\n",
      "[CV 1/5] END algorithm=ball_tree, leaf_size=18, n_neighbors=5;, score=0.961 total time=   0.0s\n",
      "[CV 2/5] END algorithm=ball_tree, leaf_size=18, n_neighbors=5;, score=0.946 total time=   0.0s\n",
      "[CV 3/5] END algorithm=ball_tree, leaf_size=18, n_neighbors=5;, score=0.938 total time=   0.0s\n",
      "[CV 4/5] END algorithm=ball_tree, leaf_size=18, n_neighbors=5;, score=0.946 total time=   0.0s\n",
      "[CV 5/5] END algorithm=ball_tree, leaf_size=18, n_neighbors=5;, score=0.946 total time=   0.0s\n",
      "[CV 1/5] END algorithm=ball_tree, leaf_size=18, n_neighbors=7;, score=0.958 total time=   0.0s\n",
      "[CV 2/5] END algorithm=ball_tree, leaf_size=18, n_neighbors=7;, score=0.949 total time=   0.0s\n",
      "[CV 3/5] END algorithm=ball_tree, leaf_size=18, n_neighbors=7;, score=0.946 total time=   0.0s\n",
      "[CV 4/5] END algorithm=ball_tree, leaf_size=18, n_neighbors=7;, score=0.930 total time=   0.0s\n",
      "[CV 5/5] END algorithm=ball_tree, leaf_size=18, n_neighbors=7;, score=0.955 total time=   0.0s\n",
      "[CV 1/5] END algorithm=ball_tree, leaf_size=18, n_neighbors=9;, score=0.955 total time=   0.0s\n",
      "[CV 2/5] END algorithm=ball_tree, leaf_size=18, n_neighbors=9;, score=0.946 total time=   0.0s\n",
      "[CV 3/5] END algorithm=ball_tree, leaf_size=18, n_neighbors=9;, score=0.944 total time=   0.0s\n",
      "[CV 4/5] END algorithm=ball_tree, leaf_size=18, n_neighbors=9;, score=0.932 total time=   0.0s\n",
      "[CV 5/5] END algorithm=ball_tree, leaf_size=18, n_neighbors=9;, score=0.958 total time=   0.0s\n",
      "[CV 1/5] END algorithm=ball_tree, leaf_size=18, n_neighbors=10;, score=0.963 total time=   0.0s\n",
      "[CV 2/5] END algorithm=ball_tree, leaf_size=18, n_neighbors=10;, score=0.952 total time=   0.0s\n",
      "[CV 3/5] END algorithm=ball_tree, leaf_size=18, n_neighbors=10;, score=0.949 total time=   0.0s\n",
      "[CV 4/5] END algorithm=ball_tree, leaf_size=18, n_neighbors=10;, score=0.930 total time=   0.0s\n",
      "[CV 5/5] END algorithm=ball_tree, leaf_size=18, n_neighbors=10;, score=0.946 total time=   0.0s\n",
      "[CV 1/5] END algorithm=ball_tree, leaf_size=18, n_neighbors=11;, score=0.963 total time=   0.0s\n",
      "[CV 2/5] END algorithm=ball_tree, leaf_size=18, n_neighbors=11;, score=0.952 total time=   0.0s\n",
      "[CV 3/5] END algorithm=ball_tree, leaf_size=18, n_neighbors=11;, score=0.941 total time=   0.0s\n",
      "[CV 4/5] END algorithm=ball_tree, leaf_size=18, n_neighbors=11;, score=0.932 total time=   0.0s\n",
      "[CV 5/5] END algorithm=ball_tree, leaf_size=18, n_neighbors=11;, score=0.952 total time=   0.0s\n",
      "[CV 1/5] END algorithm=ball_tree, leaf_size=18, n_neighbors=12;, score=0.963 total time=   0.0s\n",
      "[CV 2/5] END algorithm=ball_tree, leaf_size=18, n_neighbors=12;, score=0.952 total time=   0.0s\n",
      "[CV 3/5] END algorithm=ball_tree, leaf_size=18, n_neighbors=12;, score=0.952 total time=   0.0s\n",
      "[CV 4/5] END algorithm=ball_tree, leaf_size=18, n_neighbors=12;, score=0.927 total time=   0.0s\n",
      "[CV 5/5] END algorithm=ball_tree, leaf_size=18, n_neighbors=12;, score=0.949 total time=   0.0s\n",
      "[CV 1/5] END algorithm=ball_tree, leaf_size=18, n_neighbors=13;, score=0.969 total time=   0.0s\n",
      "[CV 2/5] END algorithm=ball_tree, leaf_size=18, n_neighbors=13;, score=0.952 total time=   0.0s\n",
      "[CV 3/5] END algorithm=ball_tree, leaf_size=18, n_neighbors=13;, score=0.952 total time=   0.0s\n",
      "[CV 4/5] END algorithm=ball_tree, leaf_size=18, n_neighbors=13;, score=0.930 total time=   0.0s\n",
      "[CV 5/5] END algorithm=ball_tree, leaf_size=18, n_neighbors=13;, score=0.946 total time=   0.0s\n",
      "[CV 1/5] END algorithm=ball_tree, leaf_size=20, n_neighbors=3;, score=0.949 total time=   0.0s\n",
      "[CV 2/5] END algorithm=ball_tree, leaf_size=20, n_neighbors=3;, score=0.944 total time=   0.0s\n",
      "[CV 3/5] END algorithm=ball_tree, leaf_size=20, n_neighbors=3;, score=0.935 total time=   0.0s\n",
      "[CV 4/5] END algorithm=ball_tree, leaf_size=20, n_neighbors=3;, score=0.949 total time=   0.0s\n",
      "[CV 5/5] END algorithm=ball_tree, leaf_size=20, n_neighbors=3;, score=0.952 total time=   0.0s\n",
      "[CV 1/5] END algorithm=ball_tree, leaf_size=20, n_neighbors=5;, score=0.961 total time=   0.0s\n",
      "[CV 2/5] END algorithm=ball_tree, leaf_size=20, n_neighbors=5;, score=0.946 total time=   0.0s\n",
      "[CV 3/5] END algorithm=ball_tree, leaf_size=20, n_neighbors=5;, score=0.938 total time=   0.0s\n",
      "[CV 4/5] END algorithm=ball_tree, leaf_size=20, n_neighbors=5;, score=0.946 total time=   0.0s\n",
      "[CV 5/5] END algorithm=ball_tree, leaf_size=20, n_neighbors=5;, score=0.946 total time=   0.0s\n",
      "[CV 1/5] END algorithm=ball_tree, leaf_size=20, n_neighbors=7;, score=0.958 total time=   0.0s\n",
      "[CV 2/5] END algorithm=ball_tree, leaf_size=20, n_neighbors=7;, score=0.949 total time=   0.0s\n",
      "[CV 3/5] END algorithm=ball_tree, leaf_size=20, n_neighbors=7;, score=0.946 total time=   0.0s\n",
      "[CV 4/5] END algorithm=ball_tree, leaf_size=20, n_neighbors=7;, score=0.930 total time=   0.0s\n",
      "[CV 5/5] END algorithm=ball_tree, leaf_size=20, n_neighbors=7;, score=0.955 total time=   0.0s\n",
      "[CV 1/5] END algorithm=ball_tree, leaf_size=20, n_neighbors=9;, score=0.955 total time=   0.0s\n",
      "[CV 2/5] END algorithm=ball_tree, leaf_size=20, n_neighbors=9;, score=0.946 total time=   0.0s\n",
      "[CV 3/5] END algorithm=ball_tree, leaf_size=20, n_neighbors=9;, score=0.944 total time=   0.0s\n",
      "[CV 4/5] END algorithm=ball_tree, leaf_size=20, n_neighbors=9;, score=0.932 total time=   0.0s\n",
      "[CV 5/5] END algorithm=ball_tree, leaf_size=20, n_neighbors=9;, score=0.958 total time=   0.0s\n",
      "[CV 1/5] END algorithm=ball_tree, leaf_size=20, n_neighbors=10;, score=0.963 total time=   0.0s\n",
      "[CV 2/5] END algorithm=ball_tree, leaf_size=20, n_neighbors=10;, score=0.952 total time=   0.0s\n",
      "[CV 3/5] END algorithm=ball_tree, leaf_size=20, n_neighbors=10;, score=0.949 total time=   0.0s\n",
      "[CV 4/5] END algorithm=ball_tree, leaf_size=20, n_neighbors=10;, score=0.930 total time=   0.0s\n",
      "[CV 5/5] END algorithm=ball_tree, leaf_size=20, n_neighbors=10;, score=0.946 total time=   0.0s\n",
      "[CV 1/5] END algorithm=ball_tree, leaf_size=20, n_neighbors=11;, score=0.963 total time=   0.0s\n",
      "[CV 2/5] END algorithm=ball_tree, leaf_size=20, n_neighbors=11;, score=0.952 total time=   0.0s\n",
      "[CV 3/5] END algorithm=ball_tree, leaf_size=20, n_neighbors=11;, score=0.941 total time=   0.0s\n",
      "[CV 4/5] END algorithm=ball_tree, leaf_size=20, n_neighbors=11;, score=0.932 total time=   0.0s\n",
      "[CV 5/5] END algorithm=ball_tree, leaf_size=20, n_neighbors=11;, score=0.952 total time=   0.0s\n",
      "[CV 1/5] END algorithm=ball_tree, leaf_size=20, n_neighbors=12;, score=0.963 total time=   0.0s\n",
      "[CV 2/5] END algorithm=ball_tree, leaf_size=20, n_neighbors=12;, score=0.952 total time=   0.0s\n",
      "[CV 3/5] END algorithm=ball_tree, leaf_size=20, n_neighbors=12;, score=0.952 total time=   0.0s\n",
      "[CV 4/5] END algorithm=ball_tree, leaf_size=20, n_neighbors=12;, score=0.927 total time=   0.0s\n",
      "[CV 5/5] END algorithm=ball_tree, leaf_size=20, n_neighbors=12;, score=0.949 total time=   0.0s\n",
      "[CV 1/5] END algorithm=ball_tree, leaf_size=20, n_neighbors=13;, score=0.969 total time=   0.0s\n",
      "[CV 2/5] END algorithm=ball_tree, leaf_size=20, n_neighbors=13;, score=0.952 total time=   0.0s\n",
      "[CV 3/5] END algorithm=ball_tree, leaf_size=20, n_neighbors=13;, score=0.952 total time=   0.0s\n",
      "[CV 4/5] END algorithm=ball_tree, leaf_size=20, n_neighbors=13;, score=0.930 total time=   0.0s\n",
      "[CV 5/5] END algorithm=ball_tree, leaf_size=20, n_neighbors=13;, score=0.946 total time=   0.0s\n",
      "[CV 1/5] END algorithm=ball_tree, leaf_size=25, n_neighbors=3;, score=0.949 total time=   0.0s\n",
      "[CV 2/5] END algorithm=ball_tree, leaf_size=25, n_neighbors=3;, score=0.944 total time=   0.0s\n",
      "[CV 3/5] END algorithm=ball_tree, leaf_size=25, n_neighbors=3;, score=0.935 total time=   0.0s\n",
      "[CV 4/5] END algorithm=ball_tree, leaf_size=25, n_neighbors=3;, score=0.949 total time=   0.0s\n",
      "[CV 5/5] END algorithm=ball_tree, leaf_size=25, n_neighbors=3;, score=0.952 total time=   0.0s\n",
      "[CV 1/5] END algorithm=ball_tree, leaf_size=25, n_neighbors=5;, score=0.961 total time=   0.0s\n",
      "[CV 2/5] END algorithm=ball_tree, leaf_size=25, n_neighbors=5;, score=0.946 total time=   0.0s\n",
      "[CV 3/5] END algorithm=ball_tree, leaf_size=25, n_neighbors=5;, score=0.938 total time=   0.0s\n"
     ]
    },
    {
     "name": "stdout",
     "output_type": "stream",
     "text": [
      "[CV 4/5] END algorithm=ball_tree, leaf_size=25, n_neighbors=5;, score=0.946 total time=   0.0s\n",
      "[CV 5/5] END algorithm=ball_tree, leaf_size=25, n_neighbors=5;, score=0.946 total time=   0.0s\n",
      "[CV 1/5] END algorithm=ball_tree, leaf_size=25, n_neighbors=7;, score=0.958 total time=   0.0s\n",
      "[CV 2/5] END algorithm=ball_tree, leaf_size=25, n_neighbors=7;, score=0.949 total time=   0.0s\n",
      "[CV 3/5] END algorithm=ball_tree, leaf_size=25, n_neighbors=7;, score=0.946 total time=   0.0s\n",
      "[CV 4/5] END algorithm=ball_tree, leaf_size=25, n_neighbors=7;, score=0.930 total time=   0.0s\n",
      "[CV 5/5] END algorithm=ball_tree, leaf_size=25, n_neighbors=7;, score=0.955 total time=   0.0s\n",
      "[CV 1/5] END algorithm=ball_tree, leaf_size=25, n_neighbors=9;, score=0.955 total time=   0.0s\n",
      "[CV 2/5] END algorithm=ball_tree, leaf_size=25, n_neighbors=9;, score=0.946 total time=   0.0s\n",
      "[CV 3/5] END algorithm=ball_tree, leaf_size=25, n_neighbors=9;, score=0.944 total time=   0.0s\n",
      "[CV 4/5] END algorithm=ball_tree, leaf_size=25, n_neighbors=9;, score=0.932 total time=   0.0s\n",
      "[CV 5/5] END algorithm=ball_tree, leaf_size=25, n_neighbors=9;, score=0.958 total time=   0.0s\n",
      "[CV 1/5] END algorithm=ball_tree, leaf_size=25, n_neighbors=10;, score=0.963 total time=   0.0s\n",
      "[CV 2/5] END algorithm=ball_tree, leaf_size=25, n_neighbors=10;, score=0.952 total time=   0.0s\n",
      "[CV 3/5] END algorithm=ball_tree, leaf_size=25, n_neighbors=10;, score=0.949 total time=   0.0s\n",
      "[CV 4/5] END algorithm=ball_tree, leaf_size=25, n_neighbors=10;, score=0.930 total time=   0.0s\n",
      "[CV 5/5] END algorithm=ball_tree, leaf_size=25, n_neighbors=10;, score=0.946 total time=   0.0s\n",
      "[CV 1/5] END algorithm=ball_tree, leaf_size=25, n_neighbors=11;, score=0.963 total time=   0.0s\n",
      "[CV 2/5] END algorithm=ball_tree, leaf_size=25, n_neighbors=11;, score=0.952 total time=   0.0s\n",
      "[CV 3/5] END algorithm=ball_tree, leaf_size=25, n_neighbors=11;, score=0.941 total time=   0.0s\n",
      "[CV 4/5] END algorithm=ball_tree, leaf_size=25, n_neighbors=11;, score=0.932 total time=   0.0s\n",
      "[CV 5/5] END algorithm=ball_tree, leaf_size=25, n_neighbors=11;, score=0.952 total time=   0.0s\n",
      "[CV 1/5] END algorithm=ball_tree, leaf_size=25, n_neighbors=12;, score=0.963 total time=   0.0s\n",
      "[CV 2/5] END algorithm=ball_tree, leaf_size=25, n_neighbors=12;, score=0.952 total time=   0.0s\n",
      "[CV 3/5] END algorithm=ball_tree, leaf_size=25, n_neighbors=12;, score=0.952 total time=   0.0s\n",
      "[CV 4/5] END algorithm=ball_tree, leaf_size=25, n_neighbors=12;, score=0.927 total time=   0.0s\n",
      "[CV 5/5] END algorithm=ball_tree, leaf_size=25, n_neighbors=12;, score=0.949 total time=   0.0s\n",
      "[CV 1/5] END algorithm=ball_tree, leaf_size=25, n_neighbors=13;, score=0.969 total time=   0.0s\n",
      "[CV 2/5] END algorithm=ball_tree, leaf_size=25, n_neighbors=13;, score=0.952 total time=   0.0s\n",
      "[CV 3/5] END algorithm=ball_tree, leaf_size=25, n_neighbors=13;, score=0.952 total time=   0.0s\n",
      "[CV 4/5] END algorithm=ball_tree, leaf_size=25, n_neighbors=13;, score=0.930 total time=   0.0s\n",
      "[CV 5/5] END algorithm=ball_tree, leaf_size=25, n_neighbors=13;, score=0.946 total time=   0.0s\n",
      "[CV 1/5] END algorithm=ball_tree, leaf_size=27, n_neighbors=3;, score=0.949 total time=   0.0s\n",
      "[CV 2/5] END algorithm=ball_tree, leaf_size=27, n_neighbors=3;, score=0.944 total time=   0.0s\n",
      "[CV 3/5] END algorithm=ball_tree, leaf_size=27, n_neighbors=3;, score=0.935 total time=   0.0s\n",
      "[CV 4/5] END algorithm=ball_tree, leaf_size=27, n_neighbors=3;, score=0.949 total time=   0.0s\n",
      "[CV 5/5] END algorithm=ball_tree, leaf_size=27, n_neighbors=3;, score=0.952 total time=   0.0s\n",
      "[CV 1/5] END algorithm=ball_tree, leaf_size=27, n_neighbors=5;, score=0.961 total time=   0.0s\n",
      "[CV 2/5] END algorithm=ball_tree, leaf_size=27, n_neighbors=5;, score=0.946 total time=   0.0s\n",
      "[CV 3/5] END algorithm=ball_tree, leaf_size=27, n_neighbors=5;, score=0.938 total time=   0.0s\n",
      "[CV 4/5] END algorithm=ball_tree, leaf_size=27, n_neighbors=5;, score=0.946 total time=   0.0s\n",
      "[CV 5/5] END algorithm=ball_tree, leaf_size=27, n_neighbors=5;, score=0.946 total time=   0.0s\n",
      "[CV 1/5] END algorithm=ball_tree, leaf_size=27, n_neighbors=7;, score=0.958 total time=   0.0s\n",
      "[CV 2/5] END algorithm=ball_tree, leaf_size=27, n_neighbors=7;, score=0.949 total time=   0.0s\n",
      "[CV 3/5] END algorithm=ball_tree, leaf_size=27, n_neighbors=7;, score=0.946 total time=   0.0s\n",
      "[CV 4/5] END algorithm=ball_tree, leaf_size=27, n_neighbors=7;, score=0.930 total time=   0.0s\n",
      "[CV 5/5] END algorithm=ball_tree, leaf_size=27, n_neighbors=7;, score=0.955 total time=   0.0s\n",
      "[CV 1/5] END algorithm=ball_tree, leaf_size=27, n_neighbors=9;, score=0.955 total time=   0.0s\n",
      "[CV 2/5] END algorithm=ball_tree, leaf_size=27, n_neighbors=9;, score=0.946 total time=   0.0s\n",
      "[CV 3/5] END algorithm=ball_tree, leaf_size=27, n_neighbors=9;, score=0.944 total time=   0.0s\n",
      "[CV 4/5] END algorithm=ball_tree, leaf_size=27, n_neighbors=9;, score=0.932 total time=   0.0s\n",
      "[CV 5/5] END algorithm=ball_tree, leaf_size=27, n_neighbors=9;, score=0.958 total time=   0.0s\n",
      "[CV 1/5] END algorithm=ball_tree, leaf_size=27, n_neighbors=10;, score=0.963 total time=   0.0s\n",
      "[CV 2/5] END algorithm=ball_tree, leaf_size=27, n_neighbors=10;, score=0.952 total time=   0.0s\n",
      "[CV 3/5] END algorithm=ball_tree, leaf_size=27, n_neighbors=10;, score=0.949 total time=   0.0s\n",
      "[CV 4/5] END algorithm=ball_tree, leaf_size=27, n_neighbors=10;, score=0.930 total time=   0.0s\n",
      "[CV 5/5] END algorithm=ball_tree, leaf_size=27, n_neighbors=10;, score=0.946 total time=   0.0s\n",
      "[CV 1/5] END algorithm=ball_tree, leaf_size=27, n_neighbors=11;, score=0.963 total time=   0.0s\n",
      "[CV 2/5] END algorithm=ball_tree, leaf_size=27, n_neighbors=11;, score=0.952 total time=   0.0s\n",
      "[CV 3/5] END algorithm=ball_tree, leaf_size=27, n_neighbors=11;, score=0.941 total time=   0.0s\n",
      "[CV 4/5] END algorithm=ball_tree, leaf_size=27, n_neighbors=11;, score=0.932 total time=   0.0s\n",
      "[CV 5/5] END algorithm=ball_tree, leaf_size=27, n_neighbors=11;, score=0.952 total time=   0.0s\n",
      "[CV 1/5] END algorithm=ball_tree, leaf_size=27, n_neighbors=12;, score=0.963 total time=   0.0s\n",
      "[CV 2/5] END algorithm=ball_tree, leaf_size=27, n_neighbors=12;, score=0.952 total time=   0.0s\n",
      "[CV 3/5] END algorithm=ball_tree, leaf_size=27, n_neighbors=12;, score=0.952 total time=   0.0s\n",
      "[CV 4/5] END algorithm=ball_tree, leaf_size=27, n_neighbors=12;, score=0.927 total time=   0.0s\n",
      "[CV 5/5] END algorithm=ball_tree, leaf_size=27, n_neighbors=12;, score=0.949 total time=   0.0s\n",
      "[CV 1/5] END algorithm=ball_tree, leaf_size=27, n_neighbors=13;, score=0.969 total time=   0.0s\n",
      "[CV 2/5] END algorithm=ball_tree, leaf_size=27, n_neighbors=13;, score=0.952 total time=   0.0s\n",
      "[CV 3/5] END algorithm=ball_tree, leaf_size=27, n_neighbors=13;, score=0.952 total time=   0.0s\n",
      "[CV 4/5] END algorithm=ball_tree, leaf_size=27, n_neighbors=13;, score=0.930 total time=   0.0s\n",
      "[CV 5/5] END algorithm=ball_tree, leaf_size=27, n_neighbors=13;, score=0.946 total time=   0.0s\n",
      "[CV 1/5] END algorithm=ball_tree, leaf_size=30, n_neighbors=3;, score=0.949 total time=   0.0s\n",
      "[CV 2/5] END algorithm=ball_tree, leaf_size=30, n_neighbors=3;, score=0.944 total time=   0.0s\n",
      "[CV 3/5] END algorithm=ball_tree, leaf_size=30, n_neighbors=3;, score=0.935 total time=   0.0s\n",
      "[CV 4/5] END algorithm=ball_tree, leaf_size=30, n_neighbors=3;, score=0.949 total time=   0.0s\n",
      "[CV 5/5] END algorithm=ball_tree, leaf_size=30, n_neighbors=3;, score=0.952 total time=   0.0s\n",
      "[CV 1/5] END algorithm=ball_tree, leaf_size=30, n_neighbors=5;, score=0.961 total time=   0.0s\n",
      "[CV 2/5] END algorithm=ball_tree, leaf_size=30, n_neighbors=5;, score=0.946 total time=   0.0s\n",
      "[CV 3/5] END algorithm=ball_tree, leaf_size=30, n_neighbors=5;, score=0.938 total time=   0.0s\n",
      "[CV 4/5] END algorithm=ball_tree, leaf_size=30, n_neighbors=5;, score=0.946 total time=   0.0s\n",
      "[CV 5/5] END algorithm=ball_tree, leaf_size=30, n_neighbors=5;, score=0.946 total time=   0.0s\n",
      "[CV 1/5] END algorithm=ball_tree, leaf_size=30, n_neighbors=7;, score=0.958 total time=   0.0s\n",
      "[CV 2/5] END algorithm=ball_tree, leaf_size=30, n_neighbors=7;, score=0.949 total time=   0.0s\n",
      "[CV 3/5] END algorithm=ball_tree, leaf_size=30, n_neighbors=7;, score=0.946 total time=   0.0s\n",
      "[CV 4/5] END algorithm=ball_tree, leaf_size=30, n_neighbors=7;, score=0.930 total time=   0.0s\n",
      "[CV 5/5] END algorithm=ball_tree, leaf_size=30, n_neighbors=7;, score=0.955 total time=   0.0s\n",
      "[CV 1/5] END algorithm=ball_tree, leaf_size=30, n_neighbors=9;, score=0.955 total time=   0.0s\n",
      "[CV 2/5] END algorithm=ball_tree, leaf_size=30, n_neighbors=9;, score=0.946 total time=   0.0s\n",
      "[CV 3/5] END algorithm=ball_tree, leaf_size=30, n_neighbors=9;, score=0.944 total time=   0.0s\n",
      "[CV 4/5] END algorithm=ball_tree, leaf_size=30, n_neighbors=9;, score=0.932 total time=   0.0s\n"
     ]
    },
    {
     "name": "stdout",
     "output_type": "stream",
     "text": [
      "[CV 5/5] END algorithm=ball_tree, leaf_size=30, n_neighbors=9;, score=0.958 total time=   0.0s\n",
      "[CV 1/5] END algorithm=ball_tree, leaf_size=30, n_neighbors=10;, score=0.963 total time=   0.0s\n",
      "[CV 2/5] END algorithm=ball_tree, leaf_size=30, n_neighbors=10;, score=0.952 total time=   0.0s\n",
      "[CV 3/5] END algorithm=ball_tree, leaf_size=30, n_neighbors=10;, score=0.949 total time=   0.0s\n",
      "[CV 4/5] END algorithm=ball_tree, leaf_size=30, n_neighbors=10;, score=0.930 total time=   0.0s\n",
      "[CV 5/5] END algorithm=ball_tree, leaf_size=30, n_neighbors=10;, score=0.946 total time=   0.0s\n",
      "[CV 1/5] END algorithm=ball_tree, leaf_size=30, n_neighbors=11;, score=0.963 total time=   0.0s\n",
      "[CV 2/5] END algorithm=ball_tree, leaf_size=30, n_neighbors=11;, score=0.952 total time=   0.0s\n",
      "[CV 3/5] END algorithm=ball_tree, leaf_size=30, n_neighbors=11;, score=0.941 total time=   0.0s\n",
      "[CV 4/5] END algorithm=ball_tree, leaf_size=30, n_neighbors=11;, score=0.932 total time=   0.0s\n",
      "[CV 5/5] END algorithm=ball_tree, leaf_size=30, n_neighbors=11;, score=0.952 total time=   0.0s\n",
      "[CV 1/5] END algorithm=ball_tree, leaf_size=30, n_neighbors=12;, score=0.963 total time=   0.0s\n",
      "[CV 2/5] END algorithm=ball_tree, leaf_size=30, n_neighbors=12;, score=0.952 total time=   0.0s\n",
      "[CV 3/5] END algorithm=ball_tree, leaf_size=30, n_neighbors=12;, score=0.952 total time=   0.0s\n",
      "[CV 4/5] END algorithm=ball_tree, leaf_size=30, n_neighbors=12;, score=0.927 total time=   0.0s\n",
      "[CV 5/5] END algorithm=ball_tree, leaf_size=30, n_neighbors=12;, score=0.949 total time=   0.0s\n",
      "[CV 1/5] END algorithm=ball_tree, leaf_size=30, n_neighbors=13;, score=0.969 total time=   0.0s\n",
      "[CV 2/5] END algorithm=ball_tree, leaf_size=30, n_neighbors=13;, score=0.952 total time=   0.0s\n",
      "[CV 3/5] END algorithm=ball_tree, leaf_size=30, n_neighbors=13;, score=0.952 total time=   0.0s\n",
      "[CV 4/5] END algorithm=ball_tree, leaf_size=30, n_neighbors=13;, score=0.930 total time=   0.0s\n",
      "[CV 5/5] END algorithm=ball_tree, leaf_size=30, n_neighbors=13;, score=0.946 total time=   0.0s\n",
      "[CV 1/5] END algorithm=ball_tree, leaf_size=32, n_neighbors=3;, score=0.949 total time=   0.0s\n",
      "[CV 2/5] END algorithm=ball_tree, leaf_size=32, n_neighbors=3;, score=0.944 total time=   0.0s\n",
      "[CV 3/5] END algorithm=ball_tree, leaf_size=32, n_neighbors=3;, score=0.935 total time=   0.0s\n",
      "[CV 4/5] END algorithm=ball_tree, leaf_size=32, n_neighbors=3;, score=0.949 total time=   0.0s\n",
      "[CV 5/5] END algorithm=ball_tree, leaf_size=32, n_neighbors=3;, score=0.952 total time=   0.0s\n",
      "[CV 1/5] END algorithm=ball_tree, leaf_size=32, n_neighbors=5;, score=0.961 total time=   0.0s\n",
      "[CV 2/5] END algorithm=ball_tree, leaf_size=32, n_neighbors=5;, score=0.946 total time=   0.0s\n",
      "[CV 3/5] END algorithm=ball_tree, leaf_size=32, n_neighbors=5;, score=0.938 total time=   0.0s\n",
      "[CV 4/5] END algorithm=ball_tree, leaf_size=32, n_neighbors=5;, score=0.946 total time=   0.0s\n",
      "[CV 5/5] END algorithm=ball_tree, leaf_size=32, n_neighbors=5;, score=0.946 total time=   0.0s\n",
      "[CV 1/5] END algorithm=ball_tree, leaf_size=32, n_neighbors=7;, score=0.958 total time=   0.0s\n",
      "[CV 2/5] END algorithm=ball_tree, leaf_size=32, n_neighbors=7;, score=0.949 total time=   0.0s\n",
      "[CV 3/5] END algorithm=ball_tree, leaf_size=32, n_neighbors=7;, score=0.946 total time=   0.0s\n",
      "[CV 4/5] END algorithm=ball_tree, leaf_size=32, n_neighbors=7;, score=0.930 total time=   0.0s\n",
      "[CV 5/5] END algorithm=ball_tree, leaf_size=32, n_neighbors=7;, score=0.955 total time=   0.0s\n",
      "[CV 1/5] END algorithm=ball_tree, leaf_size=32, n_neighbors=9;, score=0.955 total time=   0.0s\n",
      "[CV 2/5] END algorithm=ball_tree, leaf_size=32, n_neighbors=9;, score=0.946 total time=   0.0s\n",
      "[CV 3/5] END algorithm=ball_tree, leaf_size=32, n_neighbors=9;, score=0.944 total time=   0.0s\n",
      "[CV 4/5] END algorithm=ball_tree, leaf_size=32, n_neighbors=9;, score=0.932 total time=   0.0s\n",
      "[CV 5/5] END algorithm=ball_tree, leaf_size=32, n_neighbors=9;, score=0.958 total time=   0.0s\n",
      "[CV 1/5] END algorithm=ball_tree, leaf_size=32, n_neighbors=10;, score=0.963 total time=   0.0s\n",
      "[CV 2/5] END algorithm=ball_tree, leaf_size=32, n_neighbors=10;, score=0.952 total time=   0.0s\n",
      "[CV 3/5] END algorithm=ball_tree, leaf_size=32, n_neighbors=10;, score=0.949 total time=   0.0s\n",
      "[CV 4/5] END algorithm=ball_tree, leaf_size=32, n_neighbors=10;, score=0.930 total time=   0.0s\n",
      "[CV 5/5] END algorithm=ball_tree, leaf_size=32, n_neighbors=10;, score=0.946 total time=   0.0s\n",
      "[CV 1/5] END algorithm=ball_tree, leaf_size=32, n_neighbors=11;, score=0.963 total time=   0.0s\n",
      "[CV 2/5] END algorithm=ball_tree, leaf_size=32, n_neighbors=11;, score=0.952 total time=   0.0s\n",
      "[CV 3/5] END algorithm=ball_tree, leaf_size=32, n_neighbors=11;, score=0.941 total time=   0.0s\n",
      "[CV 4/5] END algorithm=ball_tree, leaf_size=32, n_neighbors=11;, score=0.932 total time=   0.0s\n",
      "[CV 5/5] END algorithm=ball_tree, leaf_size=32, n_neighbors=11;, score=0.952 total time=   0.0s\n",
      "[CV 1/5] END algorithm=ball_tree, leaf_size=32, n_neighbors=12;, score=0.963 total time=   0.0s\n",
      "[CV 2/5] END algorithm=ball_tree, leaf_size=32, n_neighbors=12;, score=0.952 total time=   0.0s\n",
      "[CV 3/5] END algorithm=ball_tree, leaf_size=32, n_neighbors=12;, score=0.952 total time=   0.0s\n",
      "[CV 4/5] END algorithm=ball_tree, leaf_size=32, n_neighbors=12;, score=0.927 total time=   0.0s\n",
      "[CV 5/5] END algorithm=ball_tree, leaf_size=32, n_neighbors=12;, score=0.949 total time=   0.0s\n",
      "[CV 1/5] END algorithm=ball_tree, leaf_size=32, n_neighbors=13;, score=0.969 total time=   0.0s\n",
      "[CV 2/5] END algorithm=ball_tree, leaf_size=32, n_neighbors=13;, score=0.952 total time=   0.0s\n",
      "[CV 3/5] END algorithm=ball_tree, leaf_size=32, n_neighbors=13;, score=0.952 total time=   0.0s\n",
      "[CV 4/5] END algorithm=ball_tree, leaf_size=32, n_neighbors=13;, score=0.930 total time=   0.0s\n",
      "[CV 5/5] END algorithm=ball_tree, leaf_size=32, n_neighbors=13;, score=0.946 total time=   0.0s\n",
      "[CV 1/5] END algorithm=ball_tree, leaf_size=34, n_neighbors=3;, score=0.949 total time=   0.0s\n",
      "[CV 2/5] END algorithm=ball_tree, leaf_size=34, n_neighbors=3;, score=0.944 total time=   0.0s\n",
      "[CV 3/5] END algorithm=ball_tree, leaf_size=34, n_neighbors=3;, score=0.935 total time=   0.0s\n",
      "[CV 4/5] END algorithm=ball_tree, leaf_size=34, n_neighbors=3;, score=0.949 total time=   0.0s\n",
      "[CV 5/5] END algorithm=ball_tree, leaf_size=34, n_neighbors=3;, score=0.952 total time=   0.0s\n",
      "[CV 1/5] END algorithm=ball_tree, leaf_size=34, n_neighbors=5;, score=0.961 total time=   0.0s\n",
      "[CV 2/5] END algorithm=ball_tree, leaf_size=34, n_neighbors=5;, score=0.946 total time=   0.0s\n",
      "[CV 3/5] END algorithm=ball_tree, leaf_size=34, n_neighbors=5;, score=0.938 total time=   0.0s\n",
      "[CV 4/5] END algorithm=ball_tree, leaf_size=34, n_neighbors=5;, score=0.946 total time=   0.0s\n",
      "[CV 5/5] END algorithm=ball_tree, leaf_size=34, n_neighbors=5;, score=0.946 total time=   0.0s\n",
      "[CV 1/5] END algorithm=ball_tree, leaf_size=34, n_neighbors=7;, score=0.958 total time=   0.0s\n",
      "[CV 2/5] END algorithm=ball_tree, leaf_size=34, n_neighbors=7;, score=0.949 total time=   0.0s\n",
      "[CV 3/5] END algorithm=ball_tree, leaf_size=34, n_neighbors=7;, score=0.946 total time=   0.0s\n",
      "[CV 4/5] END algorithm=ball_tree, leaf_size=34, n_neighbors=7;, score=0.930 total time=   0.0s\n",
      "[CV 5/5] END algorithm=ball_tree, leaf_size=34, n_neighbors=7;, score=0.955 total time=   0.0s\n",
      "[CV 1/5] END algorithm=ball_tree, leaf_size=34, n_neighbors=9;, score=0.955 total time=   0.0s\n",
      "[CV 2/5] END algorithm=ball_tree, leaf_size=34, n_neighbors=9;, score=0.946 total time=   0.0s\n",
      "[CV 3/5] END algorithm=ball_tree, leaf_size=34, n_neighbors=9;, score=0.944 total time=   0.0s\n",
      "[CV 4/5] END algorithm=ball_tree, leaf_size=34, n_neighbors=9;, score=0.932 total time=   0.0s\n",
      "[CV 5/5] END algorithm=ball_tree, leaf_size=34, n_neighbors=9;, score=0.958 total time=   0.0s\n",
      "[CV 1/5] END algorithm=ball_tree, leaf_size=34, n_neighbors=10;, score=0.963 total time=   0.0s\n",
      "[CV 2/5] END algorithm=ball_tree, leaf_size=34, n_neighbors=10;, score=0.952 total time=   0.0s\n",
      "[CV 3/5] END algorithm=ball_tree, leaf_size=34, n_neighbors=10;, score=0.949 total time=   0.0s\n",
      "[CV 4/5] END algorithm=ball_tree, leaf_size=34, n_neighbors=10;, score=0.930 total time=   0.0s\n",
      "[CV 5/5] END algorithm=ball_tree, leaf_size=34, n_neighbors=10;, score=0.946 total time=   0.0s\n",
      "[CV 1/5] END algorithm=ball_tree, leaf_size=34, n_neighbors=11;, score=0.963 total time=   0.0s\n",
      "[CV 2/5] END algorithm=ball_tree, leaf_size=34, n_neighbors=11;, score=0.952 total time=   0.0s\n",
      "[CV 3/5] END algorithm=ball_tree, leaf_size=34, n_neighbors=11;, score=0.941 total time=   0.0s\n",
      "[CV 4/5] END algorithm=ball_tree, leaf_size=34, n_neighbors=11;, score=0.932 total time=   0.0s\n",
      "[CV 5/5] END algorithm=ball_tree, leaf_size=34, n_neighbors=11;, score=0.952 total time=   0.0s\n"
     ]
    },
    {
     "name": "stdout",
     "output_type": "stream",
     "text": [
      "[CV 1/5] END algorithm=ball_tree, leaf_size=34, n_neighbors=12;, score=0.963 total time=   0.0s\n",
      "[CV 2/5] END algorithm=ball_tree, leaf_size=34, n_neighbors=12;, score=0.952 total time=   0.0s\n",
      "[CV 3/5] END algorithm=ball_tree, leaf_size=34, n_neighbors=12;, score=0.952 total time=   0.0s\n",
      "[CV 4/5] END algorithm=ball_tree, leaf_size=34, n_neighbors=12;, score=0.927 total time=   0.0s\n",
      "[CV 5/5] END algorithm=ball_tree, leaf_size=34, n_neighbors=12;, score=0.949 total time=   0.0s\n",
      "[CV 1/5] END algorithm=ball_tree, leaf_size=34, n_neighbors=13;, score=0.969 total time=   0.0s\n",
      "[CV 2/5] END algorithm=ball_tree, leaf_size=34, n_neighbors=13;, score=0.952 total time=   0.0s\n",
      "[CV 3/5] END algorithm=ball_tree, leaf_size=34, n_neighbors=13;, score=0.952 total time=   0.0s\n",
      "[CV 4/5] END algorithm=ball_tree, leaf_size=34, n_neighbors=13;, score=0.930 total time=   0.0s\n",
      "[CV 5/5] END algorithm=ball_tree, leaf_size=34, n_neighbors=13;, score=0.946 total time=   0.0s\n",
      "[CV 1/5] END algorithm=kd_tree, leaf_size=18, n_neighbors=3;, score=0.949 total time=   0.0s\n",
      "[CV 2/5] END algorithm=kd_tree, leaf_size=18, n_neighbors=3;, score=0.944 total time=   0.0s\n",
      "[CV 3/5] END algorithm=kd_tree, leaf_size=18, n_neighbors=3;, score=0.935 total time=   0.0s\n",
      "[CV 4/5] END algorithm=kd_tree, leaf_size=18, n_neighbors=3;, score=0.949 total time=   0.0s\n",
      "[CV 5/5] END algorithm=kd_tree, leaf_size=18, n_neighbors=3;, score=0.952 total time=   0.0s\n",
      "[CV 1/5] END algorithm=kd_tree, leaf_size=18, n_neighbors=5;, score=0.961 total time=   0.0s\n",
      "[CV 2/5] END algorithm=kd_tree, leaf_size=18, n_neighbors=5;, score=0.946 total time=   0.0s\n",
      "[CV 3/5] END algorithm=kd_tree, leaf_size=18, n_neighbors=5;, score=0.938 total time=   0.0s\n",
      "[CV 4/5] END algorithm=kd_tree, leaf_size=18, n_neighbors=5;, score=0.946 total time=   0.0s\n",
      "[CV 5/5] END algorithm=kd_tree, leaf_size=18, n_neighbors=5;, score=0.946 total time=   0.0s\n",
      "[CV 1/5] END algorithm=kd_tree, leaf_size=18, n_neighbors=7;, score=0.958 total time=   0.0s\n",
      "[CV 2/5] END algorithm=kd_tree, leaf_size=18, n_neighbors=7;, score=0.949 total time=   0.0s\n",
      "[CV 3/5] END algorithm=kd_tree, leaf_size=18, n_neighbors=7;, score=0.946 total time=   0.0s\n",
      "[CV 4/5] END algorithm=kd_tree, leaf_size=18, n_neighbors=7;, score=0.930 total time=   0.0s\n",
      "[CV 5/5] END algorithm=kd_tree, leaf_size=18, n_neighbors=7;, score=0.955 total time=   0.0s\n",
      "[CV 1/5] END algorithm=kd_tree, leaf_size=18, n_neighbors=9;, score=0.955 total time=   0.0s\n",
      "[CV 2/5] END algorithm=kd_tree, leaf_size=18, n_neighbors=9;, score=0.946 total time=   0.0s\n",
      "[CV 3/5] END algorithm=kd_tree, leaf_size=18, n_neighbors=9;, score=0.944 total time=   0.0s\n",
      "[CV 4/5] END algorithm=kd_tree, leaf_size=18, n_neighbors=9;, score=0.932 total time=   0.0s\n",
      "[CV 5/5] END algorithm=kd_tree, leaf_size=18, n_neighbors=9;, score=0.958 total time=   0.0s\n",
      "[CV 1/5] END algorithm=kd_tree, leaf_size=18, n_neighbors=10;, score=0.963 total time=   0.0s\n",
      "[CV 2/5] END algorithm=kd_tree, leaf_size=18, n_neighbors=10;, score=0.952 total time=   0.0s\n",
      "[CV 3/5] END algorithm=kd_tree, leaf_size=18, n_neighbors=10;, score=0.949 total time=   0.0s\n",
      "[CV 4/5] END algorithm=kd_tree, leaf_size=18, n_neighbors=10;, score=0.930 total time=   0.0s\n",
      "[CV 5/5] END algorithm=kd_tree, leaf_size=18, n_neighbors=10;, score=0.946 total time=   0.0s\n",
      "[CV 1/5] END algorithm=kd_tree, leaf_size=18, n_neighbors=11;, score=0.963 total time=   0.0s\n",
      "[CV 2/5] END algorithm=kd_tree, leaf_size=18, n_neighbors=11;, score=0.952 total time=   0.0s\n",
      "[CV 3/5] END algorithm=kd_tree, leaf_size=18, n_neighbors=11;, score=0.941 total time=   0.0s\n",
      "[CV 4/5] END algorithm=kd_tree, leaf_size=18, n_neighbors=11;, score=0.932 total time=   0.0s\n",
      "[CV 5/5] END algorithm=kd_tree, leaf_size=18, n_neighbors=11;, score=0.952 total time=   0.0s\n",
      "[CV 1/5] END algorithm=kd_tree, leaf_size=18, n_neighbors=12;, score=0.963 total time=   0.0s\n",
      "[CV 2/5] END algorithm=kd_tree, leaf_size=18, n_neighbors=12;, score=0.952 total time=   0.0s\n",
      "[CV 3/5] END algorithm=kd_tree, leaf_size=18, n_neighbors=12;, score=0.952 total time=   0.0s\n",
      "[CV 4/5] END algorithm=kd_tree, leaf_size=18, n_neighbors=12;, score=0.927 total time=   0.0s\n",
      "[CV 5/5] END algorithm=kd_tree, leaf_size=18, n_neighbors=12;, score=0.949 total time=   0.0s\n",
      "[CV 1/5] END algorithm=kd_tree, leaf_size=18, n_neighbors=13;, score=0.969 total time=   0.0s\n",
      "[CV 2/5] END algorithm=kd_tree, leaf_size=18, n_neighbors=13;, score=0.952 total time=   0.0s\n",
      "[CV 3/5] END algorithm=kd_tree, leaf_size=18, n_neighbors=13;, score=0.952 total time=   0.0s\n",
      "[CV 4/5] END algorithm=kd_tree, leaf_size=18, n_neighbors=13;, score=0.930 total time=   0.0s\n",
      "[CV 5/5] END algorithm=kd_tree, leaf_size=18, n_neighbors=13;, score=0.946 total time=   0.0s\n",
      "[CV 1/5] END algorithm=kd_tree, leaf_size=20, n_neighbors=3;, score=0.949 total time=   0.0s\n",
      "[CV 2/5] END algorithm=kd_tree, leaf_size=20, n_neighbors=3;, score=0.944 total time=   0.0s\n",
      "[CV 3/5] END algorithm=kd_tree, leaf_size=20, n_neighbors=3;, score=0.935 total time=   0.0s\n",
      "[CV 4/5] END algorithm=kd_tree, leaf_size=20, n_neighbors=3;, score=0.949 total time=   0.0s\n",
      "[CV 5/5] END algorithm=kd_tree, leaf_size=20, n_neighbors=3;, score=0.952 total time=   0.0s\n",
      "[CV 1/5] END algorithm=kd_tree, leaf_size=20, n_neighbors=5;, score=0.961 total time=   0.0s\n",
      "[CV 2/5] END algorithm=kd_tree, leaf_size=20, n_neighbors=5;, score=0.946 total time=   0.0s\n",
      "[CV 3/5] END algorithm=kd_tree, leaf_size=20, n_neighbors=5;, score=0.938 total time=   0.0s\n",
      "[CV 4/5] END algorithm=kd_tree, leaf_size=20, n_neighbors=5;, score=0.946 total time=   0.0s\n",
      "[CV 5/5] END algorithm=kd_tree, leaf_size=20, n_neighbors=5;, score=0.946 total time=   0.0s\n",
      "[CV 1/5] END algorithm=kd_tree, leaf_size=20, n_neighbors=7;, score=0.958 total time=   0.0s\n",
      "[CV 2/5] END algorithm=kd_tree, leaf_size=20, n_neighbors=7;, score=0.949 total time=   0.0s\n",
      "[CV 3/5] END algorithm=kd_tree, leaf_size=20, n_neighbors=7;, score=0.946 total time=   0.0s\n",
      "[CV 4/5] END algorithm=kd_tree, leaf_size=20, n_neighbors=7;, score=0.930 total time=   0.0s\n",
      "[CV 5/5] END algorithm=kd_tree, leaf_size=20, n_neighbors=7;, score=0.955 total time=   0.0s\n",
      "[CV 1/5] END algorithm=kd_tree, leaf_size=20, n_neighbors=9;, score=0.955 total time=   0.0s\n",
      "[CV 2/5] END algorithm=kd_tree, leaf_size=20, n_neighbors=9;, score=0.946 total time=   0.0s\n",
      "[CV 3/5] END algorithm=kd_tree, leaf_size=20, n_neighbors=9;, score=0.944 total time=   0.0s\n",
      "[CV 4/5] END algorithm=kd_tree, leaf_size=20, n_neighbors=9;, score=0.932 total time=   0.0s\n",
      "[CV 5/5] END algorithm=kd_tree, leaf_size=20, n_neighbors=9;, score=0.958 total time=   0.0s\n",
      "[CV 1/5] END algorithm=kd_tree, leaf_size=20, n_neighbors=10;, score=0.963 total time=   0.0s\n",
      "[CV 2/5] END algorithm=kd_tree, leaf_size=20, n_neighbors=10;, score=0.952 total time=   0.0s\n",
      "[CV 3/5] END algorithm=kd_tree, leaf_size=20, n_neighbors=10;, score=0.949 total time=   0.0s\n",
      "[CV 4/5] END algorithm=kd_tree, leaf_size=20, n_neighbors=10;, score=0.930 total time=   0.0s\n",
      "[CV 5/5] END algorithm=kd_tree, leaf_size=20, n_neighbors=10;, score=0.946 total time=   0.0s\n",
      "[CV 1/5] END algorithm=kd_tree, leaf_size=20, n_neighbors=11;, score=0.963 total time=   0.0s\n",
      "[CV 2/5] END algorithm=kd_tree, leaf_size=20, n_neighbors=11;, score=0.952 total time=   0.0s\n",
      "[CV 3/5] END algorithm=kd_tree, leaf_size=20, n_neighbors=11;, score=0.941 total time=   0.0s\n",
      "[CV 4/5] END algorithm=kd_tree, leaf_size=20, n_neighbors=11;, score=0.932 total time=   0.0s\n",
      "[CV 5/5] END algorithm=kd_tree, leaf_size=20, n_neighbors=11;, score=0.952 total time=   0.0s\n",
      "[CV 1/5] END algorithm=kd_tree, leaf_size=20, n_neighbors=12;, score=0.963 total time=   0.0s\n",
      "[CV 2/5] END algorithm=kd_tree, leaf_size=20, n_neighbors=12;, score=0.952 total time=   0.0s\n",
      "[CV 3/5] END algorithm=kd_tree, leaf_size=20, n_neighbors=12;, score=0.952 total time=   0.0s\n",
      "[CV 4/5] END algorithm=kd_tree, leaf_size=20, n_neighbors=12;, score=0.927 total time=   0.0s\n",
      "[CV 5/5] END algorithm=kd_tree, leaf_size=20, n_neighbors=12;, score=0.949 total time=   0.0s\n",
      "[CV 1/5] END algorithm=kd_tree, leaf_size=20, n_neighbors=13;, score=0.969 total time=   0.0s\n",
      "[CV 2/5] END algorithm=kd_tree, leaf_size=20, n_neighbors=13;, score=0.952 total time=   0.0s\n",
      "[CV 3/5] END algorithm=kd_tree, leaf_size=20, n_neighbors=13;, score=0.952 total time=   0.0s\n",
      "[CV 4/5] END algorithm=kd_tree, leaf_size=20, n_neighbors=13;, score=0.930 total time=   0.0s\n",
      "[CV 5/5] END algorithm=kd_tree, leaf_size=20, n_neighbors=13;, score=0.946 total time=   0.0s\n",
      "[CV 1/5] END algorithm=kd_tree, leaf_size=25, n_neighbors=3;, score=0.949 total time=   0.0s\n"
     ]
    },
    {
     "name": "stdout",
     "output_type": "stream",
     "text": [
      "[CV 2/5] END algorithm=kd_tree, leaf_size=25, n_neighbors=3;, score=0.944 total time=   0.0s\n",
      "[CV 3/5] END algorithm=kd_tree, leaf_size=25, n_neighbors=3;, score=0.935 total time=   0.0s\n",
      "[CV 4/5] END algorithm=kd_tree, leaf_size=25, n_neighbors=3;, score=0.949 total time=   0.0s\n",
      "[CV 5/5] END algorithm=kd_tree, leaf_size=25, n_neighbors=3;, score=0.952 total time=   0.0s\n",
      "[CV 1/5] END algorithm=kd_tree, leaf_size=25, n_neighbors=5;, score=0.961 total time=   0.0s\n",
      "[CV 2/5] END algorithm=kd_tree, leaf_size=25, n_neighbors=5;, score=0.946 total time=   0.0s\n",
      "[CV 3/5] END algorithm=kd_tree, leaf_size=25, n_neighbors=5;, score=0.938 total time=   0.0s\n",
      "[CV 4/5] END algorithm=kd_tree, leaf_size=25, n_neighbors=5;, score=0.946 total time=   0.0s\n",
      "[CV 5/5] END algorithm=kd_tree, leaf_size=25, n_neighbors=5;, score=0.946 total time=   0.0s\n",
      "[CV 1/5] END algorithm=kd_tree, leaf_size=25, n_neighbors=7;, score=0.958 total time=   0.0s\n",
      "[CV 2/5] END algorithm=kd_tree, leaf_size=25, n_neighbors=7;, score=0.949 total time=   0.0s\n",
      "[CV 3/5] END algorithm=kd_tree, leaf_size=25, n_neighbors=7;, score=0.946 total time=   0.0s\n",
      "[CV 4/5] END algorithm=kd_tree, leaf_size=25, n_neighbors=7;, score=0.930 total time=   0.0s\n",
      "[CV 5/5] END algorithm=kd_tree, leaf_size=25, n_neighbors=7;, score=0.955 total time=   0.0s\n",
      "[CV 1/5] END algorithm=kd_tree, leaf_size=25, n_neighbors=9;, score=0.955 total time=   0.0s\n",
      "[CV 2/5] END algorithm=kd_tree, leaf_size=25, n_neighbors=9;, score=0.946 total time=   0.0s\n",
      "[CV 3/5] END algorithm=kd_tree, leaf_size=25, n_neighbors=9;, score=0.944 total time=   0.0s\n",
      "[CV 4/5] END algorithm=kd_tree, leaf_size=25, n_neighbors=9;, score=0.932 total time=   0.0s\n",
      "[CV 5/5] END algorithm=kd_tree, leaf_size=25, n_neighbors=9;, score=0.958 total time=   0.0s\n",
      "[CV 1/5] END algorithm=kd_tree, leaf_size=25, n_neighbors=10;, score=0.963 total time=   0.0s\n",
      "[CV 2/5] END algorithm=kd_tree, leaf_size=25, n_neighbors=10;, score=0.952 total time=   0.0s\n",
      "[CV 3/5] END algorithm=kd_tree, leaf_size=25, n_neighbors=10;, score=0.949 total time=   0.0s\n",
      "[CV 4/5] END algorithm=kd_tree, leaf_size=25, n_neighbors=10;, score=0.930 total time=   0.0s\n",
      "[CV 5/5] END algorithm=kd_tree, leaf_size=25, n_neighbors=10;, score=0.946 total time=   0.0s\n",
      "[CV 1/5] END algorithm=kd_tree, leaf_size=25, n_neighbors=11;, score=0.963 total time=   0.0s\n",
      "[CV 2/5] END algorithm=kd_tree, leaf_size=25, n_neighbors=11;, score=0.952 total time=   0.0s\n",
      "[CV 3/5] END algorithm=kd_tree, leaf_size=25, n_neighbors=11;, score=0.941 total time=   0.0s\n",
      "[CV 4/5] END algorithm=kd_tree, leaf_size=25, n_neighbors=11;, score=0.932 total time=   0.0s\n",
      "[CV 5/5] END algorithm=kd_tree, leaf_size=25, n_neighbors=11;, score=0.952 total time=   0.0s\n",
      "[CV 1/5] END algorithm=kd_tree, leaf_size=25, n_neighbors=12;, score=0.963 total time=   0.0s\n",
      "[CV 2/5] END algorithm=kd_tree, leaf_size=25, n_neighbors=12;, score=0.952 total time=   0.0s\n",
      "[CV 3/5] END algorithm=kd_tree, leaf_size=25, n_neighbors=12;, score=0.952 total time=   0.0s\n",
      "[CV 4/5] END algorithm=kd_tree, leaf_size=25, n_neighbors=12;, score=0.927 total time=   0.0s\n",
      "[CV 5/5] END algorithm=kd_tree, leaf_size=25, n_neighbors=12;, score=0.949 total time=   0.0s\n",
      "[CV 1/5] END algorithm=kd_tree, leaf_size=25, n_neighbors=13;, score=0.969 total time=   0.0s\n",
      "[CV 2/5] END algorithm=kd_tree, leaf_size=25, n_neighbors=13;, score=0.952 total time=   0.0s\n",
      "[CV 3/5] END algorithm=kd_tree, leaf_size=25, n_neighbors=13;, score=0.952 total time=   0.0s\n",
      "[CV 4/5] END algorithm=kd_tree, leaf_size=25, n_neighbors=13;, score=0.930 total time=   0.0s\n",
      "[CV 5/5] END algorithm=kd_tree, leaf_size=25, n_neighbors=13;, score=0.946 total time=   0.0s\n",
      "[CV 1/5] END algorithm=kd_tree, leaf_size=27, n_neighbors=3;, score=0.949 total time=   0.0s\n",
      "[CV 2/5] END algorithm=kd_tree, leaf_size=27, n_neighbors=3;, score=0.944 total time=   0.0s\n",
      "[CV 3/5] END algorithm=kd_tree, leaf_size=27, n_neighbors=3;, score=0.935 total time=   0.0s\n",
      "[CV 4/5] END algorithm=kd_tree, leaf_size=27, n_neighbors=3;, score=0.949 total time=   0.0s\n",
      "[CV 5/5] END algorithm=kd_tree, leaf_size=27, n_neighbors=3;, score=0.952 total time=   0.0s\n",
      "[CV 1/5] END algorithm=kd_tree, leaf_size=27, n_neighbors=5;, score=0.961 total time=   0.0s\n",
      "[CV 2/5] END algorithm=kd_tree, leaf_size=27, n_neighbors=5;, score=0.946 total time=   0.0s\n",
      "[CV 3/5] END algorithm=kd_tree, leaf_size=27, n_neighbors=5;, score=0.938 total time=   0.0s\n",
      "[CV 4/5] END algorithm=kd_tree, leaf_size=27, n_neighbors=5;, score=0.946 total time=   0.0s\n",
      "[CV 5/5] END algorithm=kd_tree, leaf_size=27, n_neighbors=5;, score=0.946 total time=   0.0s\n",
      "[CV 1/5] END algorithm=kd_tree, leaf_size=27, n_neighbors=7;, score=0.958 total time=   0.0s\n",
      "[CV 2/5] END algorithm=kd_tree, leaf_size=27, n_neighbors=7;, score=0.949 total time=   0.0s\n",
      "[CV 3/5] END algorithm=kd_tree, leaf_size=27, n_neighbors=7;, score=0.946 total time=   0.0s\n",
      "[CV 4/5] END algorithm=kd_tree, leaf_size=27, n_neighbors=7;, score=0.930 total time=   0.0s\n",
      "[CV 5/5] END algorithm=kd_tree, leaf_size=27, n_neighbors=7;, score=0.955 total time=   0.0s\n",
      "[CV 1/5] END algorithm=kd_tree, leaf_size=27, n_neighbors=9;, score=0.955 total time=   0.0s\n",
      "[CV 2/5] END algorithm=kd_tree, leaf_size=27, n_neighbors=9;, score=0.946 total time=   0.0s\n",
      "[CV 3/5] END algorithm=kd_tree, leaf_size=27, n_neighbors=9;, score=0.944 total time=   0.0s\n",
      "[CV 4/5] END algorithm=kd_tree, leaf_size=27, n_neighbors=9;, score=0.932 total time=   0.0s\n",
      "[CV 5/5] END algorithm=kd_tree, leaf_size=27, n_neighbors=9;, score=0.958 total time=   0.0s\n",
      "[CV 1/5] END algorithm=kd_tree, leaf_size=27, n_neighbors=10;, score=0.963 total time=   0.0s\n",
      "[CV 2/5] END algorithm=kd_tree, leaf_size=27, n_neighbors=10;, score=0.952 total time=   0.0s\n",
      "[CV 3/5] END algorithm=kd_tree, leaf_size=27, n_neighbors=10;, score=0.949 total time=   0.0s\n",
      "[CV 4/5] END algorithm=kd_tree, leaf_size=27, n_neighbors=10;, score=0.930 total time=   0.0s\n",
      "[CV 5/5] END algorithm=kd_tree, leaf_size=27, n_neighbors=10;, score=0.946 total time=   0.0s\n",
      "[CV 1/5] END algorithm=kd_tree, leaf_size=27, n_neighbors=11;, score=0.963 total time=   0.0s\n",
      "[CV 2/5] END algorithm=kd_tree, leaf_size=27, n_neighbors=11;, score=0.952 total time=   0.0s\n",
      "[CV 3/5] END algorithm=kd_tree, leaf_size=27, n_neighbors=11;, score=0.941 total time=   0.0s\n",
      "[CV 4/5] END algorithm=kd_tree, leaf_size=27, n_neighbors=11;, score=0.932 total time=   0.0s\n",
      "[CV 5/5] END algorithm=kd_tree, leaf_size=27, n_neighbors=11;, score=0.952 total time=   0.0s\n",
      "[CV 1/5] END algorithm=kd_tree, leaf_size=27, n_neighbors=12;, score=0.963 total time=   0.0s\n",
      "[CV 2/5] END algorithm=kd_tree, leaf_size=27, n_neighbors=12;, score=0.952 total time=   0.0s\n",
      "[CV 3/5] END algorithm=kd_tree, leaf_size=27, n_neighbors=12;, score=0.952 total time=   0.0s\n",
      "[CV 4/5] END algorithm=kd_tree, leaf_size=27, n_neighbors=12;, score=0.927 total time=   0.0s\n",
      "[CV 5/5] END algorithm=kd_tree, leaf_size=27, n_neighbors=12;, score=0.949 total time=   0.0s\n",
      "[CV 1/5] END algorithm=kd_tree, leaf_size=27, n_neighbors=13;, score=0.969 total time=   0.0s\n",
      "[CV 2/5] END algorithm=kd_tree, leaf_size=27, n_neighbors=13;, score=0.952 total time=   0.0s\n",
      "[CV 3/5] END algorithm=kd_tree, leaf_size=27, n_neighbors=13;, score=0.952 total time=   0.0s\n",
      "[CV 4/5] END algorithm=kd_tree, leaf_size=27, n_neighbors=13;, score=0.930 total time=   0.0s\n",
      "[CV 5/5] END algorithm=kd_tree, leaf_size=27, n_neighbors=13;, score=0.946 total time=   0.0s\n",
      "[CV 1/5] END algorithm=kd_tree, leaf_size=30, n_neighbors=3;, score=0.949 total time=   0.0s\n",
      "[CV 2/5] END algorithm=kd_tree, leaf_size=30, n_neighbors=3;, score=0.944 total time=   0.0s\n",
      "[CV 3/5] END algorithm=kd_tree, leaf_size=30, n_neighbors=3;, score=0.935 total time=   0.0s\n",
      "[CV 4/5] END algorithm=kd_tree, leaf_size=30, n_neighbors=3;, score=0.949 total time=   0.0s\n",
      "[CV 5/5] END algorithm=kd_tree, leaf_size=30, n_neighbors=3;, score=0.952 total time=   0.0s\n",
      "[CV 1/5] END algorithm=kd_tree, leaf_size=30, n_neighbors=5;, score=0.961 total time=   0.0s\n",
      "[CV 2/5] END algorithm=kd_tree, leaf_size=30, n_neighbors=5;, score=0.946 total time=   0.0s\n",
      "[CV 3/5] END algorithm=kd_tree, leaf_size=30, n_neighbors=5;, score=0.938 total time=   0.0s\n",
      "[CV 4/5] END algorithm=kd_tree, leaf_size=30, n_neighbors=5;, score=0.946 total time=   0.0s\n",
      "[CV 5/5] END algorithm=kd_tree, leaf_size=30, n_neighbors=5;, score=0.946 total time=   0.0s\n",
      "[CV 1/5] END algorithm=kd_tree, leaf_size=30, n_neighbors=7;, score=0.958 total time=   0.0s\n",
      "[CV 2/5] END algorithm=kd_tree, leaf_size=30, n_neighbors=7;, score=0.949 total time=   0.0s\n",
      "[CV 3/5] END algorithm=kd_tree, leaf_size=30, n_neighbors=7;, score=0.946 total time=   0.0s\n",
      "[CV 4/5] END algorithm=kd_tree, leaf_size=30, n_neighbors=7;, score=0.930 total time=   0.0s\n",
      "[CV 5/5] END algorithm=kd_tree, leaf_size=30, n_neighbors=7;, score=0.955 total time=   0.0s\n",
      "[CV 1/5] END algorithm=kd_tree, leaf_size=30, n_neighbors=9;, score=0.955 total time=   0.0s\n"
     ]
    },
    {
     "name": "stdout",
     "output_type": "stream",
     "text": [
      "[CV 2/5] END algorithm=kd_tree, leaf_size=30, n_neighbors=9;, score=0.946 total time=   0.0s\n",
      "[CV 3/5] END algorithm=kd_tree, leaf_size=30, n_neighbors=9;, score=0.944 total time=   0.0s\n",
      "[CV 4/5] END algorithm=kd_tree, leaf_size=30, n_neighbors=9;, score=0.932 total time=   0.0s\n",
      "[CV 5/5] END algorithm=kd_tree, leaf_size=30, n_neighbors=9;, score=0.958 total time=   0.0s\n",
      "[CV 1/5] END algorithm=kd_tree, leaf_size=30, n_neighbors=10;, score=0.963 total time=   0.0s\n",
      "[CV 2/5] END algorithm=kd_tree, leaf_size=30, n_neighbors=10;, score=0.952 total time=   0.0s\n",
      "[CV 3/5] END algorithm=kd_tree, leaf_size=30, n_neighbors=10;, score=0.949 total time=   0.0s\n",
      "[CV 4/5] END algorithm=kd_tree, leaf_size=30, n_neighbors=10;, score=0.930 total time=   0.0s\n",
      "[CV 5/5] END algorithm=kd_tree, leaf_size=30, n_neighbors=10;, score=0.946 total time=   0.0s\n",
      "[CV 1/5] END algorithm=kd_tree, leaf_size=30, n_neighbors=11;, score=0.963 total time=   0.0s\n",
      "[CV 2/5] END algorithm=kd_tree, leaf_size=30, n_neighbors=11;, score=0.952 total time=   0.0s\n",
      "[CV 3/5] END algorithm=kd_tree, leaf_size=30, n_neighbors=11;, score=0.941 total time=   0.0s\n",
      "[CV 4/5] END algorithm=kd_tree, leaf_size=30, n_neighbors=11;, score=0.932 total time=   0.0s\n",
      "[CV 5/5] END algorithm=kd_tree, leaf_size=30, n_neighbors=11;, score=0.952 total time=   0.0s\n",
      "[CV 1/5] END algorithm=kd_tree, leaf_size=30, n_neighbors=12;, score=0.963 total time=   0.0s\n",
      "[CV 2/5] END algorithm=kd_tree, leaf_size=30, n_neighbors=12;, score=0.952 total time=   0.0s\n",
      "[CV 3/5] END algorithm=kd_tree, leaf_size=30, n_neighbors=12;, score=0.952 total time=   0.0s\n",
      "[CV 4/5] END algorithm=kd_tree, leaf_size=30, n_neighbors=12;, score=0.927 total time=   0.0s\n",
      "[CV 5/5] END algorithm=kd_tree, leaf_size=30, n_neighbors=12;, score=0.949 total time=   0.0s\n",
      "[CV 1/5] END algorithm=kd_tree, leaf_size=30, n_neighbors=13;, score=0.969 total time=   0.0s\n",
      "[CV 2/5] END algorithm=kd_tree, leaf_size=30, n_neighbors=13;, score=0.952 total time=   0.0s\n",
      "[CV 3/5] END algorithm=kd_tree, leaf_size=30, n_neighbors=13;, score=0.952 total time=   0.0s\n",
      "[CV 4/5] END algorithm=kd_tree, leaf_size=30, n_neighbors=13;, score=0.930 total time=   0.0s\n",
      "[CV 5/5] END algorithm=kd_tree, leaf_size=30, n_neighbors=13;, score=0.946 total time=   0.0s\n",
      "[CV 1/5] END algorithm=kd_tree, leaf_size=32, n_neighbors=3;, score=0.949 total time=   0.0s\n",
      "[CV 2/5] END algorithm=kd_tree, leaf_size=32, n_neighbors=3;, score=0.944 total time=   0.0s\n",
      "[CV 3/5] END algorithm=kd_tree, leaf_size=32, n_neighbors=3;, score=0.935 total time=   0.0s\n",
      "[CV 4/5] END algorithm=kd_tree, leaf_size=32, n_neighbors=3;, score=0.949 total time=   0.0s\n",
      "[CV 5/5] END algorithm=kd_tree, leaf_size=32, n_neighbors=3;, score=0.952 total time=   0.0s\n",
      "[CV 1/5] END algorithm=kd_tree, leaf_size=32, n_neighbors=5;, score=0.961 total time=   0.0s\n",
      "[CV 2/5] END algorithm=kd_tree, leaf_size=32, n_neighbors=5;, score=0.946 total time=   0.0s\n",
      "[CV 3/5] END algorithm=kd_tree, leaf_size=32, n_neighbors=5;, score=0.938 total time=   0.0s\n",
      "[CV 4/5] END algorithm=kd_tree, leaf_size=32, n_neighbors=5;, score=0.946 total time=   0.0s\n",
      "[CV 5/5] END algorithm=kd_tree, leaf_size=32, n_neighbors=5;, score=0.946 total time=   0.0s\n",
      "[CV 1/5] END algorithm=kd_tree, leaf_size=32, n_neighbors=7;, score=0.958 total time=   0.0s\n",
      "[CV 2/5] END algorithm=kd_tree, leaf_size=32, n_neighbors=7;, score=0.949 total time=   0.0s\n",
      "[CV 3/5] END algorithm=kd_tree, leaf_size=32, n_neighbors=7;, score=0.946 total time=   0.0s\n",
      "[CV 4/5] END algorithm=kd_tree, leaf_size=32, n_neighbors=7;, score=0.930 total time=   0.0s\n",
      "[CV 5/5] END algorithm=kd_tree, leaf_size=32, n_neighbors=7;, score=0.955 total time=   0.0s\n",
      "[CV 1/5] END algorithm=kd_tree, leaf_size=32, n_neighbors=9;, score=0.955 total time=   0.0s\n",
      "[CV 2/5] END algorithm=kd_tree, leaf_size=32, n_neighbors=9;, score=0.946 total time=   0.0s\n",
      "[CV 3/5] END algorithm=kd_tree, leaf_size=32, n_neighbors=9;, score=0.944 total time=   0.0s\n",
      "[CV 4/5] END algorithm=kd_tree, leaf_size=32, n_neighbors=9;, score=0.932 total time=   0.0s\n",
      "[CV 5/5] END algorithm=kd_tree, leaf_size=32, n_neighbors=9;, score=0.958 total time=   0.0s\n",
      "[CV 1/5] END algorithm=kd_tree, leaf_size=32, n_neighbors=10;, score=0.963 total time=   0.0s\n",
      "[CV 2/5] END algorithm=kd_tree, leaf_size=32, n_neighbors=10;, score=0.952 total time=   0.0s\n",
      "[CV 3/5] END algorithm=kd_tree, leaf_size=32, n_neighbors=10;, score=0.949 total time=   0.0s\n",
      "[CV 4/5] END algorithm=kd_tree, leaf_size=32, n_neighbors=10;, score=0.930 total time=   0.0s\n",
      "[CV 5/5] END algorithm=kd_tree, leaf_size=32, n_neighbors=10;, score=0.946 total time=   0.0s\n",
      "[CV 1/5] END algorithm=kd_tree, leaf_size=32, n_neighbors=11;, score=0.963 total time=   0.0s\n",
      "[CV 2/5] END algorithm=kd_tree, leaf_size=32, n_neighbors=11;, score=0.952 total time=   0.0s\n",
      "[CV 3/5] END algorithm=kd_tree, leaf_size=32, n_neighbors=11;, score=0.941 total time=   0.0s\n",
      "[CV 4/5] END algorithm=kd_tree, leaf_size=32, n_neighbors=11;, score=0.932 total time=   0.0s\n",
      "[CV 5/5] END algorithm=kd_tree, leaf_size=32, n_neighbors=11;, score=0.952 total time=   0.0s\n",
      "[CV 1/5] END algorithm=kd_tree, leaf_size=32, n_neighbors=12;, score=0.963 total time=   0.0s\n",
      "[CV 2/5] END algorithm=kd_tree, leaf_size=32, n_neighbors=12;, score=0.952 total time=   0.0s\n",
      "[CV 3/5] END algorithm=kd_tree, leaf_size=32, n_neighbors=12;, score=0.952 total time=   0.0s\n",
      "[CV 4/5] END algorithm=kd_tree, leaf_size=32, n_neighbors=12;, score=0.927 total time=   0.0s\n",
      "[CV 5/5] END algorithm=kd_tree, leaf_size=32, n_neighbors=12;, score=0.949 total time=   0.0s\n",
      "[CV 1/5] END algorithm=kd_tree, leaf_size=32, n_neighbors=13;, score=0.969 total time=   0.0s\n",
      "[CV 2/5] END algorithm=kd_tree, leaf_size=32, n_neighbors=13;, score=0.952 total time=   0.0s\n",
      "[CV 3/5] END algorithm=kd_tree, leaf_size=32, n_neighbors=13;, score=0.952 total time=   0.0s\n",
      "[CV 4/5] END algorithm=kd_tree, leaf_size=32, n_neighbors=13;, score=0.930 total time=   0.0s\n",
      "[CV 5/5] END algorithm=kd_tree, leaf_size=32, n_neighbors=13;, score=0.946 total time=   0.0s\n",
      "[CV 1/5] END algorithm=kd_tree, leaf_size=34, n_neighbors=3;, score=0.949 total time=   0.0s\n",
      "[CV 2/5] END algorithm=kd_tree, leaf_size=34, n_neighbors=3;, score=0.944 total time=   0.0s\n",
      "[CV 3/5] END algorithm=kd_tree, leaf_size=34, n_neighbors=3;, score=0.935 total time=   0.0s\n",
      "[CV 4/5] END algorithm=kd_tree, leaf_size=34, n_neighbors=3;, score=0.949 total time=   0.0s\n",
      "[CV 5/5] END algorithm=kd_tree, leaf_size=34, n_neighbors=3;, score=0.952 total time=   0.0s\n",
      "[CV 1/5] END algorithm=kd_tree, leaf_size=34, n_neighbors=5;, score=0.961 total time=   0.0s\n",
      "[CV 2/5] END algorithm=kd_tree, leaf_size=34, n_neighbors=5;, score=0.946 total time=   0.0s\n",
      "[CV 3/5] END algorithm=kd_tree, leaf_size=34, n_neighbors=5;, score=0.938 total time=   0.0s\n",
      "[CV 4/5] END algorithm=kd_tree, leaf_size=34, n_neighbors=5;, score=0.946 total time=   0.0s\n",
      "[CV 5/5] END algorithm=kd_tree, leaf_size=34, n_neighbors=5;, score=0.946 total time=   0.0s\n",
      "[CV 1/5] END algorithm=kd_tree, leaf_size=34, n_neighbors=7;, score=0.958 total time=   0.0s\n",
      "[CV 2/5] END algorithm=kd_tree, leaf_size=34, n_neighbors=7;, score=0.949 total time=   0.0s\n",
      "[CV 3/5] END algorithm=kd_tree, leaf_size=34, n_neighbors=7;, score=0.946 total time=   0.0s\n",
      "[CV 4/5] END algorithm=kd_tree, leaf_size=34, n_neighbors=7;, score=0.930 total time=   0.0s\n",
      "[CV 5/5] END algorithm=kd_tree, leaf_size=34, n_neighbors=7;, score=0.955 total time=   0.0s\n",
      "[CV 1/5] END algorithm=kd_tree, leaf_size=34, n_neighbors=9;, score=0.955 total time=   0.0s\n",
      "[CV 2/5] END algorithm=kd_tree, leaf_size=34, n_neighbors=9;, score=0.946 total time=   0.0s\n",
      "[CV 3/5] END algorithm=kd_tree, leaf_size=34, n_neighbors=9;, score=0.944 total time=   0.0s\n",
      "[CV 4/5] END algorithm=kd_tree, leaf_size=34, n_neighbors=9;, score=0.932 total time=   0.0s\n",
      "[CV 5/5] END algorithm=kd_tree, leaf_size=34, n_neighbors=9;, score=0.958 total time=   0.0s\n",
      "[CV 1/5] END algorithm=kd_tree, leaf_size=34, n_neighbors=10;, score=0.963 total time=   0.0s\n",
      "[CV 2/5] END algorithm=kd_tree, leaf_size=34, n_neighbors=10;, score=0.952 total time=   0.0s\n",
      "[CV 3/5] END algorithm=kd_tree, leaf_size=34, n_neighbors=10;, score=0.949 total time=   0.0s\n",
      "[CV 4/5] END algorithm=kd_tree, leaf_size=34, n_neighbors=10;, score=0.930 total time=   0.0s\n",
      "[CV 5/5] END algorithm=kd_tree, leaf_size=34, n_neighbors=10;, score=0.946 total time=   0.0s\n",
      "[CV 1/5] END algorithm=kd_tree, leaf_size=34, n_neighbors=11;, score=0.963 total time=   0.0s\n",
      "[CV 2/5] END algorithm=kd_tree, leaf_size=34, n_neighbors=11;, score=0.952 total time=   0.0s\n",
      "[CV 3/5] END algorithm=kd_tree, leaf_size=34, n_neighbors=11;, score=0.941 total time=   0.0s\n"
     ]
    },
    {
     "name": "stdout",
     "output_type": "stream",
     "text": [
      "[CV 4/5] END algorithm=kd_tree, leaf_size=34, n_neighbors=11;, score=0.932 total time=   0.0s\n",
      "[CV 5/5] END algorithm=kd_tree, leaf_size=34, n_neighbors=11;, score=0.952 total time=   0.0s\n",
      "[CV 1/5] END algorithm=kd_tree, leaf_size=34, n_neighbors=12;, score=0.963 total time=   0.0s\n",
      "[CV 2/5] END algorithm=kd_tree, leaf_size=34, n_neighbors=12;, score=0.952 total time=   0.0s\n",
      "[CV 3/5] END algorithm=kd_tree, leaf_size=34, n_neighbors=12;, score=0.952 total time=   0.0s\n",
      "[CV 4/5] END algorithm=kd_tree, leaf_size=34, n_neighbors=12;, score=0.927 total time=   0.0s\n",
      "[CV 5/5] END algorithm=kd_tree, leaf_size=34, n_neighbors=12;, score=0.949 total time=   0.0s\n",
      "[CV 1/5] END algorithm=kd_tree, leaf_size=34, n_neighbors=13;, score=0.969 total time=   0.0s\n",
      "[CV 2/5] END algorithm=kd_tree, leaf_size=34, n_neighbors=13;, score=0.952 total time=   0.0s\n",
      "[CV 3/5] END algorithm=kd_tree, leaf_size=34, n_neighbors=13;, score=0.952 total time=   0.0s\n",
      "[CV 4/5] END algorithm=kd_tree, leaf_size=34, n_neighbors=13;, score=0.930 total time=   0.0s\n",
      "[CV 5/5] END algorithm=kd_tree, leaf_size=34, n_neighbors=13;, score=0.946 total time=   0.0s\n",
      "[CV 1/5] END algorithm=brute, leaf_size=18, n_neighbors=3;, score=0.949 total time=   0.0s\n",
      "[CV 2/5] END algorithm=brute, leaf_size=18, n_neighbors=3;, score=0.944 total time=   0.0s\n",
      "[CV 3/5] END algorithm=brute, leaf_size=18, n_neighbors=3;, score=0.935 total time=   0.0s\n",
      "[CV 4/5] END algorithm=brute, leaf_size=18, n_neighbors=3;, score=0.949 total time=   0.0s\n",
      "[CV 5/5] END algorithm=brute, leaf_size=18, n_neighbors=3;, score=0.952 total time=   0.0s\n",
      "[CV 1/5] END algorithm=brute, leaf_size=18, n_neighbors=5;, score=0.961 total time=   0.0s\n",
      "[CV 2/5] END algorithm=brute, leaf_size=18, n_neighbors=5;, score=0.946 total time=   0.0s\n",
      "[CV 3/5] END algorithm=brute, leaf_size=18, n_neighbors=5;, score=0.938 total time=   0.0s\n",
      "[CV 4/5] END algorithm=brute, leaf_size=18, n_neighbors=5;, score=0.946 total time=   0.0s\n",
      "[CV 5/5] END algorithm=brute, leaf_size=18, n_neighbors=5;, score=0.946 total time=   0.0s\n",
      "[CV 1/5] END algorithm=brute, leaf_size=18, n_neighbors=7;, score=0.958 total time=   0.0s\n",
      "[CV 2/5] END algorithm=brute, leaf_size=18, n_neighbors=7;, score=0.949 total time=   0.0s\n",
      "[CV 3/5] END algorithm=brute, leaf_size=18, n_neighbors=7;, score=0.946 total time=   0.0s\n",
      "[CV 4/5] END algorithm=brute, leaf_size=18, n_neighbors=7;, score=0.930 total time=   0.0s\n",
      "[CV 5/5] END algorithm=brute, leaf_size=18, n_neighbors=7;, score=0.955 total time=   0.0s\n",
      "[CV 1/5] END algorithm=brute, leaf_size=18, n_neighbors=9;, score=0.955 total time=   0.0s\n",
      "[CV 2/5] END algorithm=brute, leaf_size=18, n_neighbors=9;, score=0.946 total time=   0.0s\n",
      "[CV 3/5] END algorithm=brute, leaf_size=18, n_neighbors=9;, score=0.944 total time=   0.0s\n",
      "[CV 4/5] END algorithm=brute, leaf_size=18, n_neighbors=9;, score=0.932 total time=   0.0s\n",
      "[CV 5/5] END algorithm=brute, leaf_size=18, n_neighbors=9;, score=0.958 total time=   0.0s\n",
      "[CV 1/5] END algorithm=brute, leaf_size=18, n_neighbors=10;, score=0.963 total time=   0.0s\n",
      "[CV 2/5] END algorithm=brute, leaf_size=18, n_neighbors=10;, score=0.952 total time=   0.0s\n",
      "[CV 3/5] END algorithm=brute, leaf_size=18, n_neighbors=10;, score=0.949 total time=   0.0s\n",
      "[CV 4/5] END algorithm=brute, leaf_size=18, n_neighbors=10;, score=0.930 total time=   0.0s\n",
      "[CV 5/5] END algorithm=brute, leaf_size=18, n_neighbors=10;, score=0.946 total time=   0.0s\n",
      "[CV 1/5] END algorithm=brute, leaf_size=18, n_neighbors=11;, score=0.963 total time=   0.0s\n",
      "[CV 2/5] END algorithm=brute, leaf_size=18, n_neighbors=11;, score=0.952 total time=   0.0s\n",
      "[CV 3/5] END algorithm=brute, leaf_size=18, n_neighbors=11;, score=0.941 total time=   0.0s\n",
      "[CV 4/5] END algorithm=brute, leaf_size=18, n_neighbors=11;, score=0.932 total time=   0.0s\n",
      "[CV 5/5] END algorithm=brute, leaf_size=18, n_neighbors=11;, score=0.952 total time=   0.0s\n",
      "[CV 1/5] END algorithm=brute, leaf_size=18, n_neighbors=12;, score=0.963 total time=   0.0s\n",
      "[CV 2/5] END algorithm=brute, leaf_size=18, n_neighbors=12;, score=0.952 total time=   0.0s\n",
      "[CV 3/5] END algorithm=brute, leaf_size=18, n_neighbors=12;, score=0.952 total time=   0.0s\n",
      "[CV 4/5] END algorithm=brute, leaf_size=18, n_neighbors=12;, score=0.927 total time=   0.0s\n",
      "[CV 5/5] END algorithm=brute, leaf_size=18, n_neighbors=12;, score=0.949 total time=   0.0s\n",
      "[CV 1/5] END algorithm=brute, leaf_size=18, n_neighbors=13;, score=0.969 total time=   0.0s\n",
      "[CV 2/5] END algorithm=brute, leaf_size=18, n_neighbors=13;, score=0.952 total time=   0.0s\n",
      "[CV 3/5] END algorithm=brute, leaf_size=18, n_neighbors=13;, score=0.952 total time=   0.0s\n",
      "[CV 4/5] END algorithm=brute, leaf_size=18, n_neighbors=13;, score=0.930 total time=   0.0s\n",
      "[CV 5/5] END algorithm=brute, leaf_size=18, n_neighbors=13;, score=0.946 total time=   0.0s\n",
      "[CV 1/5] END algorithm=brute, leaf_size=20, n_neighbors=3;, score=0.949 total time=   0.0s\n",
      "[CV 2/5] END algorithm=brute, leaf_size=20, n_neighbors=3;, score=0.944 total time=   0.0s\n",
      "[CV 3/5] END algorithm=brute, leaf_size=20, n_neighbors=3;, score=0.935 total time=   0.0s\n",
      "[CV 4/5] END algorithm=brute, leaf_size=20, n_neighbors=3;, score=0.949 total time=   0.0s\n",
      "[CV 5/5] END algorithm=brute, leaf_size=20, n_neighbors=3;, score=0.952 total time=   0.0s\n",
      "[CV 1/5] END algorithm=brute, leaf_size=20, n_neighbors=5;, score=0.961 total time=   0.0s\n",
      "[CV 2/5] END algorithm=brute, leaf_size=20, n_neighbors=5;, score=0.946 total time=   0.0s\n",
      "[CV 3/5] END algorithm=brute, leaf_size=20, n_neighbors=5;, score=0.938 total time=   0.0s\n",
      "[CV 4/5] END algorithm=brute, leaf_size=20, n_neighbors=5;, score=0.946 total time=   0.0s\n",
      "[CV 5/5] END algorithm=brute, leaf_size=20, n_neighbors=5;, score=0.946 total time=   0.0s\n",
      "[CV 1/5] END algorithm=brute, leaf_size=20, n_neighbors=7;, score=0.958 total time=   0.0s\n",
      "[CV 2/5] END algorithm=brute, leaf_size=20, n_neighbors=7;, score=0.949 total time=   0.0s\n",
      "[CV 3/5] END algorithm=brute, leaf_size=20, n_neighbors=7;, score=0.946 total time=   0.0s\n",
      "[CV 4/5] END algorithm=brute, leaf_size=20, n_neighbors=7;, score=0.930 total time=   0.0s\n",
      "[CV 5/5] END algorithm=brute, leaf_size=20, n_neighbors=7;, score=0.955 total time=   0.0s\n",
      "[CV 1/5] END algorithm=brute, leaf_size=20, n_neighbors=9;, score=0.955 total time=   0.0s\n",
      "[CV 2/5] END algorithm=brute, leaf_size=20, n_neighbors=9;, score=0.946 total time=   0.0s\n",
      "[CV 3/5] END algorithm=brute, leaf_size=20, n_neighbors=9;, score=0.944 total time=   0.0s\n",
      "[CV 4/5] END algorithm=brute, leaf_size=20, n_neighbors=9;, score=0.932 total time=   0.0s\n",
      "[CV 5/5] END algorithm=brute, leaf_size=20, n_neighbors=9;, score=0.958 total time=   0.0s\n",
      "[CV 1/5] END algorithm=brute, leaf_size=20, n_neighbors=10;, score=0.963 total time=   0.0s\n",
      "[CV 2/5] END algorithm=brute, leaf_size=20, n_neighbors=10;, score=0.952 total time=   0.0s\n",
      "[CV 3/5] END algorithm=brute, leaf_size=20, n_neighbors=10;, score=0.949 total time=   0.0s\n",
      "[CV 4/5] END algorithm=brute, leaf_size=20, n_neighbors=10;, score=0.930 total time=   0.0s\n",
      "[CV 5/5] END algorithm=brute, leaf_size=20, n_neighbors=10;, score=0.946 total time=   0.0s\n",
      "[CV 1/5] END algorithm=brute, leaf_size=20, n_neighbors=11;, score=0.963 total time=   0.0s\n",
      "[CV 2/5] END algorithm=brute, leaf_size=20, n_neighbors=11;, score=0.952 total time=   0.0s\n",
      "[CV 3/5] END algorithm=brute, leaf_size=20, n_neighbors=11;, score=0.941 total time=   0.0s\n",
      "[CV 4/5] END algorithm=brute, leaf_size=20, n_neighbors=11;, score=0.932 total time=   0.0s\n",
      "[CV 5/5] END algorithm=brute, leaf_size=20, n_neighbors=11;, score=0.952 total time=   0.0s\n",
      "[CV 1/5] END algorithm=brute, leaf_size=20, n_neighbors=12;, score=0.963 total time=   0.0s\n",
      "[CV 2/5] END algorithm=brute, leaf_size=20, n_neighbors=12;, score=0.952 total time=   0.0s\n",
      "[CV 3/5] END algorithm=brute, leaf_size=20, n_neighbors=12;, score=0.952 total time=   0.0s\n",
      "[CV 4/5] END algorithm=brute, leaf_size=20, n_neighbors=12;, score=0.927 total time=   0.0s\n",
      "[CV 5/5] END algorithm=brute, leaf_size=20, n_neighbors=12;, score=0.949 total time=   0.0s\n",
      "[CV 1/5] END algorithm=brute, leaf_size=20, n_neighbors=13;, score=0.969 total time=   0.0s\n",
      "[CV 2/5] END algorithm=brute, leaf_size=20, n_neighbors=13;, score=0.952 total time=   0.0s\n",
      "[CV 3/5] END algorithm=brute, leaf_size=20, n_neighbors=13;, score=0.952 total time=   0.0s\n",
      "[CV 4/5] END algorithm=brute, leaf_size=20, n_neighbors=13;, score=0.930 total time=   0.0s\n"
     ]
    },
    {
     "name": "stdout",
     "output_type": "stream",
     "text": [
      "[CV 5/5] END algorithm=brute, leaf_size=20, n_neighbors=13;, score=0.946 total time=   0.0s\n",
      "[CV 1/5] END algorithm=brute, leaf_size=25, n_neighbors=3;, score=0.949 total time=   0.0s\n",
      "[CV 2/5] END algorithm=brute, leaf_size=25, n_neighbors=3;, score=0.944 total time=   0.0s\n",
      "[CV 3/5] END algorithm=brute, leaf_size=25, n_neighbors=3;, score=0.935 total time=   0.0s\n",
      "[CV 4/5] END algorithm=brute, leaf_size=25, n_neighbors=3;, score=0.949 total time=   0.0s\n",
      "[CV 5/5] END algorithm=brute, leaf_size=25, n_neighbors=3;, score=0.952 total time=   0.0s\n",
      "[CV 1/5] END algorithm=brute, leaf_size=25, n_neighbors=5;, score=0.961 total time=   0.0s\n",
      "[CV 2/5] END algorithm=brute, leaf_size=25, n_neighbors=5;, score=0.946 total time=   0.0s\n",
      "[CV 3/5] END algorithm=brute, leaf_size=25, n_neighbors=5;, score=0.938 total time=   0.0s\n",
      "[CV 4/5] END algorithm=brute, leaf_size=25, n_neighbors=5;, score=0.946 total time=   0.0s\n",
      "[CV 5/5] END algorithm=brute, leaf_size=25, n_neighbors=5;, score=0.946 total time=   0.0s\n",
      "[CV 1/5] END algorithm=brute, leaf_size=25, n_neighbors=7;, score=0.958 total time=   0.0s\n",
      "[CV 2/5] END algorithm=brute, leaf_size=25, n_neighbors=7;, score=0.949 total time=   0.0s\n",
      "[CV 3/5] END algorithm=brute, leaf_size=25, n_neighbors=7;, score=0.946 total time=   0.0s\n",
      "[CV 4/5] END algorithm=brute, leaf_size=25, n_neighbors=7;, score=0.930 total time=   0.0s\n",
      "[CV 5/5] END algorithm=brute, leaf_size=25, n_neighbors=7;, score=0.955 total time=   0.0s\n",
      "[CV 1/5] END algorithm=brute, leaf_size=25, n_neighbors=9;, score=0.955 total time=   0.0s\n",
      "[CV 2/5] END algorithm=brute, leaf_size=25, n_neighbors=9;, score=0.946 total time=   0.0s\n",
      "[CV 3/5] END algorithm=brute, leaf_size=25, n_neighbors=9;, score=0.944 total time=   0.0s\n",
      "[CV 4/5] END algorithm=brute, leaf_size=25, n_neighbors=9;, score=0.932 total time=   0.0s\n",
      "[CV 5/5] END algorithm=brute, leaf_size=25, n_neighbors=9;, score=0.958 total time=   0.0s\n",
      "[CV 1/5] END algorithm=brute, leaf_size=25, n_neighbors=10;, score=0.963 total time=   0.0s\n",
      "[CV 2/5] END algorithm=brute, leaf_size=25, n_neighbors=10;, score=0.952 total time=   0.0s\n",
      "[CV 3/5] END algorithm=brute, leaf_size=25, n_neighbors=10;, score=0.949 total time=   0.0s\n",
      "[CV 4/5] END algorithm=brute, leaf_size=25, n_neighbors=10;, score=0.930 total time=   0.0s\n",
      "[CV 5/5] END algorithm=brute, leaf_size=25, n_neighbors=10;, score=0.946 total time=   0.0s\n",
      "[CV 1/5] END algorithm=brute, leaf_size=25, n_neighbors=11;, score=0.963 total time=   0.0s\n",
      "[CV 2/5] END algorithm=brute, leaf_size=25, n_neighbors=11;, score=0.952 total time=   0.0s\n",
      "[CV 3/5] END algorithm=brute, leaf_size=25, n_neighbors=11;, score=0.941 total time=   0.0s\n",
      "[CV 4/5] END algorithm=brute, leaf_size=25, n_neighbors=11;, score=0.932 total time=   0.0s\n",
      "[CV 5/5] END algorithm=brute, leaf_size=25, n_neighbors=11;, score=0.952 total time=   0.0s\n",
      "[CV 1/5] END algorithm=brute, leaf_size=25, n_neighbors=12;, score=0.963 total time=   0.0s\n",
      "[CV 2/5] END algorithm=brute, leaf_size=25, n_neighbors=12;, score=0.952 total time=   0.0s\n",
      "[CV 3/5] END algorithm=brute, leaf_size=25, n_neighbors=12;, score=0.952 total time=   0.0s\n",
      "[CV 4/5] END algorithm=brute, leaf_size=25, n_neighbors=12;, score=0.927 total time=   0.0s\n",
      "[CV 5/5] END algorithm=brute, leaf_size=25, n_neighbors=12;, score=0.949 total time=   0.0s\n",
      "[CV 1/5] END algorithm=brute, leaf_size=25, n_neighbors=13;, score=0.969 total time=   0.0s\n",
      "[CV 2/5] END algorithm=brute, leaf_size=25, n_neighbors=13;, score=0.952 total time=   0.0s\n",
      "[CV 3/5] END algorithm=brute, leaf_size=25, n_neighbors=13;, score=0.952 total time=   0.0s\n",
      "[CV 4/5] END algorithm=brute, leaf_size=25, n_neighbors=13;, score=0.930 total time=   0.0s\n",
      "[CV 5/5] END algorithm=brute, leaf_size=25, n_neighbors=13;, score=0.946 total time=   0.0s\n",
      "[CV 1/5] END algorithm=brute, leaf_size=27, n_neighbors=3;, score=0.949 total time=   0.0s\n",
      "[CV 2/5] END algorithm=brute, leaf_size=27, n_neighbors=3;, score=0.944 total time=   0.0s\n",
      "[CV 3/5] END algorithm=brute, leaf_size=27, n_neighbors=3;, score=0.935 total time=   0.0s\n",
      "[CV 4/5] END algorithm=brute, leaf_size=27, n_neighbors=3;, score=0.949 total time=   0.0s\n",
      "[CV 5/5] END algorithm=brute, leaf_size=27, n_neighbors=3;, score=0.952 total time=   0.0s\n",
      "[CV 1/5] END algorithm=brute, leaf_size=27, n_neighbors=5;, score=0.961 total time=   0.0s\n",
      "[CV 2/5] END algorithm=brute, leaf_size=27, n_neighbors=5;, score=0.946 total time=   0.0s\n",
      "[CV 3/5] END algorithm=brute, leaf_size=27, n_neighbors=5;, score=0.938 total time=   0.0s\n",
      "[CV 4/5] END algorithm=brute, leaf_size=27, n_neighbors=5;, score=0.946 total time=   0.0s\n",
      "[CV 5/5] END algorithm=brute, leaf_size=27, n_neighbors=5;, score=0.946 total time=   0.0s\n",
      "[CV 1/5] END algorithm=brute, leaf_size=27, n_neighbors=7;, score=0.958 total time=   0.0s\n",
      "[CV 2/5] END algorithm=brute, leaf_size=27, n_neighbors=7;, score=0.949 total time=   0.0s\n",
      "[CV 3/5] END algorithm=brute, leaf_size=27, n_neighbors=7;, score=0.946 total time=   0.0s\n",
      "[CV 4/5] END algorithm=brute, leaf_size=27, n_neighbors=7;, score=0.930 total time=   0.0s\n",
      "[CV 5/5] END algorithm=brute, leaf_size=27, n_neighbors=7;, score=0.955 total time=   0.0s\n",
      "[CV 1/5] END algorithm=brute, leaf_size=27, n_neighbors=9;, score=0.955 total time=   0.0s\n",
      "[CV 2/5] END algorithm=brute, leaf_size=27, n_neighbors=9;, score=0.946 total time=   0.0s\n",
      "[CV 3/5] END algorithm=brute, leaf_size=27, n_neighbors=9;, score=0.944 total time=   0.0s\n",
      "[CV 4/5] END algorithm=brute, leaf_size=27, n_neighbors=9;, score=0.932 total time=   0.0s\n",
      "[CV 5/5] END algorithm=brute, leaf_size=27, n_neighbors=9;, score=0.958 total time=   0.0s\n",
      "[CV 1/5] END algorithm=brute, leaf_size=27, n_neighbors=10;, score=0.963 total time=   0.0s\n",
      "[CV 2/5] END algorithm=brute, leaf_size=27, n_neighbors=10;, score=0.952 total time=   0.0s\n",
      "[CV 3/5] END algorithm=brute, leaf_size=27, n_neighbors=10;, score=0.949 total time=   0.0s\n",
      "[CV 4/5] END algorithm=brute, leaf_size=27, n_neighbors=10;, score=0.930 total time=   0.0s\n",
      "[CV 5/5] END algorithm=brute, leaf_size=27, n_neighbors=10;, score=0.946 total time=   0.0s\n",
      "[CV 1/5] END algorithm=brute, leaf_size=27, n_neighbors=11;, score=0.963 total time=   0.0s\n",
      "[CV 2/5] END algorithm=brute, leaf_size=27, n_neighbors=11;, score=0.952 total time=   0.0s\n",
      "[CV 3/5] END algorithm=brute, leaf_size=27, n_neighbors=11;, score=0.941 total time=   0.0s\n",
      "[CV 4/5] END algorithm=brute, leaf_size=27, n_neighbors=11;, score=0.932 total time=   0.0s\n",
      "[CV 5/5] END algorithm=brute, leaf_size=27, n_neighbors=11;, score=0.952 total time=   0.0s\n",
      "[CV 1/5] END algorithm=brute, leaf_size=27, n_neighbors=12;, score=0.963 total time=   0.0s\n",
      "[CV 2/5] END algorithm=brute, leaf_size=27, n_neighbors=12;, score=0.952 total time=   0.0s\n",
      "[CV 3/5] END algorithm=brute, leaf_size=27, n_neighbors=12;, score=0.952 total time=   0.0s\n",
      "[CV 4/5] END algorithm=brute, leaf_size=27, n_neighbors=12;, score=0.927 total time=   0.0s\n",
      "[CV 5/5] END algorithm=brute, leaf_size=27, n_neighbors=12;, score=0.949 total time=   0.0s\n",
      "[CV 1/5] END algorithm=brute, leaf_size=27, n_neighbors=13;, score=0.969 total time=   0.0s\n",
      "[CV 2/5] END algorithm=brute, leaf_size=27, n_neighbors=13;, score=0.952 total time=   0.0s\n",
      "[CV 3/5] END algorithm=brute, leaf_size=27, n_neighbors=13;, score=0.952 total time=   0.0s\n",
      "[CV 4/5] END algorithm=brute, leaf_size=27, n_neighbors=13;, score=0.930 total time=   0.0s\n",
      "[CV 5/5] END algorithm=brute, leaf_size=27, n_neighbors=13;, score=0.946 total time=   0.0s\n",
      "[CV 1/5] END algorithm=brute, leaf_size=30, n_neighbors=3;, score=0.949 total time=   0.0s\n",
      "[CV 2/5] END algorithm=brute, leaf_size=30, n_neighbors=3;, score=0.944 total time=   0.0s\n",
      "[CV 3/5] END algorithm=brute, leaf_size=30, n_neighbors=3;, score=0.935 total time=   0.0s\n",
      "[CV 4/5] END algorithm=brute, leaf_size=30, n_neighbors=3;, score=0.949 total time=   0.0s\n",
      "[CV 5/5] END algorithm=brute, leaf_size=30, n_neighbors=3;, score=0.952 total time=   0.0s\n",
      "[CV 1/5] END algorithm=brute, leaf_size=30, n_neighbors=5;, score=0.961 total time=   0.0s\n",
      "[CV 2/5] END algorithm=brute, leaf_size=30, n_neighbors=5;, score=0.946 total time=   0.0s\n",
      "[CV 3/5] END algorithm=brute, leaf_size=30, n_neighbors=5;, score=0.938 total time=   0.0s\n"
     ]
    },
    {
     "name": "stdout",
     "output_type": "stream",
     "text": [
      "[CV 4/5] END algorithm=brute, leaf_size=30, n_neighbors=5;, score=0.946 total time=   0.0s\n",
      "[CV 5/5] END algorithm=brute, leaf_size=30, n_neighbors=5;, score=0.946 total time=   0.0s\n",
      "[CV 1/5] END algorithm=brute, leaf_size=30, n_neighbors=7;, score=0.958 total time=   0.0s\n",
      "[CV 2/5] END algorithm=brute, leaf_size=30, n_neighbors=7;, score=0.949 total time=   0.0s\n",
      "[CV 3/5] END algorithm=brute, leaf_size=30, n_neighbors=7;, score=0.946 total time=   0.0s\n",
      "[CV 4/5] END algorithm=brute, leaf_size=30, n_neighbors=7;, score=0.930 total time=   0.0s\n",
      "[CV 5/5] END algorithm=brute, leaf_size=30, n_neighbors=7;, score=0.955 total time=   0.0s\n",
      "[CV 1/5] END algorithm=brute, leaf_size=30, n_neighbors=9;, score=0.955 total time=   0.0s\n",
      "[CV 2/5] END algorithm=brute, leaf_size=30, n_neighbors=9;, score=0.946 total time=   0.0s\n",
      "[CV 3/5] END algorithm=brute, leaf_size=30, n_neighbors=9;, score=0.944 total time=   0.0s\n",
      "[CV 4/5] END algorithm=brute, leaf_size=30, n_neighbors=9;, score=0.932 total time=   0.0s\n",
      "[CV 5/5] END algorithm=brute, leaf_size=30, n_neighbors=9;, score=0.958 total time=   0.0s\n",
      "[CV 1/5] END algorithm=brute, leaf_size=30, n_neighbors=10;, score=0.963 total time=   0.0s\n",
      "[CV 2/5] END algorithm=brute, leaf_size=30, n_neighbors=10;, score=0.952 total time=   0.0s\n",
      "[CV 3/5] END algorithm=brute, leaf_size=30, n_neighbors=10;, score=0.949 total time=   0.0s\n",
      "[CV 4/5] END algorithm=brute, leaf_size=30, n_neighbors=10;, score=0.930 total time=   0.0s\n",
      "[CV 5/5] END algorithm=brute, leaf_size=30, n_neighbors=10;, score=0.946 total time=   0.0s\n",
      "[CV 1/5] END algorithm=brute, leaf_size=30, n_neighbors=11;, score=0.963 total time=   0.0s\n",
      "[CV 2/5] END algorithm=brute, leaf_size=30, n_neighbors=11;, score=0.952 total time=   0.0s\n",
      "[CV 3/5] END algorithm=brute, leaf_size=30, n_neighbors=11;, score=0.941 total time=   0.0s\n",
      "[CV 4/5] END algorithm=brute, leaf_size=30, n_neighbors=11;, score=0.932 total time=   0.0s\n",
      "[CV 5/5] END algorithm=brute, leaf_size=30, n_neighbors=11;, score=0.952 total time=   0.0s\n",
      "[CV 1/5] END algorithm=brute, leaf_size=30, n_neighbors=12;, score=0.963 total time=   0.0s\n",
      "[CV 2/5] END algorithm=brute, leaf_size=30, n_neighbors=12;, score=0.952 total time=   0.0s\n",
      "[CV 3/5] END algorithm=brute, leaf_size=30, n_neighbors=12;, score=0.952 total time=   0.0s\n",
      "[CV 4/5] END algorithm=brute, leaf_size=30, n_neighbors=12;, score=0.927 total time=   0.0s\n",
      "[CV 5/5] END algorithm=brute, leaf_size=30, n_neighbors=12;, score=0.949 total time=   0.0s\n",
      "[CV 1/5] END algorithm=brute, leaf_size=30, n_neighbors=13;, score=0.969 total time=   0.0s\n",
      "[CV 2/5] END algorithm=brute, leaf_size=30, n_neighbors=13;, score=0.952 total time=   0.0s\n",
      "[CV 3/5] END algorithm=brute, leaf_size=30, n_neighbors=13;, score=0.952 total time=   0.0s\n",
      "[CV 4/5] END algorithm=brute, leaf_size=30, n_neighbors=13;, score=0.930 total time=   0.0s\n",
      "[CV 5/5] END algorithm=brute, leaf_size=30, n_neighbors=13;, score=0.946 total time=   0.0s\n",
      "[CV 1/5] END algorithm=brute, leaf_size=32, n_neighbors=3;, score=0.949 total time=   0.0s\n",
      "[CV 2/5] END algorithm=brute, leaf_size=32, n_neighbors=3;, score=0.944 total time=   0.0s\n",
      "[CV 3/5] END algorithm=brute, leaf_size=32, n_neighbors=3;, score=0.935 total time=   0.0s\n",
      "[CV 4/5] END algorithm=brute, leaf_size=32, n_neighbors=3;, score=0.949 total time=   0.0s\n",
      "[CV 5/5] END algorithm=brute, leaf_size=32, n_neighbors=3;, score=0.952 total time=   0.0s\n",
      "[CV 1/5] END algorithm=brute, leaf_size=32, n_neighbors=5;, score=0.961 total time=   0.0s\n",
      "[CV 2/5] END algorithm=brute, leaf_size=32, n_neighbors=5;, score=0.946 total time=   0.0s\n",
      "[CV 3/5] END algorithm=brute, leaf_size=32, n_neighbors=5;, score=0.938 total time=   0.0s\n",
      "[CV 4/5] END algorithm=brute, leaf_size=32, n_neighbors=5;, score=0.946 total time=   0.0s\n",
      "[CV 5/5] END algorithm=brute, leaf_size=32, n_neighbors=5;, score=0.946 total time=   0.0s\n",
      "[CV 1/5] END algorithm=brute, leaf_size=32, n_neighbors=7;, score=0.958 total time=   0.0s\n",
      "[CV 2/5] END algorithm=brute, leaf_size=32, n_neighbors=7;, score=0.949 total time=   0.0s\n",
      "[CV 3/5] END algorithm=brute, leaf_size=32, n_neighbors=7;, score=0.946 total time=   0.0s\n",
      "[CV 4/5] END algorithm=brute, leaf_size=32, n_neighbors=7;, score=0.930 total time=   0.0s\n",
      "[CV 5/5] END algorithm=brute, leaf_size=32, n_neighbors=7;, score=0.955 total time=   0.0s\n",
      "[CV 1/5] END algorithm=brute, leaf_size=32, n_neighbors=9;, score=0.955 total time=   0.0s\n",
      "[CV 2/5] END algorithm=brute, leaf_size=32, n_neighbors=9;, score=0.946 total time=   0.0s\n",
      "[CV 3/5] END algorithm=brute, leaf_size=32, n_neighbors=9;, score=0.944 total time=   0.0s\n",
      "[CV 4/5] END algorithm=brute, leaf_size=32, n_neighbors=9;, score=0.932 total time=   0.0s\n",
      "[CV 5/5] END algorithm=brute, leaf_size=32, n_neighbors=9;, score=0.958 total time=   0.0s\n",
      "[CV 1/5] END algorithm=brute, leaf_size=32, n_neighbors=10;, score=0.963 total time=   0.0s\n",
      "[CV 2/5] END algorithm=brute, leaf_size=32, n_neighbors=10;, score=0.952 total time=   0.0s\n",
      "[CV 3/5] END algorithm=brute, leaf_size=32, n_neighbors=10;, score=0.949 total time=   0.0s\n",
      "[CV 4/5] END algorithm=brute, leaf_size=32, n_neighbors=10;, score=0.930 total time=   0.0s\n",
      "[CV 5/5] END algorithm=brute, leaf_size=32, n_neighbors=10;, score=0.946 total time=   0.0s\n",
      "[CV 1/5] END algorithm=brute, leaf_size=32, n_neighbors=11;, score=0.963 total time=   0.0s\n",
      "[CV 2/5] END algorithm=brute, leaf_size=32, n_neighbors=11;, score=0.952 total time=   0.0s\n",
      "[CV 3/5] END algorithm=brute, leaf_size=32, n_neighbors=11;, score=0.941 total time=   0.0s\n",
      "[CV 4/5] END algorithm=brute, leaf_size=32, n_neighbors=11;, score=0.932 total time=   0.0s\n",
      "[CV 5/5] END algorithm=brute, leaf_size=32, n_neighbors=11;, score=0.952 total time=   0.0s\n",
      "[CV 1/5] END algorithm=brute, leaf_size=32, n_neighbors=12;, score=0.963 total time=   0.0s\n",
      "[CV 2/5] END algorithm=brute, leaf_size=32, n_neighbors=12;, score=0.952 total time=   0.0s\n",
      "[CV 3/5] END algorithm=brute, leaf_size=32, n_neighbors=12;, score=0.952 total time=   0.0s\n",
      "[CV 4/5] END algorithm=brute, leaf_size=32, n_neighbors=12;, score=0.927 total time=   0.0s\n",
      "[CV 5/5] END algorithm=brute, leaf_size=32, n_neighbors=12;, score=0.949 total time=   0.0s\n",
      "[CV 1/5] END algorithm=brute, leaf_size=32, n_neighbors=13;, score=0.969 total time=   0.0s\n",
      "[CV 2/5] END algorithm=brute, leaf_size=32, n_neighbors=13;, score=0.952 total time=   0.0s\n",
      "[CV 3/5] END algorithm=brute, leaf_size=32, n_neighbors=13;, score=0.952 total time=   0.0s\n",
      "[CV 4/5] END algorithm=brute, leaf_size=32, n_neighbors=13;, score=0.930 total time=   0.0s\n",
      "[CV 5/5] END algorithm=brute, leaf_size=32, n_neighbors=13;, score=0.946 total time=   0.0s\n",
      "[CV 1/5] END algorithm=brute, leaf_size=34, n_neighbors=3;, score=0.949 total time=   0.0s\n",
      "[CV 2/5] END algorithm=brute, leaf_size=34, n_neighbors=3;, score=0.944 total time=   0.0s\n",
      "[CV 3/5] END algorithm=brute, leaf_size=34, n_neighbors=3;, score=0.935 total time=   0.0s\n",
      "[CV 4/5] END algorithm=brute, leaf_size=34, n_neighbors=3;, score=0.949 total time=   0.0s\n",
      "[CV 5/5] END algorithm=brute, leaf_size=34, n_neighbors=3;, score=0.952 total time=   0.0s\n",
      "[CV 1/5] END algorithm=brute, leaf_size=34, n_neighbors=5;, score=0.961 total time=   0.0s\n",
      "[CV 2/5] END algorithm=brute, leaf_size=34, n_neighbors=5;, score=0.946 total time=   0.0s\n",
      "[CV 3/5] END algorithm=brute, leaf_size=34, n_neighbors=5;, score=0.938 total time=   0.0s\n",
      "[CV 4/5] END algorithm=brute, leaf_size=34, n_neighbors=5;, score=0.946 total time=   0.0s\n",
      "[CV 5/5] END algorithm=brute, leaf_size=34, n_neighbors=5;, score=0.946 total time=   0.0s\n",
      "[CV 1/5] END algorithm=brute, leaf_size=34, n_neighbors=7;, score=0.958 total time=   0.0s\n",
      "[CV 2/5] END algorithm=brute, leaf_size=34, n_neighbors=7;, score=0.949 total time=   0.0s\n",
      "[CV 3/5] END algorithm=brute, leaf_size=34, n_neighbors=7;, score=0.946 total time=   0.0s\n",
      "[CV 4/5] END algorithm=brute, leaf_size=34, n_neighbors=7;, score=0.930 total time=   0.0s\n",
      "[CV 5/5] END algorithm=brute, leaf_size=34, n_neighbors=7;, score=0.955 total time=   0.0s\n",
      "[CV 1/5] END algorithm=brute, leaf_size=34, n_neighbors=9;, score=0.955 total time=   0.0s\n",
      "[CV 2/5] END algorithm=brute, leaf_size=34, n_neighbors=9;, score=0.946 total time=   0.0s\n",
      "[CV 3/5] END algorithm=brute, leaf_size=34, n_neighbors=9;, score=0.944 total time=   0.0s\n",
      "[CV 4/5] END algorithm=brute, leaf_size=34, n_neighbors=9;, score=0.932 total time=   0.0s\n"
     ]
    },
    {
     "name": "stdout",
     "output_type": "stream",
     "text": [
      "[CV 5/5] END algorithm=brute, leaf_size=34, n_neighbors=9;, score=0.958 total time=   0.0s\n",
      "[CV 1/5] END algorithm=brute, leaf_size=34, n_neighbors=10;, score=0.963 total time=   0.0s\n",
      "[CV 2/5] END algorithm=brute, leaf_size=34, n_neighbors=10;, score=0.952 total time=   0.0s\n",
      "[CV 3/5] END algorithm=brute, leaf_size=34, n_neighbors=10;, score=0.949 total time=   0.0s\n",
      "[CV 4/5] END algorithm=brute, leaf_size=34, n_neighbors=10;, score=0.930 total time=   0.0s\n",
      "[CV 5/5] END algorithm=brute, leaf_size=34, n_neighbors=10;, score=0.946 total time=   0.0s\n",
      "[CV 1/5] END algorithm=brute, leaf_size=34, n_neighbors=11;, score=0.963 total time=   0.0s\n",
      "[CV 2/5] END algorithm=brute, leaf_size=34, n_neighbors=11;, score=0.952 total time=   0.0s\n",
      "[CV 3/5] END algorithm=brute, leaf_size=34, n_neighbors=11;, score=0.941 total time=   0.0s\n",
      "[CV 4/5] END algorithm=brute, leaf_size=34, n_neighbors=11;, score=0.932 total time=   0.0s\n",
      "[CV 5/5] END algorithm=brute, leaf_size=34, n_neighbors=11;, score=0.952 total time=   0.0s\n",
      "[CV 1/5] END algorithm=brute, leaf_size=34, n_neighbors=12;, score=0.963 total time=   0.0s\n",
      "[CV 2/5] END algorithm=brute, leaf_size=34, n_neighbors=12;, score=0.952 total time=   0.0s\n",
      "[CV 3/5] END algorithm=brute, leaf_size=34, n_neighbors=12;, score=0.952 total time=   0.0s\n",
      "[CV 4/5] END algorithm=brute, leaf_size=34, n_neighbors=12;, score=0.927 total time=   0.0s\n",
      "[CV 5/5] END algorithm=brute, leaf_size=34, n_neighbors=12;, score=0.949 total time=   0.0s\n",
      "[CV 1/5] END algorithm=brute, leaf_size=34, n_neighbors=13;, score=0.969 total time=   0.0s\n",
      "[CV 2/5] END algorithm=brute, leaf_size=34, n_neighbors=13;, score=0.952 total time=   0.0s\n",
      "[CV 3/5] END algorithm=brute, leaf_size=34, n_neighbors=13;, score=0.952 total time=   0.0s\n",
      "[CV 4/5] END algorithm=brute, leaf_size=34, n_neighbors=13;, score=0.930 total time=   0.0s\n",
      "[CV 5/5] END algorithm=brute, leaf_size=34, n_neighbors=13;, score=0.946 total time=   0.0s\n"
     ]
    },
    {
     "data": {
      "text/plain": [
       "GridSearchCV(estimator=KNeighborsClassifier(),\n",
       "             param_grid={'algorithm': ['ball_tree', 'kd_tree', 'brute'],\n",
       "                         'leaf_size': [18, 20, 25, 27, 30, 32, 34],\n",
       "                         'n_neighbors': [3, 5, 7, 9, 10, 11, 12, 13]},\n",
       "             verbose=3)"
      ]
     },
     "execution_count": 75,
     "metadata": {},
     "output_type": "execute_result"
    }
   ],
   "source": [
    "gridsearch.fit(x_train,y_train)"
   ]
  },
  {
   "cell_type": "code",
   "execution_count": 76,
   "metadata": {},
   "outputs": [
    {
     "data": {
      "text/plain": [
       "<bound method BaseEstimator.get_params of GridSearchCV(estimator=KNeighborsClassifier(),\n",
       "             param_grid={'algorithm': ['ball_tree', 'kd_tree', 'brute'],\n",
       "                         'leaf_size': [18, 20, 25, 27, 30, 32, 34],\n",
       "                         'n_neighbors': [3, 5, 7, 9, 10, 11, 12, 13]},\n",
       "             verbose=3)>"
      ]
     },
     "execution_count": 76,
     "metadata": {},
     "output_type": "execute_result"
    }
   ],
   "source": [
    "gridsearch.get_params"
   ]
  },
  {
   "cell_type": "code",
   "execution_count": 77,
   "metadata": {},
   "outputs": [
    {
     "data": {
      "text/plain": [
       "{'algorithm': 'ball_tree', 'leaf_size': 18, 'n_neighbors': 13}"
      ]
     },
     "execution_count": 77,
     "metadata": {},
     "output_type": "execute_result"
    }
   ],
   "source": [
    "gridsearch.best_params_"
   ]
  },
  {
   "cell_type": "code",
   "execution_count": 78,
   "metadata": {},
   "outputs": [
    {
     "data": {
      "text/plain": [
       "KNeighborsClassifier(algorithm='ball_tree', leaf_size=18, n_neighbors=12)"
      ]
     },
     "execution_count": 78,
     "metadata": {},
     "output_type": "execute_result"
    }
   ],
   "source": [
    "knn = KNeighborsClassifier(algorithm = 'ball_tree', leaf_size =18, n_neighbors =12)\n",
    "knn.fit(x_train,y_train)"
   ]
  },
  {
   "cell_type": "code",
   "execution_count": 79,
   "metadata": {},
   "outputs": [],
   "source": [
    "def generate_pred__KNN(modelname,model,x_train,x_test,y_train,y_test):\n",
    "    knn=KNeighborsClassifier()\n",
    "    \n",
    "    knn.fit(x_train,y_train)\n",
    "    y_train_pred=knn.predict(x_train)\n",
    "\n",
    "    \n",
    "    \n",
    "    print(\"------Evaluation metrics for training data set--------\")\n",
    "    Accuracy_train=metrics.accuracy_score(y_train,y_train_pred)\n",
    "    precision_train=metrics.precision_score(y_train,y_train_pred)\n",
    "    recall_train=metrics.recall_score(y_train,y_train_pred)\n",
    "    f1_score_train=metrics.f1_score(y_train,y_train_pred)\n",
    "    roc_auc_train=metrics.roc_auc_score(y_train,y_train_pred)\n",
    "    recall=metrics.recall_score(y_train,y_train_pred)\n",
    "    print(\"modelname-\",modelname)\n",
    "    print(\"Accuracy is \",Accuracy_train)\n",
    "    print(\"Precision score is \",precision_train)\n",
    "    print(\"f1 SCore score is \",f1_score_train)\n",
    "    print(\"Roc_Auc score is\",roc_auc_train)\n",
    "    print(\"Recall score is\",recall)\n",
    "    \n",
    "    print(\"-------Evaluation metrics for test dataset--------\")\n",
    "    y_test_pred=knn.predict(x_test)\n",
    "    Accuracy_test=metrics.accuracy_score(y_test,y_test_pred)\n",
    "    precision_test=metrics.precision_score(y_test,y_test_pred)\n",
    "    recall_test=metrics.recall_score(y_test,y_test_pred)\n",
    "    f1_score_test=metrics.f1_score(y_test,y_test_pred)\n",
    "    roc_auc_test=metrics.roc_auc_score(y_test,y_test_pred)\n",
    "    recall=metrics.recall_score(y_test,y_test_pred)\n",
    "    print(\"modelname-\",modelname)\n",
    "    print(\"Accuracy is \",Accuracy_test)\n",
    "    print(\"Precision score is \",precision_test)\n",
    "    print(\"f1 SCore score is \",f1_score_test)\n",
    "    print(\"Roc_Auc score is\",roc_auc_test)\n",
    "    print(\"Recall score is\",recall)"
   ]
  },
  {
   "cell_type": "code",
   "execution_count": 80,
   "metadata": {},
   "outputs": [
    {
     "name": "stdout",
     "output_type": "stream",
     "text": [
      "------Evaluation metrics for training data set--------\n",
      "modelname- KNN\n",
      "Accuracy is  0.9673239436619718\n",
      "Precision score is  0.9641943734015346\n",
      "f1 SCore score is  0.962962962962963\n",
      "Roc_Auc score is 0.9667402026400873\n",
      "Recall score is 0.9617346938775511\n",
      "-------Evaluation metrics for test dataset--------\n",
      "modelname- KNN\n",
      "Accuracy is  0.9572072072072072\n",
      "Precision score is  0.9540816326530612\n",
      "f1 SCore score is  0.9516539440203563\n",
      "Roc_Auc score is 0.9564006658583202\n",
      "Recall score is 0.949238578680203\n"
     ]
    }
   ],
   "source": [
    "generate_pred__KNN(\"KNN\",knn,x_train,x_test,y_train,y_test)"
   ]
  },
  {
   "cell_type": "code",
   "execution_count": 81,
   "metadata": {},
   "outputs": [
    {
     "data": {
      "text/html": [
       "<div>\n",
       "<style scoped>\n",
       "    .dataframe tbody tr th:only-of-type {\n",
       "        vertical-align: middle;\n",
       "    }\n",
       "\n",
       "    .dataframe tbody tr th {\n",
       "        vertical-align: top;\n",
       "    }\n",
       "\n",
       "    .dataframe thead th {\n",
       "        text-align: right;\n",
       "    }\n",
       "</style>\n",
       "<table border=\"1\" class=\"dataframe\">\n",
       "  <thead>\n",
       "    <tr style=\"text-align: right;\">\n",
       "      <th></th>\n",
       "      <th>Algorithm</th>\n",
       "      <th>Accuracy</th>\n",
       "      <th>Precision_score</th>\n",
       "      <th>Recall_Score</th>\n",
       "      <th>F1_score</th>\n",
       "      <th>roc_auc_score</th>\n",
       "    </tr>\n",
       "  </thead>\n",
       "  <tbody>\n",
       "    <tr>\n",
       "      <th>12</th>\n",
       "      <td>KNeighborsClassifier_Train_para</td>\n",
       "      <td>0.72</td>\n",
       "      <td>0.964194</td>\n",
       "      <td>0.961735</td>\n",
       "      <td>0.962963</td>\n",
       "      <td>0.96674</td>\n",
       "    </tr>\n",
       "  </tbody>\n",
       "</table>\n",
       "</div>"
      ],
      "text/plain": [
       "                          Algorithm  Accuracy  Precision_score  Recall_Score  \\\n",
       "12  KNeighborsClassifier_Train_para      0.72         0.964194      0.961735   \n",
       "\n",
       "    F1_score  roc_auc_score  \n",
       "12  0.962963        0.96674  "
      ]
     },
     "execution_count": 81,
     "metadata": {},
     "output_type": "execute_result"
    }
   ],
   "source": [
    "result_01 = pd.DataFrame({'Algorithm':['KNeighborsClassifier_Train_para'],'Accuracy':0.72,'Precision_score':0.9641943,'Recall_Score':0.96173469,'F1_score':0.96296296,'roc_auc_score':0.9667402},index={'12'})\n",
    "Train_results = result_01[['Algorithm','Accuracy','Precision_score','Recall_Score','F1_score','roc_auc_score']]\n",
    "Train_results"
   ]
  },
  {
   "cell_type": "code",
   "execution_count": 82,
   "metadata": {},
   "outputs": [
    {
     "data": {
      "text/html": [
       "<div>\n",
       "<style scoped>\n",
       "    .dataframe tbody tr th:only-of-type {\n",
       "        vertical-align: middle;\n",
       "    }\n",
       "\n",
       "    .dataframe tbody tr th {\n",
       "        vertical-align: top;\n",
       "    }\n",
       "\n",
       "    .dataframe thead th {\n",
       "        text-align: right;\n",
       "    }\n",
       "</style>\n",
       "<table border=\"1\" class=\"dataframe\">\n",
       "  <thead>\n",
       "    <tr style=\"text-align: right;\">\n",
       "      <th></th>\n",
       "      <th>Algorithm</th>\n",
       "      <th>Accuracy</th>\n",
       "      <th>Precision_score</th>\n",
       "      <th>Recall_Score</th>\n",
       "      <th>F1_score</th>\n",
       "      <th>roc_auc_score</th>\n",
       "    </tr>\n",
       "  </thead>\n",
       "  <tbody>\n",
       "    <tr>\n",
       "      <th>12</th>\n",
       "      <td>KNeighborsClassifier_Test_para</td>\n",
       "      <td>0.957207</td>\n",
       "      <td>0.954081</td>\n",
       "      <td>0.949238</td>\n",
       "      <td>0.951654</td>\n",
       "      <td>0.956401</td>\n",
       "    </tr>\n",
       "  </tbody>\n",
       "</table>\n",
       "</div>"
      ],
      "text/plain": [
       "                         Algorithm  Accuracy  Precision_score  Recall_Score  \\\n",
       "12  KNeighborsClassifier_Test_para  0.957207         0.954081      0.949238   \n",
       "\n",
       "    F1_score  roc_auc_score  \n",
       "12  0.951654       0.956401  "
      ]
     },
     "execution_count": 82,
     "metadata": {},
     "output_type": "execute_result"
    }
   ],
   "source": [
    "result_01 = pd.DataFrame({'Algorithm':['KNeighborsClassifier_Test_para'],'Accuracy':0.95720720,'Precision_score':0.954081,'Recall_Score': 0.949238,'F1_score':0.9516539,'roc_auc_score':0.9564006},index={'12'})\n",
    "Train_results = result_01[['Algorithm','Accuracy','Precision_score','Recall_Score','F1_score','roc_auc_score']]\n",
    "Train_results"
   ]
  },
  {
   "cell_type": "markdown",
   "metadata": {},
   "source": [
    "# Knn  Algorithm performing very in this data set.\n",
    "observation\n",
    "\n",
    "In ROC, we can summarize the model predictability based on the area under curve (AUC). AUC range from 0.5 to 1 and a model with higher AUC has higher predictability. AUC refers to the probability that randomly chosen benign patients will have high chances of classification as benign than randomly chosen malignant patients. The fitted model has AUC 0.96674  better predictability in classification for dataset. The points lying above the chance level and close to grey line (perfect performance) represents a model with higher predictability. The accuracy of the fitted model is0.957207. Even though accuracy is a measure of model performance. The AUC outperforms accuracy for model predictability. Two models can have the same accuracy but can differ in AUC. The models which are evaluated solely on accuracy may lead to misleading classification.\n",
    "\n"
   ]
  },
  {
   "cell_type": "markdown",
   "metadata": {},
   "source": [
    "This is how KNN works\n",
    "Surprisingly enough, the KNN algorithm is quite accessible and easy to understand. For an observation that’s not in the dataset, the algorithm will simply look for the K number of instances defined as similar based on the closest perimeter to that observation. Any data point falls under a specific group if it’s close enough to it.\n",
    "More formally given a +ve integer k an unseen observation x and a. Similarity metric d, kNN Classifier performs the following two steps.\n",
    "It runs through the whole dataset computing d between x and each training observation. We’ll call k points in the training dataset to x the set A. Note that k is usually odd to prevent a situation.\n",
    "It then estimates the conditional probability for each class, which is the fraction of points in A with that given class label.\n",
    "‘’kNN searches the memorized training observation for the instances that most closely resemble the new instance & assign to it their most common class’’\n",
    "An alternate way of understanding kNN is by thinking about it as calculating a decision boundary (i.e boundaries for more than two classes) which is then used to classify new points.\n",
    "Dataset:\n",
    "This dataset is about Iris was taken from the UCI Repository. In this dataset, we have 3 attributes which have sepal length, sepal width, and species. Species have a target attribute. In target attribute, we have three species (Setosa, Virginia, and Versicolor) and our target finds the nearest species which belong from three species using the k-Nearest Neighbors."
   ]
  },
  {
   "cell_type": "markdown",
   "metadata": {},
   "source": [
    "from these algorithm knn is working very well its showing around 95.7% accuracy.And it is also showing high precison,recall,auc and f1 score around 95% to 96% but in SVM and logistic regression these score are very less and but in deceision tree i am getting around 91%-92% precison,recall,auc and f1 score which is slightly less than KNN."
   ]
  },
  {
   "cell_type": "markdown",
   "metadata": {},
   "source": [
    "Precision quantifies the number of positive class predictions that actually belong to the positive class. Recall quantifies the number of positive class predictions made out of all positive examples in the dataset. F-Measure provides a single score that balances both the concerns of precision and recall in one number"
   ]
  },
  {
   "cell_type": "markdown",
   "metadata": {},
   "source": [
    "Usage of KNN:\n",
    "The KNN algorithm can compete with the most accurate models because it makes highly accurate predictions. Therefore, you can use the KNN algorithm for applications that require high accuracy but that do not require a human-readable model. The quality of the predictions depends on the distance measure."
   ]
  },
  {
   "cell_type": "markdown",
   "metadata": {},
   "source": [
    "K-NN is a lazy learner \n",
    "because it doesn't learn a discriminative function from the training data but “memorizes” the training dataset instead. For example, the logistic regression algorithm learns its model weights (parameters) during training time. ... A lazy learner does not have a training phase."
   ]
  },
  {
   "cell_type": "code",
   "execution_count": null,
   "metadata": {},
   "outputs": [],
   "source": []
  }
 ],
 "metadata": {
  "kernelspec": {
   "display_name": "Python 3",
   "language": "python",
   "name": "python3"
  },
  "language_info": {
   "codemirror_mode": {
    "name": "ipython",
    "version": 3
   },
   "file_extension": ".py",
   "mimetype": "text/x-python",
   "name": "python",
   "nbconvert_exporter": "python",
   "pygments_lexer": "ipython3",
   "version": "3.8.5"
  }
 },
 "nbformat": 4,
 "nbformat_minor": 4
}
